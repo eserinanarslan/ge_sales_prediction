{
 "cells": [
  {
   "cell_type": "markdown",
   "metadata": {
    "colab_type": "text",
    "id": "3eg8tQyfYHTb"
   },
   "source": [
    "**Install requirements**"
   ]
  },
  {
   "cell_type": "code",
   "execution_count": null,
   "metadata": {},
   "outputs": [],
   "source": [
    "#This is for time series challenge"
   ]
  },
  {
   "cell_type": "code",
   "execution_count": 1,
   "metadata": {
    "colab": {
     "base_uri": "https://localhost:8080/",
     "height": 221
    },
    "colab_type": "code",
    "executionInfo": {
     "elapsed": 4249,
     "status": "ok",
     "timestamp": 1584302702583,
     "user": {
      "displayName": "Eser İnan Arslan",
      "photoUrl": "https://lh3.googleusercontent.com/a-/AOh14Ggz536p806W0W9-wxWFfPdVV303PuNNPAhu9S1UjA=s64",
      "userId": "01966049699378036829"
     },
     "user_tz": -180
    },
    "id": "I41b6kL4C24P",
    "outputId": "b1518a4f-d2f9-4bbc-d676-f5b9cab4c0ba"
   },
   "outputs": [
    {
     "name": "stdout",
     "output_type": "stream",
     "text": [
      "Requirement already satisfied: pyramid-arima in /usr/local/lib/python3.6/dist-packages (0.9.0)\n",
      "Requirement already satisfied: statsmodels>=0.9.0 in /usr/local/lib/python3.6/dist-packages (from pyramid-arima) (0.10.2)\n",
      "Requirement already satisfied: numpy>=1.10 in /usr/local/lib/python3.6/dist-packages (from pyramid-arima) (1.17.5)\n",
      "Requirement already satisfied: scipy>=0.9 in /usr/local/lib/python3.6/dist-packages (from pyramid-arima) (1.4.1)\n",
      "Requirement already satisfied: Cython>=0.23 in /usr/local/lib/python3.6/dist-packages (from pyramid-arima) (0.29.15)\n",
      "Requirement already satisfied: scikit-learn>=0.17 in /usr/local/lib/python3.6/dist-packages (from pyramid-arima) (0.22.2.post1)\n",
      "Requirement already satisfied: pandas>=0.19 in /usr/local/lib/python3.6/dist-packages (from pyramid-arima) (0.25.3)\n",
      "Requirement already satisfied: patsy>=0.4.0 in /usr/local/lib/python3.6/dist-packages (from statsmodels>=0.9.0->pyramid-arima) (0.5.1)\n",
      "Requirement already satisfied: joblib>=0.11 in /usr/local/lib/python3.6/dist-packages (from scikit-learn>=0.17->pyramid-arima) (0.14.1)\n",
      "Requirement already satisfied: python-dateutil>=2.6.1 in /usr/local/lib/python3.6/dist-packages (from pandas>=0.19->pyramid-arima) (2.6.1)\n",
      "Requirement already satisfied: pytz>=2017.2 in /usr/local/lib/python3.6/dist-packages (from pandas>=0.19->pyramid-arima) (2018.9)\n",
      "Requirement already satisfied: six in /usr/local/lib/python3.6/dist-packages (from patsy>=0.4.0->statsmodels>=0.9.0->pyramid-arima) (1.12.0)\n"
     ]
    }
   ],
   "source": [
    "pip install pyramid-arima"
   ]
  },
  {
   "cell_type": "code",
   "execution_count": 2,
   "metadata": {
    "colab": {
     "base_uri": "https://localhost:8080/",
     "height": 258
    },
    "colab_type": "code",
    "executionInfo": {
     "elapsed": 20104,
     "status": "ok",
     "timestamp": 1584302719795,
     "user": {
      "displayName": "Eser İnan Arslan",
      "photoUrl": "https://lh3.googleusercontent.com/a-/AOh14Ggz536p806W0W9-wxWFfPdVV303PuNNPAhu9S1UjA=s64",
      "userId": "01966049699378036829"
     },
     "user_tz": -180
    },
    "id": "GDuI5J8yEC1P",
    "outputId": "54956915-46da-4555-ea00-72913493c1a2"
   },
   "outputs": [
    {
     "name": "stdout",
     "output_type": "stream",
     "text": [
      "Uninstalling scikit-learn-0.22.2.post1:\n",
      "  Would remove:\n",
      "    /usr/local/lib/python3.6/dist-packages/scikit_learn-0.22.2.post1.dist-info/*\n",
      "    /usr/local/lib/python3.6/dist-packages/sklearn/*\n",
      "Proceed (y/n)? y\n",
      "  Successfully uninstalled scikit-learn-0.22.2.post1\n",
      "Collecting scikit-learn\n",
      "  Using cached https://files.pythonhosted.org/packages/5e/d8/312e03adf4c78663e17d802fe2440072376fee46cada1404f1727ed77a32/scikit_learn-0.22.2.post1-cp36-cp36m-manylinux1_x86_64.whl\n",
      "Requirement already satisfied: scipy>=0.17.0 in /usr/local/lib/python3.6/dist-packages (from scikit-learn) (1.4.1)\n",
      "Requirement already satisfied: joblib>=0.11 in /usr/local/lib/python3.6/dist-packages (from scikit-learn) (0.14.1)\n",
      "Requirement already satisfied: numpy>=1.11.0 in /usr/local/lib/python3.6/dist-packages (from scikit-learn) (1.17.5)\n",
      "Installing collected packages: scikit-learn\n",
      "Successfully installed scikit-learn-0.22.2.post1\n"
     ]
    }
   ],
   "source": [
    "!pip uninstall scikit-learn\n",
    "!pip install scikit-learn\n"
   ]
  },
  {
   "cell_type": "code",
   "execution_count": 3,
   "metadata": {
    "colab": {
     "base_uri": "https://localhost:8080/",
     "height": 170
    },
    "colab_type": "code",
    "executionInfo": {
     "elapsed": 21308,
     "status": "ok",
     "timestamp": 1584302722794,
     "user": {
      "displayName": "Eser İnan Arslan",
      "photoUrl": "https://lh3.googleusercontent.com/a-/AOh14Ggz536p806W0W9-wxWFfPdVV303PuNNPAhu9S1UjA=s64",
      "userId": "01966049699378036829"
     },
     "user_tz": -180
    },
    "id": "zhfEz1-nECwm",
    "outputId": "47f2993c-9e7b-421e-ed4d-1154c7be7f57"
   },
   "outputs": [
    {
     "name": "stdout",
     "output_type": "stream",
     "text": [
      "Requirement already satisfied: chart_studio in /usr/local/lib/python3.6/dist-packages (1.0.0)\n",
      "Requirement already satisfied: requests in /usr/local/lib/python3.6/dist-packages (from chart_studio) (2.21.0)\n",
      "Requirement already satisfied: retrying>=1.3.3 in /usr/local/lib/python3.6/dist-packages (from chart_studio) (1.3.3)\n",
      "Requirement already satisfied: six in /usr/local/lib/python3.6/dist-packages (from chart_studio) (1.12.0)\n",
      "Requirement already satisfied: plotly in /usr/local/lib/python3.6/dist-packages (from chart_studio) (4.4.1)\n",
      "Requirement already satisfied: urllib3<1.25,>=1.21.1 in /usr/local/lib/python3.6/dist-packages (from requests->chart_studio) (1.24.3)\n",
      "Requirement already satisfied: idna<2.9,>=2.5 in /usr/local/lib/python3.6/dist-packages (from requests->chart_studio) (2.8)\n",
      "Requirement already satisfied: chardet<3.1.0,>=3.0.2 in /usr/local/lib/python3.6/dist-packages (from requests->chart_studio) (3.0.4)\n",
      "Requirement already satisfied: certifi>=2017.4.17 in /usr/local/lib/python3.6/dist-packages (from requests->chart_studio) (2019.11.28)\n"
     ]
    }
   ],
   "source": [
    "!pip install chart_studio"
   ]
  },
  {
   "cell_type": "code",
   "execution_count": 0,
   "metadata": {
    "colab": {},
    "colab_type": "code",
    "id": "GXDTqDA5YRuQ"
   },
   "outputs": [],
   "source": []
  },
  {
   "cell_type": "markdown",
   "metadata": {
    "colab_type": "text",
    "id": "WnQN3SD2YTGJ"
   },
   "source": [
    "***Import Libraries***"
   ]
  },
  {
   "cell_type": "code",
   "execution_count": 4,
   "metadata": {
    "colab": {
     "base_uri": "https://localhost:8080/",
     "height": 474
    },
    "colab_type": "code",
    "executionInfo": {
     "elapsed": 20654,
     "status": "ok",
     "timestamp": 1584302725415,
     "user": {
      "displayName": "Eser İnan Arslan",
      "photoUrl": "https://lh3.googleusercontent.com/a-/AOh14Ggz536p806W0W9-wxWFfPdVV303PuNNPAhu9S1UjA=s64",
      "userId": "01966049699378036829"
     },
     "user_tz": -180
    },
    "id": "5aPFpeTtxIx4",
    "outputId": "ff7d4d5f-0356-4428-81cc-05115d043391"
   },
   "outputs": [
    {
     "name": "stderr",
     "output_type": "stream",
     "text": [
      "Using TensorFlow backend.\n"
     ]
    },
    {
     "data": {
      "text/html": [
       "<p style=\"color: red;\">\n",
       "The default version of TensorFlow in Colab will soon switch to TensorFlow 2.x.<br>\n",
       "We recommend you <a href=\"https://www.tensorflow.org/guide/migrate\" target=\"_blank\">upgrade</a> now \n",
       "or ensure your notebook will continue to use TensorFlow 1.x via the <code>%tensorflow_version 1.x</code> magic:\n",
       "<a href=\"https://colab.research.google.com/notebooks/tensorflow_version.ipynb\" target=\"_blank\">more info</a>.</p>\n"
      ],
      "text/plain": [
       "<IPython.core.display.HTML object>"
      ]
     },
     "metadata": {
      "tags": []
     },
     "output_type": "display_data"
    },
    {
     "name": "stderr",
     "output_type": "stream",
     "text": [
      "/usr/local/lib/python3.6/dist-packages/sklearn/externals/six.py:31: FutureWarning:\n",
      "\n",
      "The module is deprecated in version 0.21 and will be removed in version 0.23 since we've dropped support for Python 2.7. Please rely on the official version of six (https://pypi.org/project/six/).\n",
      "\n",
      "/usr/local/lib/python3.6/dist-packages/sklearn/externals/joblib/__init__.py:15: FutureWarning:\n",
      "\n",
      "sklearn.externals.joblib is deprecated in 0.21 and will be removed in 0.23. Please import this functionality directly from joblib, which can be installed with: pip install joblib. If this warning is raised when loading pickled models, you may need to re-serialize those models with scikit-learn 0.21+.\n",
      "\n",
      "/usr/local/lib/python3.6/dist-packages/pyramid/__init__.py:68: UserWarning:\n",
      "\n",
      "\n",
      "    The 'pyramid' package will be migrating to a new namespace beginning in \n",
      "    version 1.0.0: 'pmdarima'. This is due to a package name collision with the\n",
      "    Pyramid web framework. For more information, see Issue #34:\n",
      "    \n",
      "        https://github.com/tgsmith61591/pyramid/issues/34\n",
      "        \n",
      "    The package will subsequently be installable via the name 'pmdarima'; the\n",
      "    only functional change to the user will be the import name. All imports\n",
      "    from 'pyramid' will change to 'pmdarima'.\n",
      "    \n",
      "\n"
     ]
    }
   ],
   "source": [
    "%matplotlib inline\n",
    "\n",
    "import numpy as np\n",
    "import pandas as pd\n",
    "import matplotlib.pyplot as plt\n",
    "\n",
    "import chart_studio.plotly as plot_mpl\n",
    "import plotly.graph_objs as go\n",
    "import xgboost as xgb\n",
    "import keras.backend as K\n",
    "import tensorflow as tf\n",
    "\n",
    "from math import sqrt\n",
    "from datetime import datetime\n",
    "from statsmodels.tsa.stattools import adfuller\n",
    "from pyramid.arima import auto_arima\n",
    "\n",
    "from socket import socket\n",
    "from statsmodels.tsa.seasonal import seasonal_decompose\n",
    "\n",
    "from keras.models import Sequential\n",
    "from keras.layers import Conv1D, LSTM, TimeDistributed, Dense\n",
    "from keras.optimizers import Adam\n",
    "from keras.callbacks import EarlyStopping\n",
    "\n",
    "from sklearn.model_selection import GridSearchCV\n",
    "from sklearn.preprocessing import MinMaxScaler\n",
    "from sklearn.metrics import mean_squared_error, mean_absolute_error, mean_squared_log_error"
   ]
  },
  {
   "cell_type": "code",
   "execution_count": 0,
   "metadata": {
    "colab": {},
    "colab_type": "code",
    "id": "UkDzNKKR1Xhw"
   },
   "outputs": [],
   "source": [
    "#Set parameters to see all data\n",
    "pd.set_option('display.max_rows', 150)\n",
    "pd.set_option('display.max_columns', 50)\n",
    "pd.set_option('display.width', 1000)"
   ]
  },
  {
   "cell_type": "code",
   "execution_count": 0,
   "metadata": {
    "colab": {},
    "colab_type": "code",
    "id": "9yjA1LCuFISt"
   },
   "outputs": [],
   "source": [
    "from google.colab import files"
   ]
  },
  {
   "cell_type": "code",
   "execution_count": 8,
   "metadata": {
    "colab": {
     "base_uri": "https://localhost:8080/",
     "height": 71,
     "resources": {
      "http://localhost:8080/nbextensions/google.colab/files.js": {
       "data": "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",
       "headers": [
        [
         "content-type",
         "application/javascript"
        ]
       ],
       "ok": true,
       "status": 200,
       "status_text": ""
      }
     }
    },
    "colab_type": "code",
    "executionInfo": {
     "elapsed": 11909,
     "status": "ok",
     "timestamp": 1584290724196,
     "user": {
      "displayName": "Eser İnan Arslan",
      "photoUrl": "https://lh3.googleusercontent.com/a-/AOh14Ggz536p806W0W9-wxWFfPdVV303PuNNPAhu9S1UjA=s64",
      "userId": "01966049699378036829"
     },
     "user_tz": -180
    },
    "id": "-wk9pAGJxfqv",
    "outputId": "ae9ea8c6-a663-40a4-ae36-a7cc142a0c69"
   },
   "outputs": [
    {
     "data": {
      "text/html": [
       "\n",
       "     <input type=\"file\" id=\"files-0a529971-995b-491f-800e-c3cf98f965a4\" name=\"files[]\" multiple disabled />\n",
       "     <output id=\"result-0a529971-995b-491f-800e-c3cf98f965a4\">\n",
       "      Upload widget is only available when the cell has been executed in the\n",
       "      current browser session. Please rerun this cell to enable.\n",
       "      </output>\n",
       "      <script src=\"/nbextensions/google.colab/files.js\"></script> "
      ],
      "text/plain": [
       "<IPython.core.display.HTML object>"
      ]
     },
     "metadata": {
      "tags": []
     },
     "output_type": "display_data"
    },
    {
     "name": "stdout",
     "output_type": "stream",
     "text": [
      "Saving sales_dataset.csv to sales_dataset.csv\n"
     ]
    }
   ],
   "source": [
    "#Upload train data set file from local to colabs area\n",
    "uploaded = files.upload()"
   ]
  },
  {
   "cell_type": "code",
   "execution_count": 7,
   "metadata": {
    "colab": {
     "base_uri": "https://localhost:8080/",
     "height": 359
    },
    "colab_type": "code",
    "executionInfo": {
     "elapsed": 679,
     "status": "ok",
     "timestamp": 1584302736614,
     "user": {
      "displayName": "Eser İnan Arslan",
      "photoUrl": "https://lh3.googleusercontent.com/a-/AOh14Ggz536p806W0W9-wxWFfPdVV303PuNNPAhu9S1UjA=s64",
      "userId": "01966049699378036829"
     },
     "user_tz": -180
    },
    "id": "jJTZ-EIUxh_q",
    "outputId": "ae0ace40-d30e-4a75-95f5-a046b99054af"
   },
   "outputs": [
    {
     "data": {
      "text/html": [
       "<div>\n",
       "<style scoped>\n",
       "    .dataframe tbody tr th:only-of-type {\n",
       "        vertical-align: middle;\n",
       "    }\n",
       "\n",
       "    .dataframe tbody tr th {\n",
       "        vertical-align: top;\n",
       "    }\n",
       "\n",
       "    .dataframe thead th {\n",
       "        text-align: right;\n",
       "    }\n",
       "</style>\n",
       "<table border=\"1\" class=\"dataframe\">\n",
       "  <thead>\n",
       "    <tr style=\"text-align: right;\">\n",
       "      <th></th>\n",
       "      <th>Month</th>\n",
       "      <th>Sales</th>\n",
       "    </tr>\n",
       "  </thead>\n",
       "  <tbody>\n",
       "    <tr>\n",
       "      <th>0</th>\n",
       "      <td>1984-01</td>\n",
       "      <td>2815</td>\n",
       "    </tr>\n",
       "    <tr>\n",
       "      <th>1</th>\n",
       "      <td>1984-02</td>\n",
       "      <td>2672</td>\n",
       "    </tr>\n",
       "    <tr>\n",
       "      <th>2</th>\n",
       "      <td>1984-03</td>\n",
       "      <td>2755</td>\n",
       "    </tr>\n",
       "    <tr>\n",
       "      <th>3</th>\n",
       "      <td>1984-04</td>\n",
       "      <td>2721</td>\n",
       "    </tr>\n",
       "    <tr>\n",
       "      <th>4</th>\n",
       "      <td>1984-05</td>\n",
       "      <td>2946</td>\n",
       "    </tr>\n",
       "    <tr>\n",
       "      <th>100</th>\n",
       "      <td>1992-05</td>\n",
       "      <td>4618</td>\n",
       "    </tr>\n",
       "    <tr>\n",
       "      <th>101</th>\n",
       "      <td>1992-06</td>\n",
       "      <td>5312</td>\n",
       "    </tr>\n",
       "    <tr>\n",
       "      <th>102</th>\n",
       "      <td>1992-07</td>\n",
       "      <td>4298</td>\n",
       "    </tr>\n",
       "    <tr>\n",
       "      <th>103</th>\n",
       "      <td>1992-08</td>\n",
       "      <td>1413</td>\n",
       "    </tr>\n",
       "    <tr>\n",
       "      <th>104</th>\n",
       "      <td>1992-09</td>\n",
       "      <td>5877</td>\n",
       "    </tr>\n",
       "  </tbody>\n",
       "</table>\n",
       "</div>"
      ],
      "text/plain": [
       "       Month  Sales\n",
       "0    1984-01   2815\n",
       "1    1984-02   2672\n",
       "2    1984-03   2755\n",
       "3    1984-04   2721\n",
       "4    1984-05   2946\n",
       "100  1992-05   4618\n",
       "101  1992-06   5312\n",
       "102  1992-07   4298\n",
       "103  1992-08   1413\n",
       "104  1992-09   5877"
      ]
     },
     "execution_count": 7,
     "metadata": {
      "tags": []
     },
     "output_type": "execute_result"
    }
   ],
   "source": [
    "# Load Train dataset\n",
    "train = pd.read_csv(\"sales_dataset.csv\")\n",
    "train.head(5).append(train.tail(5))"
   ]
  },
  {
   "cell_type": "code",
   "execution_count": 8,
   "metadata": {
    "colab": {
     "base_uri": "https://localhost:8080/",
     "height": 500
    },
    "colab_type": "code",
    "executionInfo": {
     "elapsed": 1352,
     "status": "ok",
     "timestamp": 1584302738805,
     "user": {
      "displayName": "Eser İnan Arslan",
      "photoUrl": "https://lh3.googleusercontent.com/a-/AOh14Ggz536p806W0W9-wxWFfPdVV303PuNNPAhu9S1UjA=s64",
      "userId": "01966049699378036829"
     },
     "user_tz": -180
    },
    "id": "uhiUDPQOGB9W",
    "outputId": "2d80cf38-3be1-4c55-acbf-9b7088f172a7"
   },
   "outputs": [
    {
     "data": {
      "text/plain": [
       "<matplotlib.axes._subplots.AxesSubplot at 0x7f6886a3d780>"
      ]
     },
     "execution_count": 8,
     "metadata": {
      "tags": []
     },
     "output_type": "execute_result"
    },
    {
     "data": {
      "image/png": "[encoded data removed]",
      "text/plain": [
       "<Figure size 1440x576 with 1 Axes>"
      ]
     },
     "metadata": {
      "tags": []
     },
     "output_type": "display_data"
    }
   ],
   "source": [
    "#Plot data\n",
    "train[:100].plot(figsize=(20,8))"
   ]
  },
  {
   "cell_type": "code",
   "execution_count": 9,
   "metadata": {
    "colab": {
     "base_uri": "https://localhost:8080/",
     "height": 34
    },
    "colab_type": "code",
    "executionInfo": {
     "elapsed": 825,
     "status": "ok",
     "timestamp": 1584302738806,
     "user": {
      "displayName": "Eser İnan Arslan",
      "photoUrl": "https://lh3.googleusercontent.com/a-/AOh14Ggz536p806W0W9-wxWFfPdVV303PuNNPAhu9S1UjA=s64",
      "userId": "01966049699378036829"
     },
     "user_tz": -180
    },
    "id": "bByCC_K9yBf5",
    "outputId": "bbc68fc4-d2af-4500-c205-66302b6c1224"
   },
   "outputs": [
    {
     "data": {
      "text/plain": [
       "(105, 2)"
      ]
     },
     "execution_count": 9,
     "metadata": {
      "tags": []
     },
     "output_type": "execute_result"
    }
   ],
   "source": [
    "train.shape"
   ]
  },
  {
   "cell_type": "code",
   "execution_count": 10,
   "metadata": {
    "colab": {
     "base_uri": "https://localhost:8080/",
     "height": 68
    },
    "colab_type": "code",
    "executionInfo": {
     "elapsed": 811,
     "status": "ok",
     "timestamp": 1584302739071,
     "user": {
      "displayName": "Eser İnan Arslan",
      "photoUrl": "https://lh3.googleusercontent.com/a-/AOh14Ggz536p806W0W9-wxWFfPdVV303PuNNPAhu9S1UjA=s64",
      "userId": "01966049699378036829"
     },
     "user_tz": -180
    },
    "id": "QQb0zZ92yJ4B",
    "outputId": "b758b2c2-95f1-4c2b-993e-bded6cbd7af5"
   },
   "outputs": [
    {
     "data": {
      "text/plain": [
       "Month    object\n",
       "Sales     int64\n",
       "dtype: object"
      ]
     },
     "execution_count": 10,
     "metadata": {
      "tags": []
     },
     "output_type": "execute_result"
    }
   ],
   "source": [
    "train.dtypes"
   ]
  },
  {
   "cell_type": "markdown",
   "metadata": {
    "colab_type": "text",
    "id": "ZujNgXL2ZAPG"
   },
   "source": [
    "# **Preprocess**"
   ]
  },
  {
   "cell_type": "code",
   "execution_count": 0,
   "metadata": {
    "colab": {},
    "colab_type": "code",
    "id": "nlA5Kvc_1BWD"
   },
   "outputs": [],
   "source": [
    "train = train.set_index(['Month'])"
   ]
  },
  {
   "cell_type": "code",
   "execution_count": 0,
   "metadata": {
    "colab": {},
    "colab_type": "code",
    "id": "IcKWzU7knkCv"
   },
   "outputs": [],
   "source": [
    "train.index = pd.to_datetime(train.index)"
   ]
  },
  {
   "cell_type": "code",
   "execution_count": 13,
   "metadata": {
    "colab": {
     "base_uri": "https://localhost:8080/",
     "height": 51
    },
    "colab_type": "code",
    "executionInfo": {
     "elapsed": 701,
     "status": "ok",
     "timestamp": 1584302740797,
     "user": {
      "displayName": "Eser İnan Arslan",
      "photoUrl": "https://lh3.googleusercontent.com/a-/AOh14Ggz536p806W0W9-wxWFfPdVV303PuNNPAhu9S1UjA=s64",
      "userId": "01966049699378036829"
     },
     "user_tz": -180
    },
    "id": "oPDjHW-3oder",
    "outputId": "f19c141c-2414-4cb1-cb2f-06ae0d325017"
   },
   "outputs": [
    {
     "data": {
      "text/plain": [
       "Sales    int64\n",
       "dtype: object"
      ]
     },
     "execution_count": 13,
     "metadata": {
      "tags": []
     },
     "output_type": "execute_result"
    }
   ],
   "source": [
    "train.dtypes"
   ]
  },
  {
   "cell_type": "code",
   "execution_count": 0,
   "metadata": {
    "colab": {},
    "colab_type": "code",
    "id": "BPq2Gh6FhIlw"
   },
   "outputs": [],
   "source": []
  },
  {
   "cell_type": "code",
   "execution_count": 0,
   "metadata": {
    "colab": {},
    "colab_type": "code",
    "id": "oQgdOx-Vo6dY"
   },
   "outputs": [],
   "source": [
    "#Stationary Control\n",
    "#if P-Value is smaller than 0.005, we can say that there is stationary, else there is no stationary\n",
    "#if our data has no stationary, I will plan to use differences\n",
    "\n",
    "class Stationary:\n",
    "    def __init__(self, significance=.005):\n",
    "        self.SignificanceLevel = significance\n",
    "        self.pValue = None\n",
    "        self.isStationary = None\n",
    "\n",
    "    def ADF_Stationarity_Test(self, timeseries, printResults=True):\n",
    "\n",
    "        # Dickey-Fuller test:\n",
    "        print(timeseries)\n",
    "        try:\n",
    "            adfTest = adfuller(timeseries, autolag='AIC')\n",
    "\n",
    "            self.pValue = adfTest[1]\n",
    "\n",
    "            if (self.pValue < self.SignificanceLevel):\n",
    "                self.isStationary = True\n",
    "            else:\n",
    "                self.isStationary = False\n",
    "            #self.isStationary=True\n",
    "            if printResults:\n",
    "                dfResults = pd.Series(adfTest[0:4],\n",
    "                                      index=['ADF Test Statistic', 'P-Value', '# Lags Used', '# Observations Used'])\n",
    "\n",
    "                # Add Critical Values\n",
    "                for key, value in adfTest[4].items():\n",
    "                    dfResults['Critical Value (%s)' % key] = value\n",
    "\n",
    "                print('Augmented Dickey-Fuller Test Results:')\n",
    "                print(dfResults)\n",
    "        except Exception as e:\n",
    "          print(e)\n",
    "          self.isStationary = False"
   ]
  },
  {
   "cell_type": "code",
   "execution_count": 0,
   "metadata": {
    "colab": {},
    "colab_type": "code",
    "id": "jclD-k2n-3VW"
   },
   "outputs": [],
   "source": [
    "sTest = Stationary()"
   ]
  },
  {
   "cell_type": "code",
   "execution_count": 16,
   "metadata": {
    "colab": {
     "base_uri": "https://localhost:8080/",
     "height": 1000
    },
    "colab_type": "code",
    "executionInfo": {
     "elapsed": 694,
     "status": "ok",
     "timestamp": 1584302744321,
     "user": {
      "displayName": "Eser İnan Arslan",
      "photoUrl": "https://lh3.googleusercontent.com/a-/AOh14Ggz536p806W0W9-wxWFfPdVV303PuNNPAhu9S1UjA=s64",
      "userId": "01966049699378036829"
     },
     "user_tz": -180
    },
    "id": "BhKbhiIr-8Ly",
    "outputId": "f0ce88ee-32b6-42f4-ab09-8d35ce9ca9a9"
   },
   "outputs": [
    {
     "name": "stdout",
     "output_type": "stream",
     "text": [
      "Month\n",
      "1984-01-01     2815\n",
      "1984-02-01     2672\n",
      "1984-03-01     2755\n",
      "1984-04-01     2721\n",
      "1984-05-01     2946\n",
      "1984-06-01     3036\n",
      "1984-07-01     2282\n",
      "1984-08-01     2212\n",
      "1984-09-01     2922\n",
      "1984-10-01     4301\n",
      "1984-11-01     5764\n",
      "1984-12-01     7312\n",
      "1985-01-01     2541\n",
      "1985-02-01     2475\n",
      "1985-03-01     3031\n",
      "1985-04-01     3266\n",
      "1985-05-01     3776\n",
      "1985-06-01     3230\n",
      "1985-07-01     3028\n",
      "1985-08-01     1759\n",
      "1985-09-01     3595\n",
      "1985-10-01     4474\n",
      "1985-11-01     6838\n",
      "1985-12-01     8357\n",
      "1986-01-01     3113\n",
      "1986-02-01     3006\n",
      "1986-03-01     4047\n",
      "1986-04-01     3523\n",
      "1986-05-01     3937\n",
      "1986-06-01     3986\n",
      "1986-07-01     3260\n",
      "1986-08-01     1573\n",
      "1986-09-01     3528\n",
      "1986-10-01     5211\n",
      "1986-11-01     7614\n",
      "1986-12-01     9254\n",
      "1987-01-01     5375\n",
      "1987-02-01     3088\n",
      "1987-03-01     3718\n",
      "1987-04-01     4514\n",
      "1987-05-01     4520\n",
      "1987-06-01     4539\n",
      "1987-07-01     3663\n",
      "1987-08-01     1643\n",
      "1987-09-01     4739\n",
      "1987-10-01     5428\n",
      "1987-11-01     8314\n",
      "1987-12-01    10651\n",
      "1988-01-01     3633\n",
      "1988-02-01     4292\n",
      "1988-03-01     4154\n",
      "1988-04-01     4121\n",
      "1988-05-01     4647\n",
      "1988-06-01     4753\n",
      "1988-07-01     3965\n",
      "1988-08-01     1723\n",
      "1988-09-01     5048\n",
      "1988-10-01     6922\n",
      "1988-11-01     9858\n",
      "1988-12-01    11331\n",
      "1989-01-01     4016\n",
      "1989-02-01     3957\n",
      "1989-03-01     4510\n",
      "1989-04-01     4276\n",
      "1989-05-01     4968\n",
      "1989-06-01     4677\n",
      "1989-07-01     3523\n",
      "1989-08-01     1821\n",
      "1989-09-01     5222\n",
      "1989-10-01     6872\n",
      "1989-11-01    10803\n",
      "1989-12-01    13916\n",
      "1990-01-01     2639\n",
      "1990-02-01     2899\n",
      "1990-03-01     3370\n",
      "1990-04-01     3740\n",
      "1990-05-01     2927\n",
      "1990-06-01     3986\n",
      "1990-07-01     4217\n",
      "1990-08-01     1738\n",
      "1990-09-01     5221\n",
      "1990-10-01     6424\n",
      "1990-11-01     9842\n",
      "1990-12-01    13076\n",
      "1991-01-01     3934\n",
      "1991-02-01     3162\n",
      "1991-03-01     4286\n",
      "1991-04-01     4676\n",
      "1991-05-01     5010\n",
      "1991-06-01     4874\n",
      "1991-07-01     4633\n",
      "1991-08-01     1659\n",
      "1991-09-01     5951\n",
      "1991-10-01     6981\n",
      "1991-11-01     9851\n",
      "1991-12-01    12670\n",
      "1992-01-01     4348\n",
      "1992-02-01     3564\n",
      "1992-03-01     4577\n",
      "1992-04-01     4788\n",
      "1992-05-01     4618\n",
      "1992-06-01     5312\n",
      "1992-07-01     4298\n",
      "1992-08-01     1413\n",
      "1992-09-01     5877\n",
      "Name: Sales, dtype: int64\n",
      "Augmented Dickey-Fuller Test Results:\n",
      "ADF Test Statistic      -1.833593\n",
      "P-Value                  0.363916\n",
      "# Lags Used             11.000000\n",
      "# Observations Used     93.000000\n",
      "Critical Value (1%)     -3.502705\n",
      "Critical Value (5%)     -2.893158\n",
      "Critical Value (10%)    -2.583637\n",
      "dtype: float64\n",
      "False\n"
     ]
    }
   ],
   "source": [
    "sTest.ADF_Stationarity_Test(train['Sales'])\n",
    "print(sTest.isStationary)"
   ]
  },
  {
   "cell_type": "markdown",
   "metadata": {
    "colab_type": "text",
    "id": "6JSYwMnIh3Kd"
   },
   "source": [
    "## **P-Values is higher than 0.005, so there no stationary.**\n",
    "\n",
    "![image.png](data:image/png;base64,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)"
   ]
  },
  {
   "cell_type": "code",
   "execution_count": 0,
   "metadata": {
    "colab": {},
    "colab_type": "code",
    "id": "vZw1fuMWA-qk"
   },
   "outputs": [],
   "source": [
    "# create a differenced series\n",
    "def difference(dataset, interval=1):\n",
    "    diff = list()\n",
    "    for i in range(interval, len(dataset)):\n",
    "        value = dataset[i] - dataset[i - interval]\n",
    "        # print(interval, dataset[i], dataset[i - interval])\n",
    "        diff.append(value)\n",
    "    return pd.Series(diff)"
   ]
  },
  {
   "cell_type": "code",
   "execution_count": 0,
   "metadata": {
    "colab": {},
    "colab_type": "code",
    "id": "SAh7zCh0BDdK"
   },
   "outputs": [],
   "source": [
    "diff_values = difference(train['Sales'], 1)"
   ]
  },
  {
   "cell_type": "code",
   "execution_count": 0,
   "metadata": {
    "colab": {},
    "colab_type": "code",
    "id": "TWnyUj2IBFQs"
   },
   "outputs": [],
   "source": [
    " # split train test datasets\n",
    " xtrain, xtest = diff_values[0:-9], diff_values[-9:]"
   ]
  },
  {
   "cell_type": "code",
   "execution_count": 20,
   "metadata": {
    "colab": {
     "base_uri": "https://localhost:8080/",
     "height": 187
    },
    "colab_type": "code",
    "executionInfo": {
     "elapsed": 1179,
     "status": "ok",
     "timestamp": 1584302750270,
     "user": {
      "displayName": "Eser İnan Arslan",
      "photoUrl": "https://lh3.googleusercontent.com/a-/AOh14Ggz536p806W0W9-wxWFfPdVV303PuNNPAhu9S1UjA=s64",
      "userId": "01966049699378036829"
     },
     "user_tz": -180
    },
    "id": "VT1LZO5WBFTK",
    "outputId": "9d19b2db-5acf-47e4-b171-1e48a5d3d8d9"
   },
   "outputs": [
    {
     "data": {
      "text/plain": [
       "95    -8322\n",
       "96     -784\n",
       "97     1013\n",
       "98      211\n",
       "99     -170\n",
       "100     694\n",
       "101   -1014\n",
       "102   -2885\n",
       "103    4464\n",
       "dtype: int64"
      ]
     },
     "execution_count": 20,
     "metadata": {
      "tags": []
     },
     "output_type": "execute_result"
    }
   ],
   "source": [
    "xtest"
   ]
  },
  {
   "cell_type": "code",
   "execution_count": 0,
   "metadata": {
    "colab": {},
    "colab_type": "code",
    "id": "wUd_YaO-BFX0"
   },
   "outputs": [],
   "source": [
    "# frame a sequence as a supervised learning problem\n",
    "def timeseries_to_supervised(data, lag=1):\n",
    "    dfx = pd.DataFrame(data)\n",
    "    df = dfx.assign(**{\n",
    "        '{} (t-{})'.format(col, t): dfx[col].shift(t)\n",
    "        for t in range(lag+1)\n",
    "        for col in dfx\n",
    "    })\n",
    "\n",
    "    df=df.drop([df.columns[0]], axis=1)\n",
    "    df=df[df.columns[::-1]]\n",
    "    return df[lag:]"
   ]
  },
  {
   "cell_type": "code",
   "execution_count": 0,
   "metadata": {
    "colab": {},
    "colab_type": "code",
    "id": "6U-s4-sCir5d"
   },
   "outputs": [],
   "source": []
  },
  {
   "cell_type": "code",
   "execution_count": 0,
   "metadata": {
    "colab": {},
    "colab_type": "code",
    "id": "TJ4RoxddBFZ3"
   },
   "outputs": [],
   "source": [
    "# scale train and test data to [-1, 1] with MinMaxScaler\n",
    "def scale(train, test):\n",
    "    # fit scaler\n",
    "    scaler = MinMaxScaler()  \n",
    "    \n",
    "    # StandardScaler()\n",
    "    scaler = scaler.fit(train)\n",
    "\n",
    "    # transform train\n",
    "    train = train.reshape(train.shape[0], train.shape[1])\n",
    "    tr_scaled = scaler.transform(train)\n",
    "\n",
    "    # transform test\n",
    "    test = test.reshape(test.shape[0], test.shape[1])\n",
    "    ts_scaled = scaler.transform(test)\n",
    "    \n",
    "    return scaler, tr_scaled, ts_scaled"
   ]
  },
  {
   "cell_type": "code",
   "execution_count": 0,
   "metadata": {
    "colab": {},
    "colab_type": "code",
    "id": "HxtN4ORjBFcA"
   },
   "outputs": [],
   "source": [
    "# reorganize dataset acording to window size\n",
    "values_unscaled = np.concatenate((xtrain, xtest))\n",
    "supervised_raw = timeseries_to_supervised(values_unscaled, 12)"
   ]
  },
  {
   "cell_type": "code",
   "execution_count": 24,
   "metadata": {
    "colab": {
     "base_uri": "https://localhost:8080/",
     "height": 1000
    },
    "colab_type": "code",
    "executionInfo": {
     "elapsed": 726,
     "status": "ok",
     "timestamp": 1584302753224,
     "user": {
      "displayName": "Eser İnan Arslan",
      "photoUrl": "https://lh3.googleusercontent.com/a-/AOh14Ggz536p806W0W9-wxWFfPdVV303PuNNPAhu9S1UjA=s64",
      "userId": "01966049699378036829"
     },
     "user_tz": -180
    },
    "id": "7tjKzoBSBFeS",
    "outputId": "16a4004a-ebff-4d8b-c314-21887c5846fb"
   },
   "outputs": [
    {
     "data": {
      "text/html": [
       "<div>\n",
       "<style scoped>\n",
       "    .dataframe tbody tr th:only-of-type {\n",
       "        vertical-align: middle;\n",
       "    }\n",
       "\n",
       "    .dataframe tbody tr th {\n",
       "        vertical-align: top;\n",
       "    }\n",
       "\n",
       "    .dataframe thead th {\n",
       "        text-align: right;\n",
       "    }\n",
       "</style>\n",
       "<table border=\"1\" class=\"dataframe\">\n",
       "  <thead>\n",
       "    <tr style=\"text-align: right;\">\n",
       "      <th></th>\n",
       "      <th>0 (t-12)</th>\n",
       "      <th>0 (t-11)</th>\n",
       "      <th>0 (t-10)</th>\n",
       "      <th>0 (t-9)</th>\n",
       "      <th>0 (t-8)</th>\n",
       "      <th>0 (t-7)</th>\n",
       "      <th>0 (t-6)</th>\n",
       "      <th>0 (t-5)</th>\n",
       "      <th>0 (t-4)</th>\n",
       "      <th>0 (t-3)</th>\n",
       "      <th>0 (t-2)</th>\n",
       "      <th>0 (t-1)</th>\n",
       "      <th>0 (t-0)</th>\n",
       "    </tr>\n",
       "  </thead>\n",
       "  <tbody>\n",
       "    <tr>\n",
       "      <th>12</th>\n",
       "      <td>-143.0</td>\n",
       "      <td>83.0</td>\n",
       "      <td>-34.0</td>\n",
       "      <td>225.0</td>\n",
       "      <td>90.0</td>\n",
       "      <td>-754.0</td>\n",
       "      <td>-70.0</td>\n",
       "      <td>710.0</td>\n",
       "      <td>1379.0</td>\n",
       "      <td>1463.0</td>\n",
       "      <td>1548.0</td>\n",
       "      <td>-4771.0</td>\n",
       "      <td>-66</td>\n",
       "    </tr>\n",
       "    <tr>\n",
       "      <th>13</th>\n",
       "      <td>83.0</td>\n",
       "      <td>-34.0</td>\n",
       "      <td>225.0</td>\n",
       "      <td>90.0</td>\n",
       "      <td>-754.0</td>\n",
       "      <td>-70.0</td>\n",
       "      <td>710.0</td>\n",
       "      <td>1379.0</td>\n",
       "      <td>1463.0</td>\n",
       "      <td>1548.0</td>\n",
       "      <td>-4771.0</td>\n",
       "      <td>-66.0</td>\n",
       "      <td>556</td>\n",
       "    </tr>\n",
       "    <tr>\n",
       "      <th>14</th>\n",
       "      <td>-34.0</td>\n",
       "      <td>225.0</td>\n",
       "      <td>90.0</td>\n",
       "      <td>-754.0</td>\n",
       "      <td>-70.0</td>\n",
       "      <td>710.0</td>\n",
       "      <td>1379.0</td>\n",
       "      <td>1463.0</td>\n",
       "      <td>1548.0</td>\n",
       "      <td>-4771.0</td>\n",
       "      <td>-66.0</td>\n",
       "      <td>556.0</td>\n",
       "      <td>235</td>\n",
       "    </tr>\n",
       "    <tr>\n",
       "      <th>15</th>\n",
       "      <td>225.0</td>\n",
       "      <td>90.0</td>\n",
       "      <td>-754.0</td>\n",
       "      <td>-70.0</td>\n",
       "      <td>710.0</td>\n",
       "      <td>1379.0</td>\n",
       "      <td>1463.0</td>\n",
       "      <td>1548.0</td>\n",
       "      <td>-4771.0</td>\n",
       "      <td>-66.0</td>\n",
       "      <td>556.0</td>\n",
       "      <td>235.0</td>\n",
       "      <td>510</td>\n",
       "    </tr>\n",
       "    <tr>\n",
       "      <th>16</th>\n",
       "      <td>90.0</td>\n",
       "      <td>-754.0</td>\n",
       "      <td>-70.0</td>\n",
       "      <td>710.0</td>\n",
       "      <td>1379.0</td>\n",
       "      <td>1463.0</td>\n",
       "      <td>1548.0</td>\n",
       "      <td>-4771.0</td>\n",
       "      <td>-66.0</td>\n",
       "      <td>556.0</td>\n",
       "      <td>235.0</td>\n",
       "      <td>510.0</td>\n",
       "      <td>-546</td>\n",
       "    </tr>\n",
       "    <tr>\n",
       "      <th>17</th>\n",
       "      <td>-754.0</td>\n",
       "      <td>-70.0</td>\n",
       "      <td>710.0</td>\n",
       "      <td>1379.0</td>\n",
       "      <td>1463.0</td>\n",
       "      <td>1548.0</td>\n",
       "      <td>-4771.0</td>\n",
       "      <td>-66.0</td>\n",
       "      <td>556.0</td>\n",
       "      <td>235.0</td>\n",
       "      <td>510.0</td>\n",
       "      <td>-546.0</td>\n",
       "      <td>-202</td>\n",
       "    </tr>\n",
       "    <tr>\n",
       "      <th>18</th>\n",
       "      <td>-70.0</td>\n",
       "      <td>710.0</td>\n",
       "      <td>1379.0</td>\n",
       "      <td>1463.0</td>\n",
       "      <td>1548.0</td>\n",
       "      <td>-4771.0</td>\n",
       "      <td>-66.0</td>\n",
       "      <td>556.0</td>\n",
       "      <td>235.0</td>\n",
       "      <td>510.0</td>\n",
       "      <td>-546.0</td>\n",
       "      <td>-202.0</td>\n",
       "      <td>-1269</td>\n",
       "    </tr>\n",
       "    <tr>\n",
       "      <th>19</th>\n",
       "      <td>710.0</td>\n",
       "      <td>1379.0</td>\n",
       "      <td>1463.0</td>\n",
       "      <td>1548.0</td>\n",
       "      <td>-4771.0</td>\n",
       "      <td>-66.0</td>\n",
       "      <td>556.0</td>\n",
       "      <td>235.0</td>\n",
       "      <td>510.0</td>\n",
       "      <td>-546.0</td>\n",
       "      <td>-202.0</td>\n",
       "      <td>-1269.0</td>\n",
       "      <td>1836</td>\n",
       "    </tr>\n",
       "    <tr>\n",
       "      <th>20</th>\n",
       "      <td>1379.0</td>\n",
       "      <td>1463.0</td>\n",
       "      <td>1548.0</td>\n",
       "      <td>-4771.0</td>\n",
       "      <td>-66.0</td>\n",
       "      <td>556.0</td>\n",
       "      <td>235.0</td>\n",
       "      <td>510.0</td>\n",
       "      <td>-546.0</td>\n",
       "      <td>-202.0</td>\n",
       "      <td>-1269.0</td>\n",
       "      <td>1836.0</td>\n",
       "      <td>879</td>\n",
       "    </tr>\n",
       "    <tr>\n",
       "      <th>21</th>\n",
       "      <td>1463.0</td>\n",
       "      <td>1548.0</td>\n",
       "      <td>-4771.0</td>\n",
       "      <td>-66.0</td>\n",
       "      <td>556.0</td>\n",
       "      <td>235.0</td>\n",
       "      <td>510.0</td>\n",
       "      <td>-546.0</td>\n",
       "      <td>-202.0</td>\n",
       "      <td>-1269.0</td>\n",
       "      <td>1836.0</td>\n",
       "      <td>879.0</td>\n",
       "      <td>2364</td>\n",
       "    </tr>\n",
       "    <tr>\n",
       "      <th>22</th>\n",
       "      <td>1548.0</td>\n",
       "      <td>-4771.0</td>\n",
       "      <td>-66.0</td>\n",
       "      <td>556.0</td>\n",
       "      <td>235.0</td>\n",
       "      <td>510.0</td>\n",
       "      <td>-546.0</td>\n",
       "      <td>-202.0</td>\n",
       "      <td>-1269.0</td>\n",
       "      <td>1836.0</td>\n",
       "      <td>879.0</td>\n",
       "      <td>2364.0</td>\n",
       "      <td>1519</td>\n",
       "    </tr>\n",
       "    <tr>\n",
       "      <th>23</th>\n",
       "      <td>-4771.0</td>\n",
       "      <td>-66.0</td>\n",
       "      <td>556.0</td>\n",
       "      <td>235.0</td>\n",
       "      <td>510.0</td>\n",
       "      <td>-546.0</td>\n",
       "      <td>-202.0</td>\n",
       "      <td>-1269.0</td>\n",
       "      <td>1836.0</td>\n",
       "      <td>879.0</td>\n",
       "      <td>2364.0</td>\n",
       "      <td>1519.0</td>\n",
       "      <td>-5244</td>\n",
       "    </tr>\n",
       "    <tr>\n",
       "      <th>24</th>\n",
       "      <td>-66.0</td>\n",
       "      <td>556.0</td>\n",
       "      <td>235.0</td>\n",
       "      <td>510.0</td>\n",
       "      <td>-546.0</td>\n",
       "      <td>-202.0</td>\n",
       "      <td>-1269.0</td>\n",
       "      <td>1836.0</td>\n",
       "      <td>879.0</td>\n",
       "      <td>2364.0</td>\n",
       "      <td>1519.0</td>\n",
       "      <td>-5244.0</td>\n",
       "      <td>-107</td>\n",
       "    </tr>\n",
       "    <tr>\n",
       "      <th>25</th>\n",
       "      <td>556.0</td>\n",
       "      <td>235.0</td>\n",
       "      <td>510.0</td>\n",
       "      <td>-546.0</td>\n",
       "      <td>-202.0</td>\n",
       "      <td>-1269.0</td>\n",
       "      <td>1836.0</td>\n",
       "      <td>879.0</td>\n",
       "      <td>2364.0</td>\n",
       "      <td>1519.0</td>\n",
       "      <td>-5244.0</td>\n",
       "      <td>-107.0</td>\n",
       "      <td>1041</td>\n",
       "    </tr>\n",
       "    <tr>\n",
       "      <th>26</th>\n",
       "      <td>235.0</td>\n",
       "      <td>510.0</td>\n",
       "      <td>-546.0</td>\n",
       "      <td>-202.0</td>\n",
       "      <td>-1269.0</td>\n",
       "      <td>1836.0</td>\n",
       "      <td>879.0</td>\n",
       "      <td>2364.0</td>\n",
       "      <td>1519.0</td>\n",
       "      <td>-5244.0</td>\n",
       "      <td>-107.0</td>\n",
       "      <td>1041.0</td>\n",
       "      <td>-524</td>\n",
       "    </tr>\n",
       "    <tr>\n",
       "      <th>27</th>\n",
       "      <td>510.0</td>\n",
       "      <td>-546.0</td>\n",
       "      <td>-202.0</td>\n",
       "      <td>-1269.0</td>\n",
       "      <td>1836.0</td>\n",
       "      <td>879.0</td>\n",
       "      <td>2364.0</td>\n",
       "      <td>1519.0</td>\n",
       "      <td>-5244.0</td>\n",
       "      <td>-107.0</td>\n",
       "      <td>1041.0</td>\n",
       "      <td>-524.0</td>\n",
       "      <td>414</td>\n",
       "    </tr>\n",
       "    <tr>\n",
       "      <th>28</th>\n",
       "      <td>-546.0</td>\n",
       "      <td>-202.0</td>\n",
       "      <td>-1269.0</td>\n",
       "      <td>1836.0</td>\n",
       "      <td>879.0</td>\n",
       "      <td>2364.0</td>\n",
       "      <td>1519.0</td>\n",
       "      <td>-5244.0</td>\n",
       "      <td>-107.0</td>\n",
       "      <td>1041.0</td>\n",
       "      <td>-524.0</td>\n",
       "      <td>414.0</td>\n",
       "      <td>49</td>\n",
       "    </tr>\n",
       "    <tr>\n",
       "      <th>29</th>\n",
       "      <td>-202.0</td>\n",
       "      <td>-1269.0</td>\n",
       "      <td>1836.0</td>\n",
       "      <td>879.0</td>\n",
       "      <td>2364.0</td>\n",
       "      <td>1519.0</td>\n",
       "      <td>-5244.0</td>\n",
       "      <td>-107.0</td>\n",
       "      <td>1041.0</td>\n",
       "      <td>-524.0</td>\n",
       "      <td>414.0</td>\n",
       "      <td>49.0</td>\n",
       "      <td>-726</td>\n",
       "    </tr>\n",
       "    <tr>\n",
       "      <th>30</th>\n",
       "      <td>-1269.0</td>\n",
       "      <td>1836.0</td>\n",
       "      <td>879.0</td>\n",
       "      <td>2364.0</td>\n",
       "      <td>1519.0</td>\n",
       "      <td>-5244.0</td>\n",
       "      <td>-107.0</td>\n",
       "      <td>1041.0</td>\n",
       "      <td>-524.0</td>\n",
       "      <td>414.0</td>\n",
       "      <td>49.0</td>\n",
       "      <td>-726.0</td>\n",
       "      <td>-1687</td>\n",
       "    </tr>\n",
       "    <tr>\n",
       "      <th>31</th>\n",
       "      <td>1836.0</td>\n",
       "      <td>879.0</td>\n",
       "      <td>2364.0</td>\n",
       "      <td>1519.0</td>\n",
       "      <td>-5244.0</td>\n",
       "      <td>-107.0</td>\n",
       "      <td>1041.0</td>\n",
       "      <td>-524.0</td>\n",
       "      <td>414.0</td>\n",
       "      <td>49.0</td>\n",
       "      <td>-726.0</td>\n",
       "      <td>-1687.0</td>\n",
       "      <td>1955</td>\n",
       "    </tr>\n",
       "    <tr>\n",
       "      <th>32</th>\n",
       "      <td>879.0</td>\n",
       "      <td>2364.0</td>\n",
       "      <td>1519.0</td>\n",
       "      <td>-5244.0</td>\n",
       "      <td>-107.0</td>\n",
       "      <td>1041.0</td>\n",
       "      <td>-524.0</td>\n",
       "      <td>414.0</td>\n",
       "      <td>49.0</td>\n",
       "      <td>-726.0</td>\n",
       "      <td>-1687.0</td>\n",
       "      <td>1955.0</td>\n",
       "      <td>1683</td>\n",
       "    </tr>\n",
       "    <tr>\n",
       "      <th>33</th>\n",
       "      <td>2364.0</td>\n",
       "      <td>1519.0</td>\n",
       "      <td>-5244.0</td>\n",
       "      <td>-107.0</td>\n",
       "      <td>1041.0</td>\n",
       "      <td>-524.0</td>\n",
       "      <td>414.0</td>\n",
       "      <td>49.0</td>\n",
       "      <td>-726.0</td>\n",
       "      <td>-1687.0</td>\n",
       "      <td>1955.0</td>\n",
       "      <td>1683.0</td>\n",
       "      <td>2403</td>\n",
       "    </tr>\n",
       "    <tr>\n",
       "      <th>34</th>\n",
       "      <td>1519.0</td>\n",
       "      <td>-5244.0</td>\n",
       "      <td>-107.0</td>\n",
       "      <td>1041.0</td>\n",
       "      <td>-524.0</td>\n",
       "      <td>414.0</td>\n",
       "      <td>49.0</td>\n",
       "      <td>-726.0</td>\n",
       "      <td>-1687.0</td>\n",
       "      <td>1955.0</td>\n",
       "      <td>1683.0</td>\n",
       "      <td>2403.0</td>\n",
       "      <td>1640</td>\n",
       "    </tr>\n",
       "    <tr>\n",
       "      <th>35</th>\n",
       "      <td>-5244.0</td>\n",
       "      <td>-107.0</td>\n",
       "      <td>1041.0</td>\n",
       "      <td>-524.0</td>\n",
       "      <td>414.0</td>\n",
       "      <td>49.0</td>\n",
       "      <td>-726.0</td>\n",
       "      <td>-1687.0</td>\n",
       "      <td>1955.0</td>\n",
       "      <td>1683.0</td>\n",
       "      <td>2403.0</td>\n",
       "      <td>1640.0</td>\n",
       "      <td>-3879</td>\n",
       "    </tr>\n",
       "    <tr>\n",
       "      <th>36</th>\n",
       "      <td>-107.0</td>\n",
       "      <td>1041.0</td>\n",
       "      <td>-524.0</td>\n",
       "      <td>414.0</td>\n",
       "      <td>49.0</td>\n",
       "      <td>-726.0</td>\n",
       "      <td>-1687.0</td>\n",
       "      <td>1955.0</td>\n",
       "      <td>1683.0</td>\n",
       "      <td>2403.0</td>\n",
       "      <td>1640.0</td>\n",
       "      <td>-3879.0</td>\n",
       "      <td>-2287</td>\n",
       "    </tr>\n",
       "    <tr>\n",
       "      <th>37</th>\n",
       "      <td>1041.0</td>\n",
       "      <td>-524.0</td>\n",
       "      <td>414.0</td>\n",
       "      <td>49.0</td>\n",
       "      <td>-726.0</td>\n",
       "      <td>-1687.0</td>\n",
       "      <td>1955.0</td>\n",
       "      <td>1683.0</td>\n",
       "      <td>2403.0</td>\n",
       "      <td>1640.0</td>\n",
       "      <td>-3879.0</td>\n",
       "      <td>-2287.0</td>\n",
       "      <td>630</td>\n",
       "    </tr>\n",
       "    <tr>\n",
       "      <th>38</th>\n",
       "      <td>-524.0</td>\n",
       "      <td>414.0</td>\n",
       "      <td>49.0</td>\n",
       "      <td>-726.0</td>\n",
       "      <td>-1687.0</td>\n",
       "      <td>1955.0</td>\n",
       "      <td>1683.0</td>\n",
       "      <td>2403.0</td>\n",
       "      <td>1640.0</td>\n",
       "      <td>-3879.0</td>\n",
       "      <td>-2287.0</td>\n",
       "      <td>630.0</td>\n",
       "      <td>796</td>\n",
       "    </tr>\n",
       "    <tr>\n",
       "      <th>39</th>\n",
       "      <td>414.0</td>\n",
       "      <td>49.0</td>\n",
       "      <td>-726.0</td>\n",
       "      <td>-1687.0</td>\n",
       "      <td>1955.0</td>\n",
       "      <td>1683.0</td>\n",
       "      <td>2403.0</td>\n",
       "      <td>1640.0</td>\n",
       "      <td>-3879.0</td>\n",
       "      <td>-2287.0</td>\n",
       "      <td>630.0</td>\n",
       "      <td>796.0</td>\n",
       "      <td>6</td>\n",
       "    </tr>\n",
       "    <tr>\n",
       "      <th>40</th>\n",
       "      <td>49.0</td>\n",
       "      <td>-726.0</td>\n",
       "      <td>-1687.0</td>\n",
       "      <td>1955.0</td>\n",
       "      <td>1683.0</td>\n",
       "      <td>2403.0</td>\n",
       "      <td>1640.0</td>\n",
       "      <td>-3879.0</td>\n",
       "      <td>-2287.0</td>\n",
       "      <td>630.0</td>\n",
       "      <td>796.0</td>\n",
       "      <td>6.0</td>\n",
       "      <td>19</td>\n",
       "    </tr>\n",
       "    <tr>\n",
       "      <th>41</th>\n",
       "      <td>-726.0</td>\n",
       "      <td>-1687.0</td>\n",
       "      <td>1955.0</td>\n",
       "      <td>1683.0</td>\n",
       "      <td>2403.0</td>\n",
       "      <td>1640.0</td>\n",
       "      <td>-3879.0</td>\n",
       "      <td>-2287.0</td>\n",
       "      <td>630.0</td>\n",
       "      <td>796.0</td>\n",
       "      <td>6.0</td>\n",
       "      <td>19.0</td>\n",
       "      <td>-876</td>\n",
       "    </tr>\n",
       "    <tr>\n",
       "      <th>42</th>\n",
       "      <td>-1687.0</td>\n",
       "      <td>1955.0</td>\n",
       "      <td>1683.0</td>\n",
       "      <td>2403.0</td>\n",
       "      <td>1640.0</td>\n",
       "      <td>-3879.0</td>\n",
       "      <td>-2287.0</td>\n",
       "      <td>630.0</td>\n",
       "      <td>796.0</td>\n",
       "      <td>6.0</td>\n",
       "      <td>19.0</td>\n",
       "      <td>-876.0</td>\n",
       "      <td>-2020</td>\n",
       "    </tr>\n",
       "    <tr>\n",
       "      <th>43</th>\n",
       "      <td>1955.0</td>\n",
       "      <td>1683.0</td>\n",
       "      <td>2403.0</td>\n",
       "      <td>1640.0</td>\n",
       "      <td>-3879.0</td>\n",
       "      <td>-2287.0</td>\n",
       "      <td>630.0</td>\n",
       "      <td>796.0</td>\n",
       "      <td>6.0</td>\n",
       "      <td>19.0</td>\n",
       "      <td>-876.0</td>\n",
       "      <td>-2020.0</td>\n",
       "      <td>3096</td>\n",
       "    </tr>\n",
       "    <tr>\n",
       "      <th>44</th>\n",
       "      <td>1683.0</td>\n",
       "      <td>2403.0</td>\n",
       "      <td>1640.0</td>\n",
       "      <td>-3879.0</td>\n",
       "      <td>-2287.0</td>\n",
       "      <td>630.0</td>\n",
       "      <td>796.0</td>\n",
       "      <td>6.0</td>\n",
       "      <td>19.0</td>\n",
       "      <td>-876.0</td>\n",
       "      <td>-2020.0</td>\n",
       "      <td>3096.0</td>\n",
       "      <td>689</td>\n",
       "    </tr>\n",
       "    <tr>\n",
       "      <th>45</th>\n",
       "      <td>2403.0</td>\n",
       "      <td>1640.0</td>\n",
       "      <td>-3879.0</td>\n",
       "      <td>-2287.0</td>\n",
       "      <td>630.0</td>\n",
       "      <td>796.0</td>\n",
       "      <td>6.0</td>\n",
       "      <td>19.0</td>\n",
       "      <td>-876.0</td>\n",
       "      <td>-2020.0</td>\n",
       "      <td>3096.0</td>\n",
       "      <td>689.0</td>\n",
       "      <td>2886</td>\n",
       "    </tr>\n",
       "    <tr>\n",
       "      <th>46</th>\n",
       "      <td>1640.0</td>\n",
       "      <td>-3879.0</td>\n",
       "      <td>-2287.0</td>\n",
       "      <td>630.0</td>\n",
       "      <td>796.0</td>\n",
       "      <td>6.0</td>\n",
       "      <td>19.0</td>\n",
       "      <td>-876.0</td>\n",
       "      <td>-2020.0</td>\n",
       "      <td>3096.0</td>\n",
       "      <td>689.0</td>\n",
       "      <td>2886.0</td>\n",
       "      <td>2337</td>\n",
       "    </tr>\n",
       "    <tr>\n",
       "      <th>47</th>\n",
       "      <td>-3879.0</td>\n",
       "      <td>-2287.0</td>\n",
       "      <td>630.0</td>\n",
       "      <td>796.0</td>\n",
       "      <td>6.0</td>\n",
       "      <td>19.0</td>\n",
       "      <td>-876.0</td>\n",
       "      <td>-2020.0</td>\n",
       "      <td>3096.0</td>\n",
       "      <td>689.0</td>\n",
       "      <td>2886.0</td>\n",
       "      <td>2337.0</td>\n",
       "      <td>-7018</td>\n",
       "    </tr>\n",
       "    <tr>\n",
       "      <th>48</th>\n",
       "      <td>-2287.0</td>\n",
       "      <td>630.0</td>\n",
       "      <td>796.0</td>\n",
       "      <td>6.0</td>\n",
       "      <td>19.0</td>\n",
       "      <td>-876.0</td>\n",
       "      <td>-2020.0</td>\n",
       "      <td>3096.0</td>\n",
       "      <td>689.0</td>\n",
       "      <td>2886.0</td>\n",
       "      <td>2337.0</td>\n",
       "      <td>-7018.0</td>\n",
       "      <td>659</td>\n",
       "    </tr>\n",
       "    <tr>\n",
       "      <th>49</th>\n",
       "      <td>630.0</td>\n",
       "      <td>796.0</td>\n",
       "      <td>6.0</td>\n",
       "      <td>19.0</td>\n",
       "      <td>-876.0</td>\n",
       "      <td>-2020.0</td>\n",
       "      <td>3096.0</td>\n",
       "      <td>689.0</td>\n",
       "      <td>2886.0</td>\n",
       "      <td>2337.0</td>\n",
       "      <td>-7018.0</td>\n",
       "      <td>659.0</td>\n",
       "      <td>-138</td>\n",
       "    </tr>\n",
       "    <tr>\n",
       "      <th>50</th>\n",
       "      <td>796.0</td>\n",
       "      <td>6.0</td>\n",
       "      <td>19.0</td>\n",
       "      <td>-876.0</td>\n",
       "      <td>-2020.0</td>\n",
       "      <td>3096.0</td>\n",
       "      <td>689.0</td>\n",
       "      <td>2886.0</td>\n",
       "      <td>2337.0</td>\n",
       "      <td>-7018.0</td>\n",
       "      <td>659.0</td>\n",
       "      <td>-138.0</td>\n",
       "      <td>-33</td>\n",
       "    </tr>\n",
       "    <tr>\n",
       "      <th>51</th>\n",
       "      <td>6.0</td>\n",
       "      <td>19.0</td>\n",
       "      <td>-876.0</td>\n",
       "      <td>-2020.0</td>\n",
       "      <td>3096.0</td>\n",
       "      <td>689.0</td>\n",
       "      <td>2886.0</td>\n",
       "      <td>2337.0</td>\n",
       "      <td>-7018.0</td>\n",
       "      <td>659.0</td>\n",
       "      <td>-138.0</td>\n",
       "      <td>-33.0</td>\n",
       "      <td>526</td>\n",
       "    </tr>\n",
       "    <tr>\n",
       "      <th>52</th>\n",
       "      <td>19.0</td>\n",
       "      <td>-876.0</td>\n",
       "      <td>-2020.0</td>\n",
       "      <td>3096.0</td>\n",
       "      <td>689.0</td>\n",
       "      <td>2886.0</td>\n",
       "      <td>2337.0</td>\n",
       "      <td>-7018.0</td>\n",
       "      <td>659.0</td>\n",
       "      <td>-138.0</td>\n",
       "      <td>-33.0</td>\n",
       "      <td>526.0</td>\n",
       "      <td>106</td>\n",
       "    </tr>\n",
       "    <tr>\n",
       "      <th>53</th>\n",
       "      <td>-876.0</td>\n",
       "      <td>-2020.0</td>\n",
       "      <td>3096.0</td>\n",
       "      <td>689.0</td>\n",
       "      <td>2886.0</td>\n",
       "      <td>2337.0</td>\n",
       "      <td>-7018.0</td>\n",
       "      <td>659.0</td>\n",
       "      <td>-138.0</td>\n",
       "      <td>-33.0</td>\n",
       "      <td>526.0</td>\n",
       "      <td>106.0</td>\n",
       "      <td>-788</td>\n",
       "    </tr>\n",
       "    <tr>\n",
       "      <th>54</th>\n",
       "      <td>-2020.0</td>\n",
       "      <td>3096.0</td>\n",
       "      <td>689.0</td>\n",
       "      <td>2886.0</td>\n",
       "      <td>2337.0</td>\n",
       "      <td>-7018.0</td>\n",
       "      <td>659.0</td>\n",
       "      <td>-138.0</td>\n",
       "      <td>-33.0</td>\n",
       "      <td>526.0</td>\n",
       "      <td>106.0</td>\n",
       "      <td>-788.0</td>\n",
       "      <td>-2242</td>\n",
       "    </tr>\n",
       "    <tr>\n",
       "      <th>55</th>\n",
       "      <td>3096.0</td>\n",
       "      <td>689.0</td>\n",
       "      <td>2886.0</td>\n",
       "      <td>2337.0</td>\n",
       "      <td>-7018.0</td>\n",
       "      <td>659.0</td>\n",
       "      <td>-138.0</td>\n",
       "      <td>-33.0</td>\n",
       "      <td>526.0</td>\n",
       "      <td>106.0</td>\n",
       "      <td>-788.0</td>\n",
       "      <td>-2242.0</td>\n",
       "      <td>3325</td>\n",
       "    </tr>\n",
       "    <tr>\n",
       "      <th>56</th>\n",
       "      <td>689.0</td>\n",
       "      <td>2886.0</td>\n",
       "      <td>2337.0</td>\n",
       "      <td>-7018.0</td>\n",
       "      <td>659.0</td>\n",
       "      <td>-138.0</td>\n",
       "      <td>-33.0</td>\n",
       "      <td>526.0</td>\n",
       "      <td>106.0</td>\n",
       "      <td>-788.0</td>\n",
       "      <td>-2242.0</td>\n",
       "      <td>3325.0</td>\n",
       "      <td>1874</td>\n",
       "    </tr>\n",
       "    <tr>\n",
       "      <th>57</th>\n",
       "      <td>2886.0</td>\n",
       "      <td>2337.0</td>\n",
       "      <td>-7018.0</td>\n",
       "      <td>659.0</td>\n",
       "      <td>-138.0</td>\n",
       "      <td>-33.0</td>\n",
       "      <td>526.0</td>\n",
       "      <td>106.0</td>\n",
       "      <td>-788.0</td>\n",
       "      <td>-2242.0</td>\n",
       "      <td>3325.0</td>\n",
       "      <td>1874.0</td>\n",
       "      <td>2936</td>\n",
       "    </tr>\n",
       "    <tr>\n",
       "      <th>58</th>\n",
       "      <td>2337.0</td>\n",
       "      <td>-7018.0</td>\n",
       "      <td>659.0</td>\n",
       "      <td>-138.0</td>\n",
       "      <td>-33.0</td>\n",
       "      <td>526.0</td>\n",
       "      <td>106.0</td>\n",
       "      <td>-788.0</td>\n",
       "      <td>-2242.0</td>\n",
       "      <td>3325.0</td>\n",
       "      <td>1874.0</td>\n",
       "      <td>2936.0</td>\n",
       "      <td>1473</td>\n",
       "    </tr>\n",
       "    <tr>\n",
       "      <th>59</th>\n",
       "      <td>-7018.0</td>\n",
       "      <td>659.0</td>\n",
       "      <td>-138.0</td>\n",
       "      <td>-33.0</td>\n",
       "      <td>526.0</td>\n",
       "      <td>106.0</td>\n",
       "      <td>-788.0</td>\n",
       "      <td>-2242.0</td>\n",
       "      <td>3325.0</td>\n",
       "      <td>1874.0</td>\n",
       "      <td>2936.0</td>\n",
       "      <td>1473.0</td>\n",
       "      <td>-7315</td>\n",
       "    </tr>\n",
       "    <tr>\n",
       "      <th>60</th>\n",
       "      <td>659.0</td>\n",
       "      <td>-138.0</td>\n",
       "      <td>-33.0</td>\n",
       "      <td>526.0</td>\n",
       "      <td>106.0</td>\n",
       "      <td>-788.0</td>\n",
       "      <td>-2242.0</td>\n",
       "      <td>3325.0</td>\n",
       "      <td>1874.0</td>\n",
       "      <td>2936.0</td>\n",
       "      <td>1473.0</td>\n",
       "      <td>-7315.0</td>\n",
       "      <td>-59</td>\n",
       "    </tr>\n",
       "    <tr>\n",
       "      <th>61</th>\n",
       "      <td>-138.0</td>\n",
       "      <td>-33.0</td>\n",
       "      <td>526.0</td>\n",
       "      <td>106.0</td>\n",
       "      <td>-788.0</td>\n",
       "      <td>-2242.0</td>\n",
       "      <td>3325.0</td>\n",
       "      <td>1874.0</td>\n",
       "      <td>2936.0</td>\n",
       "      <td>1473.0</td>\n",
       "      <td>-7315.0</td>\n",
       "      <td>-59.0</td>\n",
       "      <td>553</td>\n",
       "    </tr>\n",
       "    <tr>\n",
       "      <th>62</th>\n",
       "      <td>-33.0</td>\n",
       "      <td>526.0</td>\n",
       "      <td>106.0</td>\n",
       "      <td>-788.0</td>\n",
       "      <td>-2242.0</td>\n",
       "      <td>3325.0</td>\n",
       "      <td>1874.0</td>\n",
       "      <td>2936.0</td>\n",
       "      <td>1473.0</td>\n",
       "      <td>-7315.0</td>\n",
       "      <td>-59.0</td>\n",
       "      <td>553.0</td>\n",
       "      <td>-234</td>\n",
       "    </tr>\n",
       "    <tr>\n",
       "      <th>63</th>\n",
       "      <td>526.0</td>\n",
       "      <td>106.0</td>\n",
       "      <td>-788.0</td>\n",
       "      <td>-2242.0</td>\n",
       "      <td>3325.0</td>\n",
       "      <td>1874.0</td>\n",
       "      <td>2936.0</td>\n",
       "      <td>1473.0</td>\n",
       "      <td>-7315.0</td>\n",
       "      <td>-59.0</td>\n",
       "      <td>553.0</td>\n",
       "      <td>-234.0</td>\n",
       "      <td>692</td>\n",
       "    </tr>\n",
       "    <tr>\n",
       "      <th>64</th>\n",
       "      <td>106.0</td>\n",
       "      <td>-788.0</td>\n",
       "      <td>-2242.0</td>\n",
       "      <td>3325.0</td>\n",
       "      <td>1874.0</td>\n",
       "      <td>2936.0</td>\n",
       "      <td>1473.0</td>\n",
       "      <td>-7315.0</td>\n",
       "      <td>-59.0</td>\n",
       "      <td>553.0</td>\n",
       "      <td>-234.0</td>\n",
       "      <td>692.0</td>\n",
       "      <td>-291</td>\n",
       "    </tr>\n",
       "    <tr>\n",
       "      <th>65</th>\n",
       "      <td>-788.0</td>\n",
       "      <td>-2242.0</td>\n",
       "      <td>3325.0</td>\n",
       "      <td>1874.0</td>\n",
       "      <td>2936.0</td>\n",
       "      <td>1473.0</td>\n",
       "      <td>-7315.0</td>\n",
       "      <td>-59.0</td>\n",
       "      <td>553.0</td>\n",
       "      <td>-234.0</td>\n",
       "      <td>692.0</td>\n",
       "      <td>-291.0</td>\n",
       "      <td>-1154</td>\n",
       "    </tr>\n",
       "    <tr>\n",
       "      <th>66</th>\n",
       "      <td>-2242.0</td>\n",
       "      <td>3325.0</td>\n",
       "      <td>1874.0</td>\n",
       "      <td>2936.0</td>\n",
       "      <td>1473.0</td>\n",
       "      <td>-7315.0</td>\n",
       "      <td>-59.0</td>\n",
       "      <td>553.0</td>\n",
       "      <td>-234.0</td>\n",
       "      <td>692.0</td>\n",
       "      <td>-291.0</td>\n",
       "      <td>-1154.0</td>\n",
       "      <td>-1702</td>\n",
       "    </tr>\n",
       "    <tr>\n",
       "      <th>67</th>\n",
       "      <td>3325.0</td>\n",
       "      <td>1874.0</td>\n",
       "      <td>2936.0</td>\n",
       "      <td>1473.0</td>\n",
       "      <td>-7315.0</td>\n",
       "      <td>-59.0</td>\n",
       "      <td>553.0</td>\n",
       "      <td>-234.0</td>\n",
       "      <td>692.0</td>\n",
       "      <td>-291.0</td>\n",
       "      <td>-1154.0</td>\n",
       "      <td>-1702.0</td>\n",
       "      <td>3401</td>\n",
       "    </tr>\n",
       "    <tr>\n",
       "      <th>68</th>\n",
       "      <td>1874.0</td>\n",
       "      <td>2936.0</td>\n",
       "      <td>1473.0</td>\n",
       "      <td>-7315.0</td>\n",
       "      <td>-59.0</td>\n",
       "      <td>553.0</td>\n",
       "      <td>-234.0</td>\n",
       "      <td>692.0</td>\n",
       "      <td>-291.0</td>\n",
       "      <td>-1154.0</td>\n",
       "      <td>-1702.0</td>\n",
       "      <td>3401.0</td>\n",
       "      <td>1650</td>\n",
       "    </tr>\n",
       "    <tr>\n",
       "      <th>69</th>\n",
       "      <td>2936.0</td>\n",
       "      <td>1473.0</td>\n",
       "      <td>-7315.0</td>\n",
       "      <td>-59.0</td>\n",
       "      <td>553.0</td>\n",
       "      <td>-234.0</td>\n",
       "      <td>692.0</td>\n",
       "      <td>-291.0</td>\n",
       "      <td>-1154.0</td>\n",
       "      <td>-1702.0</td>\n",
       "      <td>3401.0</td>\n",
       "      <td>1650.0</td>\n",
       "      <td>3931</td>\n",
       "    </tr>\n",
       "    <tr>\n",
       "      <th>70</th>\n",
       "      <td>1473.0</td>\n",
       "      <td>-7315.0</td>\n",
       "      <td>-59.0</td>\n",
       "      <td>553.0</td>\n",
       "      <td>-234.0</td>\n",
       "      <td>692.0</td>\n",
       "      <td>-291.0</td>\n",
       "      <td>-1154.0</td>\n",
       "      <td>-1702.0</td>\n",
       "      <td>3401.0</td>\n",
       "      <td>1650.0</td>\n",
       "      <td>3931.0</td>\n",
       "      <td>3113</td>\n",
       "    </tr>\n",
       "    <tr>\n",
       "      <th>71</th>\n",
       "      <td>-7315.0</td>\n",
       "      <td>-59.0</td>\n",
       "      <td>553.0</td>\n",
       "      <td>-234.0</td>\n",
       "      <td>692.0</td>\n",
       "      <td>-291.0</td>\n",
       "      <td>-1154.0</td>\n",
       "      <td>-1702.0</td>\n",
       "      <td>3401.0</td>\n",
       "      <td>1650.0</td>\n",
       "      <td>3931.0</td>\n",
       "      <td>3113.0</td>\n",
       "      <td>-11277</td>\n",
       "    </tr>\n",
       "    <tr>\n",
       "      <th>72</th>\n",
       "      <td>-59.0</td>\n",
       "      <td>553.0</td>\n",
       "      <td>-234.0</td>\n",
       "      <td>692.0</td>\n",
       "      <td>-291.0</td>\n",
       "      <td>-1154.0</td>\n",
       "      <td>-1702.0</td>\n",
       "      <td>3401.0</td>\n",
       "      <td>1650.0</td>\n",
       "      <td>3931.0</td>\n",
       "      <td>3113.0</td>\n",
       "      <td>-11277.0</td>\n",
       "      <td>260</td>\n",
       "    </tr>\n",
       "    <tr>\n",
       "      <th>73</th>\n",
       "      <td>553.0</td>\n",
       "      <td>-234.0</td>\n",
       "      <td>692.0</td>\n",
       "      <td>-291.0</td>\n",
       "      <td>-1154.0</td>\n",
       "      <td>-1702.0</td>\n",
       "      <td>3401.0</td>\n",
       "      <td>1650.0</td>\n",
       "      <td>3931.0</td>\n",
       "      <td>3113.0</td>\n",
       "      <td>-11277.0</td>\n",
       "      <td>260.0</td>\n",
       "      <td>471</td>\n",
       "    </tr>\n",
       "    <tr>\n",
       "      <th>74</th>\n",
       "      <td>-234.0</td>\n",
       "      <td>692.0</td>\n",
       "      <td>-291.0</td>\n",
       "      <td>-1154.0</td>\n",
       "      <td>-1702.0</td>\n",
       "      <td>3401.0</td>\n",
       "      <td>1650.0</td>\n",
       "      <td>3931.0</td>\n",
       "      <td>3113.0</td>\n",
       "      <td>-11277.0</td>\n",
       "      <td>260.0</td>\n",
       "      <td>471.0</td>\n",
       "      <td>370</td>\n",
       "    </tr>\n",
       "    <tr>\n",
       "      <th>75</th>\n",
       "      <td>692.0</td>\n",
       "      <td>-291.0</td>\n",
       "      <td>-1154.0</td>\n",
       "      <td>-1702.0</td>\n",
       "      <td>3401.0</td>\n",
       "      <td>1650.0</td>\n",
       "      <td>3931.0</td>\n",
       "      <td>3113.0</td>\n",
       "      <td>-11277.0</td>\n",
       "      <td>260.0</td>\n",
       "      <td>471.0</td>\n",
       "      <td>370.0</td>\n",
       "      <td>-813</td>\n",
       "    </tr>\n",
       "    <tr>\n",
       "      <th>76</th>\n",
       "      <td>-291.0</td>\n",
       "      <td>-1154.0</td>\n",
       "      <td>-1702.0</td>\n",
       "      <td>3401.0</td>\n",
       "      <td>1650.0</td>\n",
       "      <td>3931.0</td>\n",
       "      <td>3113.0</td>\n",
       "      <td>-11277.0</td>\n",
       "      <td>260.0</td>\n",
       "      <td>471.0</td>\n",
       "      <td>370.0</td>\n",
       "      <td>-813.0</td>\n",
       "      <td>1059</td>\n",
       "    </tr>\n",
       "    <tr>\n",
       "      <th>77</th>\n",
       "      <td>-1154.0</td>\n",
       "      <td>-1702.0</td>\n",
       "      <td>3401.0</td>\n",
       "      <td>1650.0</td>\n",
       "      <td>3931.0</td>\n",
       "      <td>3113.0</td>\n",
       "      <td>-11277.0</td>\n",
       "      <td>260.0</td>\n",
       "      <td>471.0</td>\n",
       "      <td>370.0</td>\n",
       "      <td>-813.0</td>\n",
       "      <td>1059.0</td>\n",
       "      <td>231</td>\n",
       "    </tr>\n",
       "    <tr>\n",
       "      <th>78</th>\n",
       "      <td>-1702.0</td>\n",
       "      <td>3401.0</td>\n",
       "      <td>1650.0</td>\n",
       "      <td>3931.0</td>\n",
       "      <td>3113.0</td>\n",
       "      <td>-11277.0</td>\n",
       "      <td>260.0</td>\n",
       "      <td>471.0</td>\n",
       "      <td>370.0</td>\n",
       "      <td>-813.0</td>\n",
       "      <td>1059.0</td>\n",
       "      <td>231.0</td>\n",
       "      <td>-2479</td>\n",
       "    </tr>\n",
       "    <tr>\n",
       "      <th>79</th>\n",
       "      <td>3401.0</td>\n",
       "      <td>1650.0</td>\n",
       "      <td>3931.0</td>\n",
       "      <td>3113.0</td>\n",
       "      <td>-11277.0</td>\n",
       "      <td>260.0</td>\n",
       "      <td>471.0</td>\n",
       "      <td>370.0</td>\n",
       "      <td>-813.0</td>\n",
       "      <td>1059.0</td>\n",
       "      <td>231.0</td>\n",
       "      <td>-2479.0</td>\n",
       "      <td>3483</td>\n",
       "    </tr>\n",
       "    <tr>\n",
       "      <th>80</th>\n",
       "      <td>1650.0</td>\n",
       "      <td>3931.0</td>\n",
       "      <td>3113.0</td>\n",
       "      <td>-11277.0</td>\n",
       "      <td>260.0</td>\n",
       "      <td>471.0</td>\n",
       "      <td>370.0</td>\n",
       "      <td>-813.0</td>\n",
       "      <td>1059.0</td>\n",
       "      <td>231.0</td>\n",
       "      <td>-2479.0</td>\n",
       "      <td>3483.0</td>\n",
       "      <td>1203</td>\n",
       "    </tr>\n",
       "    <tr>\n",
       "      <th>81</th>\n",
       "      <td>3931.0</td>\n",
       "      <td>3113.0</td>\n",
       "      <td>-11277.0</td>\n",
       "      <td>260.0</td>\n",
       "      <td>471.0</td>\n",
       "      <td>370.0</td>\n",
       "      <td>-813.0</td>\n",
       "      <td>1059.0</td>\n",
       "      <td>231.0</td>\n",
       "      <td>-2479.0</td>\n",
       "      <td>3483.0</td>\n",
       "      <td>1203.0</td>\n",
       "      <td>3418</td>\n",
       "    </tr>\n",
       "    <tr>\n",
       "      <th>82</th>\n",
       "      <td>3113.0</td>\n",
       "      <td>-11277.0</td>\n",
       "      <td>260.0</td>\n",
       "      <td>471.0</td>\n",
       "      <td>370.0</td>\n",
       "      <td>-813.0</td>\n",
       "      <td>1059.0</td>\n",
       "      <td>231.0</td>\n",
       "      <td>-2479.0</td>\n",
       "      <td>3483.0</td>\n",
       "      <td>1203.0</td>\n",
       "      <td>3418.0</td>\n",
       "      <td>3234</td>\n",
       "    </tr>\n",
       "    <tr>\n",
       "      <th>83</th>\n",
       "      <td>-11277.0</td>\n",
       "      <td>260.0</td>\n",
       "      <td>471.0</td>\n",
       "      <td>370.0</td>\n",
       "      <td>-813.0</td>\n",
       "      <td>1059.0</td>\n",
       "      <td>231.0</td>\n",
       "      <td>-2479.0</td>\n",
       "      <td>3483.0</td>\n",
       "      <td>1203.0</td>\n",
       "      <td>3418.0</td>\n",
       "      <td>3234.0</td>\n",
       "      <td>-9142</td>\n",
       "    </tr>\n",
       "    <tr>\n",
       "      <th>84</th>\n",
       "      <td>260.0</td>\n",
       "      <td>471.0</td>\n",
       "      <td>370.0</td>\n",
       "      <td>-813.0</td>\n",
       "      <td>1059.0</td>\n",
       "      <td>231.0</td>\n",
       "      <td>-2479.0</td>\n",
       "      <td>3483.0</td>\n",
       "      <td>1203.0</td>\n",
       "      <td>3418.0</td>\n",
       "      <td>3234.0</td>\n",
       "      <td>-9142.0</td>\n",
       "      <td>-772</td>\n",
       "    </tr>\n",
       "    <tr>\n",
       "      <th>85</th>\n",
       "      <td>471.0</td>\n",
       "      <td>370.0</td>\n",
       "      <td>-813.0</td>\n",
       "      <td>1059.0</td>\n",
       "      <td>231.0</td>\n",
       "      <td>-2479.0</td>\n",
       "      <td>3483.0</td>\n",
       "      <td>1203.0</td>\n",
       "      <td>3418.0</td>\n",
       "      <td>3234.0</td>\n",
       "      <td>-9142.0</td>\n",
       "      <td>-772.0</td>\n",
       "      <td>1124</td>\n",
       "    </tr>\n",
       "    <tr>\n",
       "      <th>86</th>\n",
       "      <td>370.0</td>\n",
       "      <td>-813.0</td>\n",
       "      <td>1059.0</td>\n",
       "      <td>231.0</td>\n",
       "      <td>-2479.0</td>\n",
       "      <td>3483.0</td>\n",
       "      <td>1203.0</td>\n",
       "      <td>3418.0</td>\n",
       "      <td>3234.0</td>\n",
       "      <td>-9142.0</td>\n",
       "      <td>-772.0</td>\n",
       "      <td>1124.0</td>\n",
       "      <td>390</td>\n",
       "    </tr>\n",
       "    <tr>\n",
       "      <th>87</th>\n",
       "      <td>-813.0</td>\n",
       "      <td>1059.0</td>\n",
       "      <td>231.0</td>\n",
       "      <td>-2479.0</td>\n",
       "      <td>3483.0</td>\n",
       "      <td>1203.0</td>\n",
       "      <td>3418.0</td>\n",
       "      <td>3234.0</td>\n",
       "      <td>-9142.0</td>\n",
       "      <td>-772.0</td>\n",
       "      <td>1124.0</td>\n",
       "      <td>390.0</td>\n",
       "      <td>334</td>\n",
       "    </tr>\n",
       "    <tr>\n",
       "      <th>88</th>\n",
       "      <td>1059.0</td>\n",
       "      <td>231.0</td>\n",
       "      <td>-2479.0</td>\n",
       "      <td>3483.0</td>\n",
       "      <td>1203.0</td>\n",
       "      <td>3418.0</td>\n",
       "      <td>3234.0</td>\n",
       "      <td>-9142.0</td>\n",
       "      <td>-772.0</td>\n",
       "      <td>1124.0</td>\n",
       "      <td>390.0</td>\n",
       "      <td>334.0</td>\n",
       "      <td>-136</td>\n",
       "    </tr>\n",
       "    <tr>\n",
       "      <th>89</th>\n",
       "      <td>231.0</td>\n",
       "      <td>-2479.0</td>\n",
       "      <td>3483.0</td>\n",
       "      <td>1203.0</td>\n",
       "      <td>3418.0</td>\n",
       "      <td>3234.0</td>\n",
       "      <td>-9142.0</td>\n",
       "      <td>-772.0</td>\n",
       "      <td>1124.0</td>\n",
       "      <td>390.0</td>\n",
       "      <td>334.0</td>\n",
       "      <td>-136.0</td>\n",
       "      <td>-241</td>\n",
       "    </tr>\n",
       "    <tr>\n",
       "      <th>90</th>\n",
       "      <td>-2479.0</td>\n",
       "      <td>3483.0</td>\n",
       "      <td>1203.0</td>\n",
       "      <td>3418.0</td>\n",
       "      <td>3234.0</td>\n",
       "      <td>-9142.0</td>\n",
       "      <td>-772.0</td>\n",
       "      <td>1124.0</td>\n",
       "      <td>390.0</td>\n",
       "      <td>334.0</td>\n",
       "      <td>-136.0</td>\n",
       "      <td>-241.0</td>\n",
       "      <td>-2974</td>\n",
       "    </tr>\n",
       "    <tr>\n",
       "      <th>91</th>\n",
       "      <td>3483.0</td>\n",
       "      <td>1203.0</td>\n",
       "      <td>3418.0</td>\n",
       "      <td>3234.0</td>\n",
       "      <td>-9142.0</td>\n",
       "      <td>-772.0</td>\n",
       "      <td>1124.0</td>\n",
       "      <td>390.0</td>\n",
       "      <td>334.0</td>\n",
       "      <td>-136.0</td>\n",
       "      <td>-241.0</td>\n",
       "      <td>-2974.0</td>\n",
       "      <td>4292</td>\n",
       "    </tr>\n",
       "    <tr>\n",
       "      <th>92</th>\n",
       "      <td>1203.0</td>\n",
       "      <td>3418.0</td>\n",
       "      <td>3234.0</td>\n",
       "      <td>-9142.0</td>\n",
       "      <td>-772.0</td>\n",
       "      <td>1124.0</td>\n",
       "      <td>390.0</td>\n",
       "      <td>334.0</td>\n",
       "      <td>-136.0</td>\n",
       "      <td>-241.0</td>\n",
       "      <td>-2974.0</td>\n",
       "      <td>4292.0</td>\n",
       "      <td>1030</td>\n",
       "    </tr>\n",
       "    <tr>\n",
       "      <th>93</th>\n",
       "      <td>3418.0</td>\n",
       "      <td>3234.0</td>\n",
       "      <td>-9142.0</td>\n",
       "      <td>-772.0</td>\n",
       "      <td>1124.0</td>\n",
       "      <td>390.0</td>\n",
       "      <td>334.0</td>\n",
       "      <td>-136.0</td>\n",
       "      <td>-241.0</td>\n",
       "      <td>-2974.0</td>\n",
       "      <td>4292.0</td>\n",
       "      <td>1030.0</td>\n",
       "      <td>2870</td>\n",
       "    </tr>\n",
       "    <tr>\n",
       "      <th>94</th>\n",
       "      <td>3234.0</td>\n",
       "      <td>-9142.0</td>\n",
       "      <td>-772.0</td>\n",
       "      <td>1124.0</td>\n",
       "      <td>390.0</td>\n",
       "      <td>334.0</td>\n",
       "      <td>-136.0</td>\n",
       "      <td>-241.0</td>\n",
       "      <td>-2974.0</td>\n",
       "      <td>4292.0</td>\n",
       "      <td>1030.0</td>\n",
       "      <td>2870.0</td>\n",
       "      <td>2819</td>\n",
       "    </tr>\n",
       "    <tr>\n",
       "      <th>95</th>\n",
       "      <td>-9142.0</td>\n",
       "      <td>-772.0</td>\n",
       "      <td>1124.0</td>\n",
       "      <td>390.0</td>\n",
       "      <td>334.0</td>\n",
       "      <td>-136.0</td>\n",
       "      <td>-241.0</td>\n",
       "      <td>-2974.0</td>\n",
       "      <td>4292.0</td>\n",
       "      <td>1030.0</td>\n",
       "      <td>2870.0</td>\n",
       "      <td>2819.0</td>\n",
       "      <td>-8322</td>\n",
       "    </tr>\n",
       "    <tr>\n",
       "      <th>96</th>\n",
       "      <td>-772.0</td>\n",
       "      <td>1124.0</td>\n",
       "      <td>390.0</td>\n",
       "      <td>334.0</td>\n",
       "      <td>-136.0</td>\n",
       "      <td>-241.0</td>\n",
       "      <td>-2974.0</td>\n",
       "      <td>4292.0</td>\n",
       "      <td>1030.0</td>\n",
       "      <td>2870.0</td>\n",
       "      <td>2819.0</td>\n",
       "      <td>-8322.0</td>\n",
       "      <td>-784</td>\n",
       "    </tr>\n",
       "    <tr>\n",
       "      <th>97</th>\n",
       "      <td>1124.0</td>\n",
       "      <td>390.0</td>\n",
       "      <td>334.0</td>\n",
       "      <td>-136.0</td>\n",
       "      <td>-241.0</td>\n",
       "      <td>-2974.0</td>\n",
       "      <td>4292.0</td>\n",
       "      <td>1030.0</td>\n",
       "      <td>2870.0</td>\n",
       "      <td>2819.0</td>\n",
       "      <td>-8322.0</td>\n",
       "      <td>-784.0</td>\n",
       "      <td>1013</td>\n",
       "    </tr>\n",
       "    <tr>\n",
       "      <th>98</th>\n",
       "      <td>390.0</td>\n",
       "      <td>334.0</td>\n",
       "      <td>-136.0</td>\n",
       "      <td>-241.0</td>\n",
       "      <td>-2974.0</td>\n",
       "      <td>4292.0</td>\n",
       "      <td>1030.0</td>\n",
       "      <td>2870.0</td>\n",
       "      <td>2819.0</td>\n",
       "      <td>-8322.0</td>\n",
       "      <td>-784.0</td>\n",
       "      <td>1013.0</td>\n",
       "      <td>211</td>\n",
       "    </tr>\n",
       "    <tr>\n",
       "      <th>99</th>\n",
       "      <td>334.0</td>\n",
       "      <td>-136.0</td>\n",
       "      <td>-241.0</td>\n",
       "      <td>-2974.0</td>\n",
       "      <td>4292.0</td>\n",
       "      <td>1030.0</td>\n",
       "      <td>2870.0</td>\n",
       "      <td>2819.0</td>\n",
       "      <td>-8322.0</td>\n",
       "      <td>-784.0</td>\n",
       "      <td>1013.0</td>\n",
       "      <td>211.0</td>\n",
       "      <td>-170</td>\n",
       "    </tr>\n",
       "    <tr>\n",
       "      <th>100</th>\n",
       "      <td>-136.0</td>\n",
       "      <td>-241.0</td>\n",
       "      <td>-2974.0</td>\n",
       "      <td>4292.0</td>\n",
       "      <td>1030.0</td>\n",
       "      <td>2870.0</td>\n",
       "      <td>2819.0</td>\n",
       "      <td>-8322.0</td>\n",
       "      <td>-784.0</td>\n",
       "      <td>1013.0</td>\n",
       "      <td>211.0</td>\n",
       "      <td>-170.0</td>\n",
       "      <td>694</td>\n",
       "    </tr>\n",
       "    <tr>\n",
       "      <th>101</th>\n",
       "      <td>-241.0</td>\n",
       "      <td>-2974.0</td>\n",
       "      <td>4292.0</td>\n",
       "      <td>1030.0</td>\n",
       "      <td>2870.0</td>\n",
       "      <td>2819.0</td>\n",
       "      <td>-8322.0</td>\n",
       "      <td>-784.0</td>\n",
       "      <td>1013.0</td>\n",
       "      <td>211.0</td>\n",
       "      <td>-170.0</td>\n",
       "      <td>694.0</td>\n",
       "      <td>-1014</td>\n",
       "    </tr>\n",
       "    <tr>\n",
       "      <th>102</th>\n",
       "      <td>-2974.0</td>\n",
       "      <td>4292.0</td>\n",
       "      <td>1030.0</td>\n",
       "      <td>2870.0</td>\n",
       "      <td>2819.0</td>\n",
       "      <td>-8322.0</td>\n",
       "      <td>-784.0</td>\n",
       "      <td>1013.0</td>\n",
       "      <td>211.0</td>\n",
       "      <td>-170.0</td>\n",
       "      <td>694.0</td>\n",
       "      <td>-1014.0</td>\n",
       "      <td>-2885</td>\n",
       "    </tr>\n",
       "    <tr>\n",
       "      <th>103</th>\n",
       "      <td>4292.0</td>\n",
       "      <td>1030.0</td>\n",
       "      <td>2870.0</td>\n",
       "      <td>2819.0</td>\n",
       "      <td>-8322.0</td>\n",
       "      <td>-784.0</td>\n",
       "      <td>1013.0</td>\n",
       "      <td>211.0</td>\n",
       "      <td>-170.0</td>\n",
       "      <td>694.0</td>\n",
       "      <td>-1014.0</td>\n",
       "      <td>-2885.0</td>\n",
       "      <td>4464</td>\n",
       "    </tr>\n",
       "  </tbody>\n",
       "</table>\n",
       "</div>"
      ],
      "text/plain": [
       "     0 (t-12)  0 (t-11)  0 (t-10)  0 (t-9)  0 (t-8)  0 (t-7)  0 (t-6)  0 (t-5)  0 (t-4)  0 (t-3)  0 (t-2)  0 (t-1)  0 (t-0)\n",
       "12     -143.0      83.0     -34.0    225.0     90.0   -754.0    -70.0    710.0   1379.0   1463.0   1548.0  -4771.0      -66\n",
       "13       83.0     -34.0     225.0     90.0   -754.0    -70.0    710.0   1379.0   1463.0   1548.0  -4771.0    -66.0      556\n",
       "14      -34.0     225.0      90.0   -754.0    -70.0    710.0   1379.0   1463.0   1548.0  -4771.0    -66.0    556.0      235\n",
       "15      225.0      90.0    -754.0    -70.0    710.0   1379.0   1463.0   1548.0  -4771.0    -66.0    556.0    235.0      510\n",
       "16       90.0    -754.0     -70.0    710.0   1379.0   1463.0   1548.0  -4771.0    -66.0    556.0    235.0    510.0     -546\n",
       "17     -754.0     -70.0     710.0   1379.0   1463.0   1548.0  -4771.0    -66.0    556.0    235.0    510.0   -546.0     -202\n",
       "18      -70.0     710.0    1379.0   1463.0   1548.0  -4771.0    -66.0    556.0    235.0    510.0   -546.0   -202.0    -1269\n",
       "19      710.0    1379.0    1463.0   1548.0  -4771.0    -66.0    556.0    235.0    510.0   -546.0   -202.0  -1269.0     1836\n",
       "20     1379.0    1463.0    1548.0  -4771.0    -66.0    556.0    235.0    510.0   -546.0   -202.0  -1269.0   1836.0      879\n",
       "21     1463.0    1548.0   -4771.0    -66.0    556.0    235.0    510.0   -546.0   -202.0  -1269.0   1836.0    879.0     2364\n",
       "22     1548.0   -4771.0     -66.0    556.0    235.0    510.0   -546.0   -202.0  -1269.0   1836.0    879.0   2364.0     1519\n",
       "23    -4771.0     -66.0     556.0    235.0    510.0   -546.0   -202.0  -1269.0   1836.0    879.0   2364.0   1519.0    -5244\n",
       "24      -66.0     556.0     235.0    510.0   -546.0   -202.0  -1269.0   1836.0    879.0   2364.0   1519.0  -5244.0     -107\n",
       "25      556.0     235.0     510.0   -546.0   -202.0  -1269.0   1836.0    879.0   2364.0   1519.0  -5244.0   -107.0     1041\n",
       "26      235.0     510.0    -546.0   -202.0  -1269.0   1836.0    879.0   2364.0   1519.0  -5244.0   -107.0   1041.0     -524\n",
       "27      510.0    -546.0    -202.0  -1269.0   1836.0    879.0   2364.0   1519.0  -5244.0   -107.0   1041.0   -524.0      414\n",
       "28     -546.0    -202.0   -1269.0   1836.0    879.0   2364.0   1519.0  -5244.0   -107.0   1041.0   -524.0    414.0       49\n",
       "29     -202.0   -1269.0    1836.0    879.0   2364.0   1519.0  -5244.0   -107.0   1041.0   -524.0    414.0     49.0     -726\n",
       "30    -1269.0    1836.0     879.0   2364.0   1519.0  -5244.0   -107.0   1041.0   -524.0    414.0     49.0   -726.0    -1687\n",
       "31     1836.0     879.0    2364.0   1519.0  -5244.0   -107.0   1041.0   -524.0    414.0     49.0   -726.0  -1687.0     1955\n",
       "32      879.0    2364.0    1519.0  -5244.0   -107.0   1041.0   -524.0    414.0     49.0   -726.0  -1687.0   1955.0     1683\n",
       "33     2364.0    1519.0   -5244.0   -107.0   1041.0   -524.0    414.0     49.0   -726.0  -1687.0   1955.0   1683.0     2403\n",
       "34     1519.0   -5244.0    -107.0   1041.0   -524.0    414.0     49.0   -726.0  -1687.0   1955.0   1683.0   2403.0     1640\n",
       "35    -5244.0    -107.0    1041.0   -524.0    414.0     49.0   -726.0  -1687.0   1955.0   1683.0   2403.0   1640.0    -3879\n",
       "36     -107.0    1041.0    -524.0    414.0     49.0   -726.0  -1687.0   1955.0   1683.0   2403.0   1640.0  -3879.0    -2287\n",
       "37     1041.0    -524.0     414.0     49.0   -726.0  -1687.0   1955.0   1683.0   2403.0   1640.0  -3879.0  -2287.0      630\n",
       "38     -524.0     414.0      49.0   -726.0  -1687.0   1955.0   1683.0   2403.0   1640.0  -3879.0  -2287.0    630.0      796\n",
       "39      414.0      49.0    -726.0  -1687.0   1955.0   1683.0   2403.0   1640.0  -3879.0  -2287.0    630.0    796.0        6\n",
       "40       49.0    -726.0   -1687.0   1955.0   1683.0   2403.0   1640.0  -3879.0  -2287.0    630.0    796.0      6.0       19\n",
       "41     -726.0   -1687.0    1955.0   1683.0   2403.0   1640.0  -3879.0  -2287.0    630.0    796.0      6.0     19.0     -876\n",
       "42    -1687.0    1955.0    1683.0   2403.0   1640.0  -3879.0  -2287.0    630.0    796.0      6.0     19.0   -876.0    -2020\n",
       "43     1955.0    1683.0    2403.0   1640.0  -3879.0  -2287.0    630.0    796.0      6.0     19.0   -876.0  -2020.0     3096\n",
       "44     1683.0    2403.0    1640.0  -3879.0  -2287.0    630.0    796.0      6.0     19.0   -876.0  -2020.0   3096.0      689\n",
       "45     2403.0    1640.0   -3879.0  -2287.0    630.0    796.0      6.0     19.0   -876.0  -2020.0   3096.0    689.0     2886\n",
       "46     1640.0   -3879.0   -2287.0    630.0    796.0      6.0     19.0   -876.0  -2020.0   3096.0    689.0   2886.0     2337\n",
       "47    -3879.0   -2287.0     630.0    796.0      6.0     19.0   -876.0  -2020.0   3096.0    689.0   2886.0   2337.0    -7018\n",
       "48    -2287.0     630.0     796.0      6.0     19.0   -876.0  -2020.0   3096.0    689.0   2886.0   2337.0  -7018.0      659\n",
       "49      630.0     796.0       6.0     19.0   -876.0  -2020.0   3096.0    689.0   2886.0   2337.0  -7018.0    659.0     -138\n",
       "50      796.0       6.0      19.0   -876.0  -2020.0   3096.0    689.0   2886.0   2337.0  -7018.0    659.0   -138.0      -33\n",
       "51        6.0      19.0    -876.0  -2020.0   3096.0    689.0   2886.0   2337.0  -7018.0    659.0   -138.0    -33.0      526\n",
       "52       19.0    -876.0   -2020.0   3096.0    689.0   2886.0   2337.0  -7018.0    659.0   -138.0    -33.0    526.0      106\n",
       "53     -876.0   -2020.0    3096.0    689.0   2886.0   2337.0  -7018.0    659.0   -138.0    -33.0    526.0    106.0     -788\n",
       "54    -2020.0    3096.0     689.0   2886.0   2337.0  -7018.0    659.0   -138.0    -33.0    526.0    106.0   -788.0    -2242\n",
       "55     3096.0     689.0    2886.0   2337.0  -7018.0    659.0   -138.0    -33.0    526.0    106.0   -788.0  -2242.0     3325\n",
       "56      689.0    2886.0    2337.0  -7018.0    659.0   -138.0    -33.0    526.0    106.0   -788.0  -2242.0   3325.0     1874\n",
       "57     2886.0    2337.0   -7018.0    659.0   -138.0    -33.0    526.0    106.0   -788.0  -2242.0   3325.0   1874.0     2936\n",
       "58     2337.0   -7018.0     659.0   -138.0    -33.0    526.0    106.0   -788.0  -2242.0   3325.0   1874.0   2936.0     1473\n",
       "59    -7018.0     659.0    -138.0    -33.0    526.0    106.0   -788.0  -2242.0   3325.0   1874.0   2936.0   1473.0    -7315\n",
       "60      659.0    -138.0     -33.0    526.0    106.0   -788.0  -2242.0   3325.0   1874.0   2936.0   1473.0  -7315.0      -59\n",
       "61     -138.0     -33.0     526.0    106.0   -788.0  -2242.0   3325.0   1874.0   2936.0   1473.0  -7315.0    -59.0      553\n",
       "62      -33.0     526.0     106.0   -788.0  -2242.0   3325.0   1874.0   2936.0   1473.0  -7315.0    -59.0    553.0     -234\n",
       "63      526.0     106.0    -788.0  -2242.0   3325.0   1874.0   2936.0   1473.0  -7315.0    -59.0    553.0   -234.0      692\n",
       "64      106.0    -788.0   -2242.0   3325.0   1874.0   2936.0   1473.0  -7315.0    -59.0    553.0   -234.0    692.0     -291\n",
       "65     -788.0   -2242.0    3325.0   1874.0   2936.0   1473.0  -7315.0    -59.0    553.0   -234.0    692.0   -291.0    -1154\n",
       "66    -2242.0    3325.0    1874.0   2936.0   1473.0  -7315.0    -59.0    553.0   -234.0    692.0   -291.0  -1154.0    -1702\n",
       "67     3325.0    1874.0    2936.0   1473.0  -7315.0    -59.0    553.0   -234.0    692.0   -291.0  -1154.0  -1702.0     3401\n",
       "68     1874.0    2936.0    1473.0  -7315.0    -59.0    553.0   -234.0    692.0   -291.0  -1154.0  -1702.0   3401.0     1650\n",
       "69     2936.0    1473.0   -7315.0    -59.0    553.0   -234.0    692.0   -291.0  -1154.0  -1702.0   3401.0   1650.0     3931\n",
       "70     1473.0   -7315.0     -59.0    553.0   -234.0    692.0   -291.0  -1154.0  -1702.0   3401.0   1650.0   3931.0     3113\n",
       "71    -7315.0     -59.0     553.0   -234.0    692.0   -291.0  -1154.0  -1702.0   3401.0   1650.0   3931.0   3113.0   -11277\n",
       "72      -59.0     553.0    -234.0    692.0   -291.0  -1154.0  -1702.0   3401.0   1650.0   3931.0   3113.0 -11277.0      260\n",
       "73      553.0    -234.0     692.0   -291.0  -1154.0  -1702.0   3401.0   1650.0   3931.0   3113.0 -11277.0    260.0      471\n",
       "74     -234.0     692.0    -291.0  -1154.0  -1702.0   3401.0   1650.0   3931.0   3113.0 -11277.0    260.0    471.0      370\n",
       "75      692.0    -291.0   -1154.0  -1702.0   3401.0   1650.0   3931.0   3113.0 -11277.0    260.0    471.0    370.0     -813\n",
       "76     -291.0   -1154.0   -1702.0   3401.0   1650.0   3931.0   3113.0 -11277.0    260.0    471.0    370.0   -813.0     1059\n",
       "77    -1154.0   -1702.0    3401.0   1650.0   3931.0   3113.0 -11277.0    260.0    471.0    370.0   -813.0   1059.0      231\n",
       "78    -1702.0    3401.0    1650.0   3931.0   3113.0 -11277.0    260.0    471.0    370.0   -813.0   1059.0    231.0    -2479\n",
       "79     3401.0    1650.0    3931.0   3113.0 -11277.0    260.0    471.0    370.0   -813.0   1059.0    231.0  -2479.0     3483\n",
       "80     1650.0    3931.0    3113.0 -11277.0    260.0    471.0    370.0   -813.0   1059.0    231.0  -2479.0   3483.0     1203\n",
       "81     3931.0    3113.0  -11277.0    260.0    471.0    370.0   -813.0   1059.0    231.0  -2479.0   3483.0   1203.0     3418\n",
       "82     3113.0  -11277.0     260.0    471.0    370.0   -813.0   1059.0    231.0  -2479.0   3483.0   1203.0   3418.0     3234\n",
       "83   -11277.0     260.0     471.0    370.0   -813.0   1059.0    231.0  -2479.0   3483.0   1203.0   3418.0   3234.0    -9142\n",
       "84      260.0     471.0     370.0   -813.0   1059.0    231.0  -2479.0   3483.0   1203.0   3418.0   3234.0  -9142.0     -772\n",
       "85      471.0     370.0    -813.0   1059.0    231.0  -2479.0   3483.0   1203.0   3418.0   3234.0  -9142.0   -772.0     1124\n",
       "86      370.0    -813.0    1059.0    231.0  -2479.0   3483.0   1203.0   3418.0   3234.0  -9142.0   -772.0   1124.0      390\n",
       "87     -813.0    1059.0     231.0  -2479.0   3483.0   1203.0   3418.0   3234.0  -9142.0   -772.0   1124.0    390.0      334\n",
       "88     1059.0     231.0   -2479.0   3483.0   1203.0   3418.0   3234.0  -9142.0   -772.0   1124.0    390.0    334.0     -136\n",
       "89      231.0   -2479.0    3483.0   1203.0   3418.0   3234.0  -9142.0   -772.0   1124.0    390.0    334.0   -136.0     -241\n",
       "90    -2479.0    3483.0    1203.0   3418.0   3234.0  -9142.0   -772.0   1124.0    390.0    334.0   -136.0   -241.0    -2974\n",
       "91     3483.0    1203.0    3418.0   3234.0  -9142.0   -772.0   1124.0    390.0    334.0   -136.0   -241.0  -2974.0     4292\n",
       "92     1203.0    3418.0    3234.0  -9142.0   -772.0   1124.0    390.0    334.0   -136.0   -241.0  -2974.0   4292.0     1030\n",
       "93     3418.0    3234.0   -9142.0   -772.0   1124.0    390.0    334.0   -136.0   -241.0  -2974.0   4292.0   1030.0     2870\n",
       "94     3234.0   -9142.0    -772.0   1124.0    390.0    334.0   -136.0   -241.0  -2974.0   4292.0   1030.0   2870.0     2819\n",
       "95    -9142.0    -772.0    1124.0    390.0    334.0   -136.0   -241.0  -2974.0   4292.0   1030.0   2870.0   2819.0    -8322\n",
       "96     -772.0    1124.0     390.0    334.0   -136.0   -241.0  -2974.0   4292.0   1030.0   2870.0   2819.0  -8322.0     -784\n",
       "97     1124.0     390.0     334.0   -136.0   -241.0  -2974.0   4292.0   1030.0   2870.0   2819.0  -8322.0   -784.0     1013\n",
       "98      390.0     334.0    -136.0   -241.0  -2974.0   4292.0   1030.0   2870.0   2819.0  -8322.0   -784.0   1013.0      211\n",
       "99      334.0    -136.0    -241.0  -2974.0   4292.0   1030.0   2870.0   2819.0  -8322.0   -784.0   1013.0    211.0     -170\n",
       "100    -136.0    -241.0   -2974.0   4292.0   1030.0   2870.0   2819.0  -8322.0   -784.0   1013.0    211.0   -170.0      694\n",
       "101    -241.0   -2974.0    4292.0   1030.0   2870.0   2819.0  -8322.0   -784.0   1013.0    211.0   -170.0    694.0    -1014\n",
       "102   -2974.0    4292.0    1030.0   2870.0   2819.0  -8322.0   -784.0   1013.0    211.0   -170.0    694.0  -1014.0    -2885\n",
       "103    4292.0    1030.0    2870.0   2819.0  -8322.0   -784.0   1013.0    211.0   -170.0    694.0  -1014.0  -2885.0     4464"
      ]
     },
     "execution_count": 24,
     "metadata": {
      "tags": []
     },
     "output_type": "execute_result"
    }
   ],
   "source": [
    "supervised_raw"
   ]
  },
  {
   "cell_type": "code",
   "execution_count": 0,
   "metadata": {
    "colab": {},
    "colab_type": "code",
    "id": "CaafVjz3DbJb"
   },
   "outputs": [],
   "source": [
    "supervised_raw = supervised_raw.values.astype(\"float32\")"
   ]
  },
  {
   "cell_type": "code",
   "execution_count": 26,
   "metadata": {
    "colab": {
     "base_uri": "https://localhost:8080/",
     "height": 153
    },
    "colab_type": "code",
    "executionInfo": {
     "elapsed": 555,
     "status": "ok",
     "timestamp": 1584302756206,
     "user": {
      "displayName": "Eser İnan Arslan",
      "photoUrl": "https://lh3.googleusercontent.com/a-/AOh14Ggz536p806W0W9-wxWFfPdVV303PuNNPAhu9S1UjA=s64",
      "userId": "01966049699378036829"
     },
     "user_tz": -180
    },
    "id": "hfwSrFpMBFgX",
    "outputId": "1a44dd80-4915-4530-ad84-01604271b6c8"
   },
   "outputs": [
    {
     "data": {
      "text/plain": [
       "array([[ -143.,    83.,   -34., ...,  1548., -4771.,   -66.],\n",
       "       [   83.,   -34.,   225., ..., -4771.,   -66.,   556.],\n",
       "       [  -34.,   225.,    90., ...,   -66.,   556.,   235.],\n",
       "       ...,\n",
       "       [ -241., -2974.,  4292., ...,  -170.,   694., -1014.],\n",
       "       [-2974.,  4292.,  1030., ...,   694., -1014., -2885.],\n",
       "       [ 4292.,  1030.,  2870., ..., -1014., -2885.,  4464.]],\n",
       "      dtype=float32)"
      ]
     },
     "execution_count": 26,
     "metadata": {
      "tags": []
     },
     "output_type": "execute_result"
    }
   ],
   "source": [
    "supervised_raw"
   ]
  },
  {
   "cell_type": "code",
   "execution_count": 0,
   "metadata": {
    "colab": {},
    "colab_type": "code",
    "id": "IDcbKb7AEIZQ"
   },
   "outputs": [],
   "source": [
    "scaler, train_scaled, test_scaled = scale(xtrain.values.reshape(len(xtrain), 1), xtest.values.reshape(len(xtest), 1))"
   ]
  },
  {
   "cell_type": "code",
   "execution_count": 0,
   "metadata": {
    "colab": {},
    "colab_type": "code",
    "id": "rSVL2sdWEIfy"
   },
   "outputs": [],
   "source": [
    "values_scaled = np.concatenate((train_scaled, test_scaled))"
   ]
  },
  {
   "cell_type": "code",
   "execution_count": 0,
   "metadata": {
    "colab": {},
    "colab_type": "code",
    "id": "Mc18imj9EIk1"
   },
   "outputs": [],
   "source": [
    "supervised = timeseries_to_supervised(values_scaled, 12)\n",
    "\n",
    "supervised_values = supervised.values.astype('float32')\n",
    "\n",
    "##split supervised data into train and test-sets\n",
    "supervised_train, supervised_test = supervised_raw[0:-9], supervised_raw[-9:]\n",
    "train_scaled, test_scaled = supervised_values[0:-9], supervised_values[-9:]"
   ]
  },
  {
   "cell_type": "code",
   "execution_count": 30,
   "metadata": {
    "colab": {
     "base_uri": "https://localhost:8080/",
     "height": 238
    },
    "colab_type": "code",
    "executionInfo": {
     "elapsed": 460,
     "status": "ok",
     "timestamp": 1584302759097,
     "user": {
      "displayName": "Eser İnan Arslan",
      "photoUrl": "https://lh3.googleusercontent.com/a-/AOh14Ggz536p806W0W9-wxWFfPdVV303PuNNPAhu9S1UjA=s64",
      "userId": "01966049699378036829"
     },
     "user_tz": -180
    },
    "id": "-5YXAuV40_UK",
    "outputId": "fee14616-0cd1-4b15-c1b1-56b48a24e6ff"
   },
   "outputs": [
    {
     "data": {
      "text/plain": [
       "array([[0.71513903, 0.7296551 , 0.72214013, ..., 0.82375234, 0.4178817 ,\n",
       "        0.7200848 ],\n",
       "       [0.7296551 , 0.72214013, 0.7387758 , ..., 0.4178817 , 0.7200848 ,\n",
       "        0.760036  ],\n",
       "       [0.72214013, 0.7387758 , 0.7301047 , ..., 0.7200848 , 0.760036  ,\n",
       "        0.7394181 ],\n",
       "       ...,\n",
       "       [0.8015929 , 0.9438628 , 0.93204445, ..., 0.5333034 , 1.        ,\n",
       "        0.7904811 ],\n",
       "       [0.9438628 , 0.93204445, 0.13713148, ..., 1.        , 0.7904811 ,\n",
       "        0.90866464],\n",
       "       [0.93204445, 0.13713148, 0.6747383 , ..., 0.7904811 , 0.90866464,\n",
       "        0.9053889 ]], dtype=float32)"
      ]
     },
     "execution_count": 30,
     "metadata": {
      "tags": []
     },
     "output_type": "execute_result"
    }
   ],
   "source": [
    "train_scaled"
   ]
  },
  {
   "cell_type": "code",
   "execution_count": 0,
   "metadata": {
    "colab": {},
    "colab_type": "code",
    "id": "2yRfd9SjEInB"
   },
   "outputs": [],
   "source": [
    "train_X, train_y = train_scaled[:, :-1], train_scaled[:, -1]\n",
    "test_X, test_y = test_scaled[:, :-1], test_scaled[:, -1]"
   ]
  },
  {
   "cell_type": "code",
   "execution_count": 32,
   "metadata": {
    "colab": {
     "base_uri": "https://localhost:8080/",
     "height": 1000
    },
    "colab_type": "code",
    "executionInfo": {
     "elapsed": 594,
     "status": "ok",
     "timestamp": 1584302760932,
     "user": {
      "displayName": "Eser İnan Arslan",
      "photoUrl": "https://lh3.googleusercontent.com/a-/AOh14Ggz536p806W0W9-wxWFfPdVV303PuNNPAhu9S1UjA=s64",
      "userId": "01966049699378036829"
     },
     "user_tz": -180
    },
    "id": "d--SBz-F1F4l",
    "outputId": "1b0642dc-0581-425d-a3e1-ab608c4a487f"
   },
   "outputs": [
    {
     "data": {
      "text/plain": [
       "array([[0.7200848 ],\n",
       "       [0.760036  ],\n",
       "       [0.7394181 ],\n",
       "       [0.7570814 ],\n",
       "       [0.6892543 ],\n",
       "       [0.7113495 ],\n",
       "       [0.6428158 ],\n",
       "       [0.84225065],\n",
       "       [0.78078234],\n",
       "       [0.8761642 ],\n",
       "       [0.82188964],\n",
       "       [0.3875008 ],\n",
       "       [0.71745133],\n",
       "       [0.79118764],\n",
       "       [0.69066733],\n",
       "       [0.7509153 ],\n",
       "       [0.72747123],\n",
       "       [0.67769283],\n",
       "       [0.61596763],\n",
       "       [0.84989405],\n",
       "       [0.8324234 ],\n",
       "       [0.87866914],\n",
       "       [0.8296615 ],\n",
       "       [0.47517502],\n",
       "       [0.57742953],\n",
       "       [0.764789  ],\n",
       "       [0.77545124],\n",
       "       [0.72470933],\n",
       "       [0.72554433],\n",
       "       [0.66805834],\n",
       "       [0.594579  ],\n",
       "       [0.9231807 ],\n",
       "       [0.7685786 ],\n",
       "       [0.90969235],\n",
       "       [0.87442994],\n",
       "       [0.27355644],\n",
       "       [0.7666517 ],\n",
       "       [0.7154602 ],\n",
       "       [0.7222044 ],\n",
       "       [0.75810903],\n",
       "       [0.7311324 ],\n",
       "       [0.6737106 ],\n",
       "       [0.5803199 ],\n",
       "       [0.9378894 ],\n",
       "       [0.8446914 ],\n",
       "       [0.91290385],\n",
       "       [0.81893504],\n",
       "       [0.25448006],\n",
       "       [0.7205344 ],\n",
       "       [0.7598433 ],\n",
       "       [0.7092941 ],\n",
       "       [0.7687713 ],\n",
       "       [0.705633  ],\n",
       "       [0.65020233],\n",
       "       [0.6150042 ],\n",
       "       [0.9427709 ],\n",
       "       [0.8303038 ],\n",
       "       [0.9768129 ],\n",
       "       [0.9242726 ],\n",
       "       [0.        ],\n",
       "       [0.74102384],\n",
       "       [0.7545764 ],\n",
       "       [0.74808913],\n",
       "       [0.67210484],\n",
       "       [0.79234374],\n",
       "       [0.73916113],\n",
       "       [0.56509733],\n",
       "       [0.94803774],\n",
       "       [0.8015929 ],\n",
       "       [0.9438628 ],\n",
       "       [0.93204445],\n",
       "       [0.13713148],\n",
       "       [0.6747383 ],\n",
       "       [0.79651874],\n",
       "       [0.74937373],\n",
       "       [0.7457769 ],\n",
       "       [0.7155887 ],\n",
       "       [0.7088445 ],\n",
       "       [0.5333034 ],\n",
       "       [1.        ],\n",
       "       [0.7904811 ],\n",
       "       [0.90866464],\n",
       "       [0.9053889 ]], dtype=float32)"
      ]
     },
     "execution_count": 32,
     "metadata": {
      "tags": []
     },
     "output_type": "execute_result"
    }
   ],
   "source": [
    "train_y.reshape(train_y.shape[0], 1)"
   ]
  },
  {
   "cell_type": "code",
   "execution_count": 0,
   "metadata": {
    "colab": {},
    "colab_type": "code",
    "id": "LmS1IfJ8EIpc"
   },
   "outputs": [],
   "source": [
    "# prepare train dataset for lstm\n",
    "train_X_lstm = train_X.reshape((train_X.shape[0], 1, train_X.shape[1]))\n",
    "test_X_lstm = test_X.reshape((test_X.shape[0], 1, test_X.shape[1]))"
   ]
  },
  {
   "cell_type": "code",
   "execution_count": 0,
   "metadata": {
    "colab": {},
    "colab_type": "code",
    "id": "O561kIlwyUJy"
   },
   "outputs": [],
   "source": [
    "# prepare test dataset for lstm\n",
    "train_Y_lstm = train_y.reshape((train_y.shape[0], 1, 1))\n",
    "test_Y_lstm = test_y.reshape((test_y.shape[0], 1, 1))"
   ]
  },
  {
   "cell_type": "code",
   "execution_count": 35,
   "metadata": {
    "colab": {
     "base_uri": "https://localhost:8080/",
     "height": 51
    },
    "colab_type": "code",
    "executionInfo": {
     "elapsed": 625,
     "status": "ok",
     "timestamp": 1584302764116,
     "user": {
      "displayName": "Eser İnan Arslan",
      "photoUrl": "https://lh3.googleusercontent.com/a-/AOh14Ggz536p806W0W9-wxWFfPdVV303PuNNPAhu9S1UjA=s64",
      "userId": "01966049699378036829"
     },
     "user_tz": -180
    },
    "id": "nCUfhxq4jJuy",
    "outputId": "bba2fadc-1dea-4313-a46a-badd0036d6d8"
   },
   "outputs": [
    {
     "data": {
      "text/plain": [
       "array([0.18980025, 0.6739675 , 0.7893892 , 0.73787653, 0.71340483,\n",
       "       0.76889974, 0.6591945 , 0.5390198 , 1.0110476 ], dtype=float32)"
      ]
     },
     "execution_count": 35,
     "metadata": {
      "tags": []
     },
     "output_type": "execute_result"
    }
   ],
   "source": [
    "test_scaled[:, -1]"
   ]
  },
  {
   "cell_type": "code",
   "execution_count": 36,
   "metadata": {
    "colab": {
     "base_uri": "https://localhost:8080/",
     "height": 306
    },
    "colab_type": "code",
    "executionInfo": {
     "elapsed": 792,
     "status": "ok",
     "timestamp": 1584302765037,
     "user": {
      "displayName": "Eser İnan Arslan",
      "photoUrl": "https://lh3.googleusercontent.com/a-/AOh14Ggz536p806W0W9-wxWFfPdVV303PuNNPAhu9S1UjA=s64",
      "userId": "01966049699378036829"
     },
     "user_tz": -180
    },
    "id": "zQ7imYXRshGX",
    "outputId": "f1f867b2-5b6e-45be-c077-ea641c2652ab"
   },
   "outputs": [
    {
     "data": {
      "text/plain": [
       "array([0.7200848 , 0.760036  , 0.7394181 , 0.7570814 , 0.6892543 ,\n",
       "       0.7113495 , 0.6428158 , 0.84225065, 0.78078234, 0.8761642 ,\n",
       "       0.82188964, 0.3875008 , 0.71745133, 0.79118764, 0.69066733,\n",
       "       0.7509153 , 0.72747123, 0.67769283, 0.61596763, 0.84989405,\n",
       "       0.8324234 , 0.87866914, 0.8296615 , 0.47517502, 0.57742953,\n",
       "       0.764789  , 0.77545124, 0.72470933, 0.72554433, 0.66805834,\n",
       "       0.594579  , 0.9231807 , 0.7685786 , 0.90969235, 0.87442994,\n",
       "       0.27355644, 0.7666517 , 0.7154602 , 0.7222044 , 0.75810903,\n",
       "       0.7311324 , 0.6737106 , 0.5803199 , 0.9378894 , 0.8446914 ,\n",
       "       0.91290385, 0.81893504, 0.25448006, 0.7205344 , 0.7598433 ,\n",
       "       0.7092941 , 0.7687713 , 0.705633  , 0.65020233, 0.6150042 ,\n",
       "       0.9427709 , 0.8303038 , 0.9768129 , 0.9242726 , 0.        ,\n",
       "       0.74102384, 0.7545764 , 0.74808913, 0.67210484, 0.79234374,\n",
       "       0.73916113, 0.56509733, 0.94803774, 0.8015929 , 0.9438628 ,\n",
       "       0.93204445, 0.13713148, 0.6747383 , 0.79651874, 0.74937373,\n",
       "       0.7457769 , 0.7155887 , 0.7088445 , 0.5333034 , 1.        ,\n",
       "       0.7904811 , 0.90866464, 0.9053889 ], dtype=float32)"
      ]
     },
     "execution_count": 36,
     "metadata": {
      "tags": []
     },
     "output_type": "execute_result"
    }
   ],
   "source": [
    "train_y"
   ]
  },
  {
   "cell_type": "code",
   "execution_count": 37,
   "metadata": {
    "colab": {
     "base_uri": "https://localhost:8080/",
     "height": 34
    },
    "colab_type": "code",
    "executionInfo": {
     "elapsed": 463,
     "status": "ok",
     "timestamp": 1584302765991,
     "user": {
      "displayName": "Eser İnan Arslan",
      "photoUrl": "https://lh3.googleusercontent.com/a-/AOh14Ggz536p806W0W9-wxWFfPdVV303PuNNPAhu9S1UjA=s64",
      "userId": "01966049699378036829"
     },
     "user_tz": -180
    },
    "id": "7Hrk4SB-z4Va",
    "outputId": "ec07430a-0fef-4891-9ea2-07e1696e5e91"
   },
   "outputs": [
    {
     "data": {
      "text/plain": [
       "(83,)"
      ]
     },
     "execution_count": 37,
     "metadata": {
      "tags": []
     },
     "output_type": "execute_result"
    }
   ],
   "source": [
    "train_y.shape"
   ]
  },
  {
   "cell_type": "code",
   "execution_count": 0,
   "metadata": {
    "colab": {},
    "colab_type": "code",
    "id": "yjfVQZ87jAve"
   },
   "outputs": [],
   "source": []
  },
  {
   "cell_type": "markdown",
   "metadata": {
    "colab_type": "text",
    "id": "iO-Gs_cxaNOw"
   },
   "source": [
    "# **XGBRegressor**"
   ]
  },
  {
   "cell_type": "code",
   "execution_count": 38,
   "metadata": {
    "colab": {
     "base_uri": "https://localhost:8080/",
     "height": 1000
    },
    "colab_type": "code",
    "executionInfo": {
     "elapsed": 156906,
     "status": "ok",
     "timestamp": 1584302924508,
     "user": {
      "displayName": "Eser İnan Arslan",
      "photoUrl": "https://lh3.googleusercontent.com/a-/AOh14Ggz536p806W0W9-wxWFfPdVV303PuNNPAhu9S1UjA=s64",
      "userId": "01966049699378036829"
     },
     "user_tz": -180
    },
    "id": "acv77EuVEIra",
    "outputId": "743cd5ab-9e4c-4f23-f63e-3c95b5f74c7d"
   },
   "outputs": [
    {
     "name": "stdout",
     "output_type": "stream",
     "text": [
      "Process started at :  2020-03-15 20:06:07.933120\n",
      "Fitting 5 folds for each of 360 candidates, totalling 1800 fits\n"
     ]
    },
    {
     "name": "stderr",
     "output_type": "stream",
     "text": [
      "[Parallel(n_jobs=-1)]: Using backend LokyBackend with 2 concurrent workers.\n",
      "[Parallel(n_jobs=-1)]: Done  46 tasks      | elapsed:    5.3s\n",
      "[Parallel(n_jobs=-1)]: Done 196 tasks      | elapsed:   18.7s\n",
      "[Parallel(n_jobs=-1)]: Done 554 tasks      | elapsed:   48.5s\n",
      "[Parallel(n_jobs=-1)]: Done 1254 tasks      | elapsed:  1.8min\n"
     ]
    },
    {
     "name": "stdout",
     "output_type": "stream",
     "text": [
      "[20:08:43] WARNING: /workspace/src/objective/regression_obj.cu:152: reg:linear is now deprecated in favor of reg:squarederror.\n",
      "[0]\tvalidation_0-rmse:0.266069\n",
      "Will train until validation_0-rmse hasn't improved in 50 rounds.\n",
      "[1]\tvalidation_0-rmse:0.245715\n",
      "[2]\tvalidation_0-rmse:0.227706\n",
      "[3]\tvalidation_0-rmse:0.211711\n",
      "[4]\tvalidation_0-rmse:0.197614\n",
      "[5]\tvalidation_0-rmse:0.185171\n",
      "[6]\tvalidation_0-rmse:0.174016\n",
      "[7]\tvalidation_0-rmse:0.16335\n",
      "[8]\tvalidation_0-rmse:0.154529\n",
      "[9]\tvalidation_0-rmse:0.146727\n",
      "[10]\tvalidation_0-rmse:0.139295\n",
      "[11]\tvalidation_0-rmse:0.132243\n",
      "[12]\tvalidation_0-rmse:0.126801\n",
      "[13]\tvalidation_0-rmse:0.121281\n",
      "[14]\tvalidation_0-rmse:0.11686\n",
      "[15]\tvalidation_0-rmse:0.112849\n",
      "[16]\tvalidation_0-rmse:0.108871\n",
      "[17]\tvalidation_0-rmse:0.105274\n",
      "[18]\tvalidation_0-rmse:0.102027\n",
      "[19]\tvalidation_0-rmse:0.099387\n",
      "[20]\tvalidation_0-rmse:0.097064\n",
      "[21]\tvalidation_0-rmse:0.094787\n",
      "[22]\tvalidation_0-rmse:0.09267\n",
      "[23]\tvalidation_0-rmse:0.090639\n",
      "[24]\tvalidation_0-rmse:0.089156\n",
      "[25]\tvalidation_0-rmse:0.087487\n",
      "[26]\tvalidation_0-rmse:0.086031\n",
      "[27]\tvalidation_0-rmse:0.084961\n",
      "[28]\tvalidation_0-rmse:0.08382\n",
      "[29]\tvalidation_0-rmse:0.082686\n",
      "[30]\tvalidation_0-rmse:0.081943\n",
      "[31]\tvalidation_0-rmse:0.081009\n",
      "[32]\tvalidation_0-rmse:0.080369\n",
      "[33]\tvalidation_0-rmse:0.079645\n",
      "[34]\tvalidation_0-rmse:0.079116\n",
      "[35]\tvalidation_0-rmse:0.078447\n",
      "[36]\tvalidation_0-rmse:0.077881\n",
      "[37]\tvalidation_0-rmse:0.077474\n",
      "[38]\tvalidation_0-rmse:0.07698\n",
      "[39]\tvalidation_0-rmse:0.076698\n",
      "[40]\tvalidation_0-rmse:0.076229\n",
      "[41]\tvalidation_0-rmse:0.076\n",
      "[42]\tvalidation_0-rmse:0.075635\n",
      "[43]\tvalidation_0-rmse:0.07538\n",
      "[44]\tvalidation_0-rmse:0.075011\n",
      "[45]\tvalidation_0-rmse:0.074715\n",
      "[46]\tvalidation_0-rmse:0.07451\n",
      "[47]\tvalidation_0-rmse:0.074245\n",
      "[48]\tvalidation_0-rmse:0.074128\n",
      "[49]\tvalidation_0-rmse:0.074026\n",
      "[50]\tvalidation_0-rmse:0.073754\n",
      "[51]\tvalidation_0-rmse:0.073481\n",
      "[52]\tvalidation_0-rmse:0.073399\n",
      "[53]\tvalidation_0-rmse:0.073224\n",
      "[54]\tvalidation_0-rmse:0.073094\n",
      "[55]\tvalidation_0-rmse:0.073031\n",
      "[56]\tvalidation_0-rmse:0.072822\n",
      "[57]\tvalidation_0-rmse:0.072767\n",
      "[58]\tvalidation_0-rmse:0.072566\n"
     ]
    },
    {
     "name": "stderr",
     "output_type": "stream",
     "text": [
      "[Parallel(n_jobs=-1)]: Done 1800 out of 1800 | elapsed:  2.6min finished\n"
     ]
    },
    {
     "name": "stdout",
     "output_type": "stream",
     "text": [
      "[59]\tvalidation_0-rmse:0.072463\n",
      "[60]\tvalidation_0-rmse:0.07233\n",
      "[61]\tvalidation_0-rmse:0.07224\n",
      "[62]\tvalidation_0-rmse:0.072147\n",
      "[63]\tvalidation_0-rmse:0.072026\n",
      "[64]\tvalidation_0-rmse:0.071991\n",
      "[65]\tvalidation_0-rmse:0.07196\n",
      "[66]\tvalidation_0-rmse:0.071932\n",
      "[67]\tvalidation_0-rmse:0.071823\n",
      "[68]\tvalidation_0-rmse:0.071795\n",
      "[69]\tvalidation_0-rmse:0.071725\n",
      "[70]\tvalidation_0-rmse:0.071613\n",
      "[71]\tvalidation_0-rmse:0.071552\n",
      "[72]\tvalidation_0-rmse:0.071421\n",
      "[73]\tvalidation_0-rmse:0.071421\n",
      "[74]\tvalidation_0-rmse:0.071421\n",
      "[75]\tvalidation_0-rmse:0.071421\n",
      "[76]\tvalidation_0-rmse:0.071421\n",
      "[77]\tvalidation_0-rmse:0.071421\n",
      "[78]\tvalidation_0-rmse:0.071421\n",
      "[79]\tvalidation_0-rmse:0.071421\n",
      "[80]\tvalidation_0-rmse:0.071421\n",
      "[81]\tvalidation_0-rmse:0.071421\n",
      "[82]\tvalidation_0-rmse:0.071421\n",
      "[83]\tvalidation_0-rmse:0.071421\n",
      "[84]\tvalidation_0-rmse:0.071421\n",
      "[85]\tvalidation_0-rmse:0.071421\n",
      "[86]\tvalidation_0-rmse:0.071421\n",
      "[87]\tvalidation_0-rmse:0.071421\n",
      "[88]\tvalidation_0-rmse:0.071421\n",
      "[89]\tvalidation_0-rmse:0.071421\n",
      "Process finished at :  2020-03-15 20:08:43.814812\n",
      "Process took :  0:02:35.881692\n"
     ]
    }
   ],
   "source": [
    "# XGBRegressor Training\n",
    "now = datetime.now()\n",
    "print(\"Process started at : \",now)\n",
    "\n",
    "parameters = { 'gamma' : [0, 0.1, 0.3, 1], 'learning_rate' : [0.001, 0.01, 0.1], \n",
    "              'max_depth' : [2, 4, 6, 7, 12], \n",
    "              'n_estimators' : [10, 45, 90, 100, 150, 250],\n",
    "              'nthread' : [-1], 'reg_alpha' : [1], 'reg_lambda' : [1], 'seed' : [10] }\n",
    "\n",
    "bst = xgb.XGBRegressor()\n",
    "xgb_grid = GridSearchCV(bst,\n",
    "                        parameters,\n",
    "                        cv=5,\n",
    "                        n_jobs=-1,\n",
    "                        verbose=True,\n",
    "                        )\n",
    "xgb_grid.fit(train_X, train_y, eval_set=[(train_X, train_y)], early_stopping_rounds=50)\n",
    "\n",
    "end = datetime.now()\n",
    "print(\"Process finished at : \", end)\n",
    "print(\"Process took : \", end-now)"
   ]
  },
  {
   "cell_type": "code",
   "execution_count": 39,
   "metadata": {
    "colab": {
     "base_uri": "https://localhost:8080/",
     "height": 136
    },
    "colab_type": "code",
    "executionInfo": {
     "elapsed": 795,
     "status": "ok",
     "timestamp": 1584302947223,
     "user": {
      "displayName": "Eser İnan Arslan",
      "photoUrl": "https://lh3.googleusercontent.com/a-/AOh14Ggz536p806W0W9-wxWFfPdVV303PuNNPAhu9S1UjA=s64",
      "userId": "01966049699378036829"
     },
     "user_tz": -180
    },
    "id": "r9u0d_X-J0Y9",
    "outputId": "23d5c151-7847-4b88-9f40-ba6136f9ef50"
   },
   "outputs": [
    {
     "data": {
      "text/plain": [
       "XGBRegressor(base_score=0.5, booster='gbtree', colsample_bylevel=1,\n",
       "             colsample_bynode=1, colsample_bytree=1, gamma=0,\n",
       "             importance_type='gain', learning_rate=0.1, max_delta_step=0,\n",
       "             max_depth=2, min_child_weight=1, missing=None, n_estimators=90,\n",
       "             n_jobs=1, nthread=-1, objective='reg:linear', random_state=0,\n",
       "             reg_alpha=1, reg_lambda=1, scale_pos_weight=1, seed=10,\n",
       "             silent=None, subsample=1, verbosity=1)"
      ]
     },
     "execution_count": 39,
     "metadata": {
      "tags": []
     },
     "output_type": "execute_result"
    }
   ],
   "source": [
    "xgb_grid.best_estimator_"
   ]
  },
  {
   "cell_type": "code",
   "execution_count": 0,
   "metadata": {
    "colab": {},
    "colab_type": "code",
    "id": "6J3yShrOJMog"
   },
   "outputs": [],
   "source": [
    "# inverse scaling for a forecasted value\n",
    "def invert_scale(scaler, X, value):\n",
    "    new_row = [x for x in X] + [value]\n",
    "    array = np.array(new_row)\n",
    "    array = array.reshape(1, len(array))\n",
    "\n",
    "    inverted = scaler.inverse_transform(array)\n",
    "    ##print(\"converting %s to %s\" % (value,inverted[0, -1]))\n",
    "    return inverted[0, -1]"
   ]
  },
  {
   "cell_type": "code",
   "execution_count": 0,
   "metadata": {
    "colab": {},
    "colab_type": "code",
    "id": "EdHy7cMLJMtw"
   },
   "outputs": [],
   "source": [
    "# invert differenced value\n",
    "def inverse_difference(history, yhat, interval=1):\n",
    "    return yhat + history[-interval]"
   ]
  },
  {
   "cell_type": "code",
   "execution_count": 0,
   "metadata": {
    "colab": {},
    "colab_type": "code",
    "id": "tYb7g7eArZvz"
   },
   "outputs": [],
   "source": []
  },
  {
   "cell_type": "code",
   "execution_count": 0,
   "metadata": {
    "colab": {},
    "colab_type": "code",
    "id": "PL6IzcAvAlXu"
   },
   "outputs": [],
   "source": [
    "def mean_absolute_percentage_error(y_true, y_pred): \n",
    "    return np.mean(np.abs((np.array(y_true) - np.array(y_pred)) / y_true)) * 100"
   ]
  },
  {
   "cell_type": "code",
   "execution_count": 0,
   "metadata": {
    "colab": {},
    "colab_type": "code",
    "id": "zHM5WwFwJMzU"
   },
   "outputs": [],
   "source": [
    "#Invert scale predictions to time series\n",
    "predictions = list()\n",
    "start = 9 # test period\n",
    "l = len(test_scaled) - start\n",
    "\n",
    "rmse = []\n",
    "mape = []\n",
    "\n",
    "for i in range(len(test_scaled)):\n",
    "    X1, y = test_scaled[l, 0:-1], test_scaled[l, -1]\n",
    "    X1 = X1[-12:] # ts_window\n",
    "\n",
    "    # prediction \n",
    "    # pred = predict()\n",
    "    X1 = X1.reshape((1,-1))\n",
    "    pred = xgb_grid.predict(X1)\n",
    "\n",
    "    yhat = invert_scale(scaler, X1[0], pred)\n",
    "        \n",
    "    l=l+1\n",
    "\n",
    "    yhat = inverse_difference(train['Sales'], yhat, len(test_scaled) + 1 - i) # if not stationary \n",
    "\n",
    "    predictions.append(yhat)\n",
    "\n",
    "    rmse.append(sqrt(mean_squared_error([train['Sales'][-9:][i]], [yhat])))\n",
    "    mape.append(mean_absolute_percentage_error([train['Sales'][-9:][i]], [yhat]))"
   ]
  },
  {
   "cell_type": "code",
   "execution_count": 44,
   "metadata": {
    "colab": {
     "base_uri": "https://localhost:8080/",
     "height": 51
    },
    "colab_type": "code",
    "executionInfo": {
     "elapsed": 554,
     "status": "ok",
     "timestamp": 1584302953187,
     "user": {
      "displayName": "Eser İnan Arslan",
      "photoUrl": "https://lh3.googleusercontent.com/a-/AOh14Ggz536p806W0W9-wxWFfPdVV303PuNNPAhu9S1UjA=s64",
      "userId": "01966049699378036829"
     },
     "user_tz": -180
    },
    "id": "zHvW2Byn5Rbs",
    "outputId": "7acc293c-d5e7-4b21-d5a1-762a8174f1fe"
   },
   "outputs": [
    {
     "name": "stdout",
     "output_type": "stream",
     "text": [
      "Test RMSE: 1352.360301915142\n",
      "Test MAPE: 29.424130526377652\n"
     ]
    }
   ],
   "source": [
    "print(\"Test RMSE:\", np.mean(rmse))\n",
    "print(\"Test MAPE:\", np.mean(mape))"
   ]
  },
  {
   "cell_type": "code",
   "execution_count": 45,
   "metadata": {
    "colab": {
     "base_uri": "https://localhost:8080/",
     "height": 170
    },
    "colab_type": "code",
    "executionInfo": {
     "elapsed": 681,
     "status": "ok",
     "timestamp": 1584302954078,
     "user": {
      "displayName": "Eser İnan Arslan",
      "photoUrl": "https://lh3.googleusercontent.com/a-/AOh14Ggz536p806W0W9-wxWFfPdVV303PuNNPAhu9S1UjA=s64",
      "userId": "01966049699378036829"
     },
     "user_tz": -180
    },
    "id": "e1XnnHs6JM2Z",
    "outputId": "2c6dc4e1-a087-40f2-b960-c492f145eed2"
   },
   "outputs": [
    {
     "data": {
      "text/plain": [
       "[8691.643858879805,\n",
       " 4552.308067262172,\n",
       " 4804.2870029211035,\n",
       " 5413.343608558177,\n",
       " 5330.312579751014,\n",
       " 4996.354384422301,\n",
       " 6042.40951347351,\n",
       " 1366.2245559096327,\n",
       " 2709.482973277568]"
      ]
     },
     "execution_count": 45,
     "metadata": {
      "tags": []
     },
     "output_type": "execute_result"
    }
   ],
   "source": [
    "predictions"
   ]
  },
  {
   "cell_type": "code",
   "execution_count": 0,
   "metadata": {
    "colab": {},
    "colab_type": "code",
    "id": "xGhHOK80EIX1"
   },
   "outputs": [],
   "source": [
    "result_df = pd.read_csv(\"sales_dataset.csv\")"
   ]
  },
  {
   "cell_type": "code",
   "execution_count": 0,
   "metadata": {
    "colab": {},
    "colab_type": "code",
    "id": "n1Npvu1PYqST"
   },
   "outputs": [],
   "source": [
    "result_df = result_df[-9:]"
   ]
  },
  {
   "cell_type": "code",
   "execution_count": 48,
   "metadata": {
    "colab": {
     "base_uri": "https://localhost:8080/",
     "height": 328
    },
    "colab_type": "code",
    "executionInfo": {
     "elapsed": 701,
     "status": "ok",
     "timestamp": 1584302966856,
     "user": {
      "displayName": "Eser İnan Arslan",
      "photoUrl": "https://lh3.googleusercontent.com/a-/AOh14Ggz536p806W0W9-wxWFfPdVV303PuNNPAhu9S1UjA=s64",
      "userId": "01966049699378036829"
     },
     "user_tz": -180
    },
    "id": "t4ZOHUWXYw4J",
    "outputId": "9f335244-231f-4768-d5ef-31b80f77ccd9"
   },
   "outputs": [
    {
     "data": {
      "text/html": [
       "<div>\n",
       "<style scoped>\n",
       "    .dataframe tbody tr th:only-of-type {\n",
       "        vertical-align: middle;\n",
       "    }\n",
       "\n",
       "    .dataframe tbody tr th {\n",
       "        vertical-align: top;\n",
       "    }\n",
       "\n",
       "    .dataframe thead th {\n",
       "        text-align: right;\n",
       "    }\n",
       "</style>\n",
       "<table border=\"1\" class=\"dataframe\">\n",
       "  <thead>\n",
       "    <tr style=\"text-align: right;\">\n",
       "      <th></th>\n",
       "      <th>Month</th>\n",
       "      <th>Sales</th>\n",
       "    </tr>\n",
       "  </thead>\n",
       "  <tbody>\n",
       "    <tr>\n",
       "      <th>96</th>\n",
       "      <td>1992-01</td>\n",
       "      <td>4348</td>\n",
       "    </tr>\n",
       "    <tr>\n",
       "      <th>97</th>\n",
       "      <td>1992-02</td>\n",
       "      <td>3564</td>\n",
       "    </tr>\n",
       "    <tr>\n",
       "      <th>98</th>\n",
       "      <td>1992-03</td>\n",
       "      <td>4577</td>\n",
       "    </tr>\n",
       "    <tr>\n",
       "      <th>99</th>\n",
       "      <td>1992-04</td>\n",
       "      <td>4788</td>\n",
       "    </tr>\n",
       "    <tr>\n",
       "      <th>100</th>\n",
       "      <td>1992-05</td>\n",
       "      <td>4618</td>\n",
       "    </tr>\n",
       "    <tr>\n",
       "      <th>101</th>\n",
       "      <td>1992-06</td>\n",
       "      <td>5312</td>\n",
       "    </tr>\n",
       "    <tr>\n",
       "      <th>102</th>\n",
       "      <td>1992-07</td>\n",
       "      <td>4298</td>\n",
       "    </tr>\n",
       "    <tr>\n",
       "      <th>103</th>\n",
       "      <td>1992-08</td>\n",
       "      <td>1413</td>\n",
       "    </tr>\n",
       "    <tr>\n",
       "      <th>104</th>\n",
       "      <td>1992-09</td>\n",
       "      <td>5877</td>\n",
       "    </tr>\n",
       "  </tbody>\n",
       "</table>\n",
       "</div>"
      ],
      "text/plain": [
       "       Month  Sales\n",
       "96   1992-01   4348\n",
       "97   1992-02   3564\n",
       "98   1992-03   4577\n",
       "99   1992-04   4788\n",
       "100  1992-05   4618\n",
       "101  1992-06   5312\n",
       "102  1992-07   4298\n",
       "103  1992-08   1413\n",
       "104  1992-09   5877"
      ]
     },
     "execution_count": 48,
     "metadata": {
      "tags": []
     },
     "output_type": "execute_result"
    }
   ],
   "source": [
    "result_df.head(9)"
   ]
  },
  {
   "cell_type": "code",
   "execution_count": 49,
   "metadata": {
    "colab": {
     "base_uri": "https://localhost:8080/",
     "height": 328
    },
    "colab_type": "code",
    "executionInfo": {
     "elapsed": 462,
     "status": "ok",
     "timestamp": 1584302967916,
     "user": {
      "displayName": "Eser İnan Arslan",
      "photoUrl": "https://lh3.googleusercontent.com/a-/AOh14Ggz536p806W0W9-wxWFfPdVV303PuNNPAhu9S1UjA=s64",
      "userId": "01966049699378036829"
     },
     "user_tz": -180
    },
    "id": "-cARAe9prZzH",
    "outputId": "d60eca81-a62a-4318-b47d-04d935dcb5be"
   },
   "outputs": [
    {
     "data": {
      "text/html": [
       "<div>\n",
       "<style scoped>\n",
       "    .dataframe tbody tr th:only-of-type {\n",
       "        vertical-align: middle;\n",
       "    }\n",
       "\n",
       "    .dataframe tbody tr th {\n",
       "        vertical-align: top;\n",
       "    }\n",
       "\n",
       "    .dataframe thead th {\n",
       "        text-align: right;\n",
       "    }\n",
       "</style>\n",
       "<table border=\"1\" class=\"dataframe\">\n",
       "  <thead>\n",
       "    <tr style=\"text-align: right;\">\n",
       "      <th></th>\n",
       "      <th>Month</th>\n",
       "      <th>Sales</th>\n",
       "      <th>XGB_Predictions</th>\n",
       "    </tr>\n",
       "  </thead>\n",
       "  <tbody>\n",
       "    <tr>\n",
       "      <th>96</th>\n",
       "      <td>1992-01</td>\n",
       "      <td>4348</td>\n",
       "      <td>8691.643859</td>\n",
       "    </tr>\n",
       "    <tr>\n",
       "      <th>97</th>\n",
       "      <td>1992-02</td>\n",
       "      <td>3564</td>\n",
       "      <td>4552.308067</td>\n",
       "    </tr>\n",
       "    <tr>\n",
       "      <th>98</th>\n",
       "      <td>1992-03</td>\n",
       "      <td>4577</td>\n",
       "      <td>4804.287003</td>\n",
       "    </tr>\n",
       "    <tr>\n",
       "      <th>99</th>\n",
       "      <td>1992-04</td>\n",
       "      <td>4788</td>\n",
       "      <td>5413.343609</td>\n",
       "    </tr>\n",
       "    <tr>\n",
       "      <th>100</th>\n",
       "      <td>1992-05</td>\n",
       "      <td>4618</td>\n",
       "      <td>5330.312580</td>\n",
       "    </tr>\n",
       "    <tr>\n",
       "      <th>101</th>\n",
       "      <td>1992-06</td>\n",
       "      <td>5312</td>\n",
       "      <td>4996.354384</td>\n",
       "    </tr>\n",
       "    <tr>\n",
       "      <th>102</th>\n",
       "      <td>1992-07</td>\n",
       "      <td>4298</td>\n",
       "      <td>6042.409513</td>\n",
       "    </tr>\n",
       "    <tr>\n",
       "      <th>103</th>\n",
       "      <td>1992-08</td>\n",
       "      <td>1413</td>\n",
       "      <td>1366.224556</td>\n",
       "    </tr>\n",
       "    <tr>\n",
       "      <th>104</th>\n",
       "      <td>1992-09</td>\n",
       "      <td>5877</td>\n",
       "      <td>2709.482973</td>\n",
       "    </tr>\n",
       "  </tbody>\n",
       "</table>\n",
       "</div>"
      ],
      "text/plain": [
       "       Month  Sales  XGB_Predictions\n",
       "96   1992-01   4348      8691.643859\n",
       "97   1992-02   3564      4552.308067\n",
       "98   1992-03   4577      4804.287003\n",
       "99   1992-04   4788      5413.343609\n",
       "100  1992-05   4618      5330.312580\n",
       "101  1992-06   5312      4996.354384\n",
       "102  1992-07   4298      6042.409513\n",
       "103  1992-08   1413      1366.224556\n",
       "104  1992-09   5877      2709.482973"
      ]
     },
     "execution_count": 49,
     "metadata": {
      "tags": []
     },
     "output_type": "execute_result"
    }
   ],
   "source": [
    "result_df['XGB_Predictions'] = predictions\n",
    "result_df.head(9)"
   ]
  },
  {
   "cell_type": "code",
   "execution_count": 50,
   "metadata": {
    "colab": {
     "base_uri": "https://localhost:8080/",
     "height": 285
    },
    "colab_type": "code",
    "executionInfo": {
     "elapsed": 1175,
     "status": "ok",
     "timestamp": 1584302969317,
     "user": {
      "displayName": "Eser İnan Arslan",
      "photoUrl": "https://lh3.googleusercontent.com/a-/AOh14Ggz536p806W0W9-wxWFfPdVV303PuNNPAhu9S1UjA=s64",
      "userId": "01966049699378036829"
     },
     "user_tz": -180
    },
    "id": "gyqDHNelrZ2N",
    "outputId": "0b159810-4241-4099-8297-69fa20838da9"
   },
   "outputs": [
    {
     "data": {
      "text/plain": [
       "<matplotlib.axes._subplots.AxesSubplot at 0x7f688650a5f8>"
      ]
     },
     "execution_count": 50,
     "metadata": {
      "tags": []
     },
     "output_type": "execute_result"
    },
    {
     "data": {
      "image/png": "[encoded data removed]",
      "text/plain": [
       "<Figure size 720x288 with 1 Axes>"
      ]
     },
     "metadata": {
      "tags": []
     },
     "output_type": "display_data"
    }
   ],
   "source": [
    "result_df[:9].plot(figsize=(10,4))"
   ]
  },
  {
   "cell_type": "code",
   "execution_count": 0,
   "metadata": {
    "colab": {},
    "colab_type": "code",
    "id": "tlNwUXsRZuFn"
   },
   "outputs": [],
   "source": []
  },
  {
   "cell_type": "code",
   "execution_count": 0,
   "metadata": {
    "colab": {},
    "colab_type": "code",
    "id": "ZQ9_mHDBan3i"
   },
   "outputs": [],
   "source": []
  },
  {
   "cell_type": "code",
   "execution_count": 51,
   "metadata": {
    "colab": {
     "base_uri": "https://localhost:8080/",
     "height": 390
    },
    "colab_type": "code",
    "executionInfo": {
     "elapsed": 667,
     "status": "ok",
     "timestamp": 1584302972033,
     "user": {
      "displayName": "Eser İnan Arslan",
      "photoUrl": "https://lh3.googleusercontent.com/a-/AOh14Ggz536p806W0W9-wxWFfPdVV303PuNNPAhu9S1UjA=s64",
      "userId": "01966049699378036829"
     },
     "user_tz": -180
    },
    "id": "4E-BcZShan7h",
    "outputId": "229fc404-2701-44aa-d7e8-da07191ae1aa"
   },
   "outputs": [
    {
     "data": {
      "text/html": [
       "<div>\n",
       "<style scoped>\n",
       "    .dataframe tbody tr th:only-of-type {\n",
       "        vertical-align: middle;\n",
       "    }\n",
       "\n",
       "    .dataframe tbody tr th {\n",
       "        vertical-align: top;\n",
       "    }\n",
       "\n",
       "    .dataframe thead th {\n",
       "        text-align: right;\n",
       "    }\n",
       "</style>\n",
       "<table border=\"1\" class=\"dataframe\">\n",
       "  <thead>\n",
       "    <tr style=\"text-align: right;\">\n",
       "      <th></th>\n",
       "      <th>Sales</th>\n",
       "    </tr>\n",
       "    <tr>\n",
       "      <th>Month</th>\n",
       "      <th></th>\n",
       "    </tr>\n",
       "  </thead>\n",
       "  <tbody>\n",
       "    <tr>\n",
       "      <th>1984-01-01</th>\n",
       "      <td>2815</td>\n",
       "    </tr>\n",
       "    <tr>\n",
       "      <th>1984-02-01</th>\n",
       "      <td>2672</td>\n",
       "    </tr>\n",
       "    <tr>\n",
       "      <th>1984-03-01</th>\n",
       "      <td>2755</td>\n",
       "    </tr>\n",
       "    <tr>\n",
       "      <th>1984-04-01</th>\n",
       "      <td>2721</td>\n",
       "    </tr>\n",
       "    <tr>\n",
       "      <th>1984-05-01</th>\n",
       "      <td>2946</td>\n",
       "    </tr>\n",
       "    <tr>\n",
       "      <th>1992-05-01</th>\n",
       "      <td>4618</td>\n",
       "    </tr>\n",
       "    <tr>\n",
       "      <th>1992-06-01</th>\n",
       "      <td>5312</td>\n",
       "    </tr>\n",
       "    <tr>\n",
       "      <th>1992-07-01</th>\n",
       "      <td>4298</td>\n",
       "    </tr>\n",
       "    <tr>\n",
       "      <th>1992-08-01</th>\n",
       "      <td>1413</td>\n",
       "    </tr>\n",
       "    <tr>\n",
       "      <th>1992-09-01</th>\n",
       "      <td>5877</td>\n",
       "    </tr>\n",
       "  </tbody>\n",
       "</table>\n",
       "</div>"
      ],
      "text/plain": [
       "            Sales\n",
       "Month            \n",
       "1984-01-01   2815\n",
       "1984-02-01   2672\n",
       "1984-03-01   2755\n",
       "1984-04-01   2721\n",
       "1984-05-01   2946\n",
       "1992-05-01   4618\n",
       "1992-06-01   5312\n",
       "1992-07-01   4298\n",
       "1992-08-01   1413\n",
       "1992-09-01   5877"
      ]
     },
     "execution_count": 51,
     "metadata": {
      "tags": []
     },
     "output_type": "execute_result"
    }
   ],
   "source": [
    "train.head(5).append(train.tail(5))"
   ]
  },
  {
   "cell_type": "markdown",
   "metadata": {
    "colab_type": "text",
    "id": "hcV6HEluaoN-"
   },
   "source": [
    "# **AutoArima**"
   ]
  },
  {
   "cell_type": "code",
   "execution_count": 52,
   "metadata": {
    "colab": {
     "base_uri": "https://localhost:8080/",
     "height": 235
    },
    "colab_type": "code",
    "executionInfo": {
     "elapsed": 597,
     "status": "ok",
     "timestamp": 1584302973063,
     "user": {
      "displayName": "Eser İnan Arslan",
      "photoUrl": "https://lh3.googleusercontent.com/a-/AOh14Ggz536p806W0W9-wxWFfPdVV303PuNNPAhu9S1UjA=s64",
      "userId": "01966049699378036829"
     },
     "user_tz": -180
    },
    "id": "2VsGQolE_8tk",
    "outputId": "d8e1127f-6122-4def-e476-10fce5a044ff"
   },
   "outputs": [
    {
     "data": {
      "text/html": [
       "<div>\n",
       "<style scoped>\n",
       "    .dataframe tbody tr th:only-of-type {\n",
       "        vertical-align: middle;\n",
       "    }\n",
       "\n",
       "    .dataframe tbody tr th {\n",
       "        vertical-align: top;\n",
       "    }\n",
       "\n",
       "    .dataframe thead th {\n",
       "        text-align: right;\n",
       "    }\n",
       "</style>\n",
       "<table border=\"1\" class=\"dataframe\">\n",
       "  <thead>\n",
       "    <tr style=\"text-align: right;\">\n",
       "      <th></th>\n",
       "      <th>Sales</th>\n",
       "    </tr>\n",
       "    <tr>\n",
       "      <th>Month</th>\n",
       "      <th></th>\n",
       "    </tr>\n",
       "  </thead>\n",
       "  <tbody>\n",
       "    <tr>\n",
       "      <th>1984-01-01</th>\n",
       "      <td>2815</td>\n",
       "    </tr>\n",
       "    <tr>\n",
       "      <th>1984-02-01</th>\n",
       "      <td>2672</td>\n",
       "    </tr>\n",
       "    <tr>\n",
       "      <th>1984-03-01</th>\n",
       "      <td>2755</td>\n",
       "    </tr>\n",
       "    <tr>\n",
       "      <th>1984-04-01</th>\n",
       "      <td>2721</td>\n",
       "    </tr>\n",
       "    <tr>\n",
       "      <th>1984-05-01</th>\n",
       "      <td>2946</td>\n",
       "    </tr>\n",
       "  </tbody>\n",
       "</table>\n",
       "</div>"
      ],
      "text/plain": [
       "            Sales\n",
       "Month            \n",
       "1984-01-01   2815\n",
       "1984-02-01   2672\n",
       "1984-03-01   2755\n",
       "1984-04-01   2721\n",
       "1984-05-01   2946"
      ]
     },
     "execution_count": 52,
     "metadata": {
      "tags": []
     },
     "output_type": "execute_result"
    }
   ],
   "source": [
    "train[:-9].head(5)"
   ]
  },
  {
   "cell_type": "code",
   "execution_count": 0,
   "metadata": {
    "colab": {},
    "colab_type": "code",
    "id": "9GXUa8vRC3Ee"
   },
   "outputs": [],
   "source": []
  },
  {
   "cell_type": "code",
   "execution_count": 53,
   "metadata": {
    "colab": {
     "base_uri": "https://localhost:8080/",
     "height": 297
    },
    "colab_type": "code",
    "executionInfo": {
     "elapsed": 2292,
     "status": "ok",
     "timestamp": 1584302975848,
     "user": {
      "displayName": "Eser İnan Arslan",
      "photoUrl": "https://lh3.googleusercontent.com/a-/AOh14Ggz536p806W0W9-wxWFfPdVV303PuNNPAhu9S1UjA=s64",
      "userId": "01966049699378036829"
     },
     "user_tz": -180
    },
    "id": "gZUpg5z8CkmH",
    "outputId": "5ca5cf7a-31d9-4003-9e34-6264a3914d01"
   },
   "outputs": [
    {
     "data": {
      "image/png": "[encoded data removed]",
      "text/plain": [
       "<Figure size 432x288 with 4 Axes>"
      ]
     },
     "metadata": {
      "tags": []
     },
     "output_type": "display_data"
    }
   ],
   "source": [
    "result = seasonal_decompose(train, model='multiplicative')\n",
    "fig = result.plot()"
   ]
  },
  {
   "cell_type": "code",
   "execution_count": 0,
   "metadata": {
    "colab": {},
    "colab_type": "code",
    "id": "oeiMO5RaH9qI"
   },
   "outputs": [],
   "source": [
    "arima_train = train[:-9]\n",
    "arima_test = train[-9:]"
   ]
  },
  {
   "cell_type": "markdown",
   "metadata": {
    "colab_type": "text",
    "id": "cxwIvN_3OVN2"
   },
   "source": [
    "(data, start_p=1, start_q=1,\n",
    "                           max_p=3, max_q=3, m=12,\n",
    "                           start_P=0, seasonal=True,\n",
    "                           d=1, D=1, trace=True,\n",
    "                           error_action='ignore',  \n",
    "                           suppress_warnings=True, \n",
    "                           stepwise=True)"
   ]
  },
  {
   "cell_type": "code",
   "execution_count": 55,
   "metadata": {
    "colab": {
     "base_uri": "https://localhost:8080/",
     "height": 510
    },
    "colab_type": "code",
    "executionInfo": {
     "elapsed": 34090,
     "status": "ok",
     "timestamp": 1584303009186,
     "user": {
      "displayName": "Eser İnan Arslan",
      "photoUrl": "https://lh3.googleusercontent.com/a-/AOh14Ggz536p806W0W9-wxWFfPdVV303PuNNPAhu9S1UjA=s64",
      "userId": "01966049699378036829"
     },
     "user_tz": -180
    },
    "id": "U9oP3PK9L9nw",
    "outputId": "b1088492-0d74-4583-c522-ca7d94149996"
   },
   "outputs": [
    {
     "name": "stdout",
     "output_type": "stream",
     "text": [
      "Arima process started at :  2020-03-15 20:09:35.300540\n"
     ]
    },
    {
     "name": "stderr",
     "output_type": "stream",
     "text": [
      "/usr/local/lib/python3.6/dist-packages/pyramid/arima/auto.py:379: UserWarning:\n",
      "\n",
      "stepwise model cannot be fit in parallel (n_jobs=1). Falling back to stepwise parameter search.\n",
      "\n"
     ]
    },
    {
     "name": "stdout",
     "output_type": "stream",
     "text": [
      "Fit ARIMA: order=(0, 1, 0) seasonal_order=(0, 1, 1, 12); AIC=1520.049, BIC=1527.614, Fit time=0.438 seconds\n",
      "Fit ARIMA: order=(0, 1, 0) seasonal_order=(0, 1, 0, 12); AIC=1526.661, BIC=1531.705, Fit time=0.029 seconds\n",
      "Fit ARIMA: order=(1, 1, 0) seasonal_order=(1, 1, 0, 12); AIC=1509.055, BIC=1519.143, Fit time=0.593 seconds\n",
      "Fit ARIMA: order=(0, 1, 1) seasonal_order=(0, 1, 1, 12); AIC=1490.560, BIC=1500.647, Fit time=0.947 seconds\n",
      "Fit ARIMA: order=(0, 1, 1) seasonal_order=(1, 1, 1, 12); AIC=1492.021, BIC=1504.630, Fit time=1.307 seconds\n",
      "Fit ARIMA: order=(0, 1, 1) seasonal_order=(0, 1, 0, 12); AIC=1491.820, BIC=1499.385, Fit time=0.154 seconds\n",
      "Fit ARIMA: order=(0, 1, 1) seasonal_order=(0, 1, 2, 12); AIC=1492.046, BIC=1504.655, Fit time=4.113 seconds\n",
      "Fit ARIMA: order=(0, 1, 1) seasonal_order=(1, 1, 2, 12); AIC=1490.662, BIC=1505.792, Fit time=4.443 seconds\n",
      "Fit ARIMA: order=(1, 1, 1) seasonal_order=(0, 1, 1, 12); AIC=1485.184, BIC=1497.793, Fit time=1.810 seconds\n",
      "Fit ARIMA: order=(1, 1, 0) seasonal_order=(0, 1, 1, 12); AIC=1510.118, BIC=1520.205, Fit time=0.227 seconds\n",
      "Fit ARIMA: order=(1, 1, 2) seasonal_order=(0, 1, 1, 12); AIC=1487.130, BIC=1502.260, Fit time=1.947 seconds\n",
      "Fit ARIMA: order=(2, 1, 2) seasonal_order=(0, 1, 1, 12); AIC=1490.027, BIC=1507.680, Fit time=2.259 seconds\n",
      "Fit ARIMA: order=(1, 1, 1) seasonal_order=(1, 1, 1, 12); AIC=1486.162, BIC=1501.293, Fit time=2.350 seconds\n",
      "Fit ARIMA: order=(1, 1, 1) seasonal_order=(0, 1, 0, 12); AIC=1488.213, BIC=1498.300, Fit time=0.543 seconds\n",
      "Fit ARIMA: order=(1, 1, 1) seasonal_order=(0, 1, 2, 12); AIC=1486.096, BIC=1501.227, Fit time=4.602 seconds\n",
      "Fit ARIMA: order=(1, 1, 1) seasonal_order=(1, 1, 2, 12); AIC=1487.573, BIC=1505.225, Fit time=5.696 seconds\n",
      "Fit ARIMA: order=(2, 1, 1) seasonal_order=(0, 1, 1, 12); AIC=1487.182, BIC=1502.312, Fit time=1.987 seconds\n",
      "Total fit time: 33.461 seconds\n",
      "Arima process finished at :  2020-03-15 20:10:08.763357\n",
      "Process took :  0:00:33.462817\n",
      "ARIMA(callback=None, disp=0, maxiter=50, method=None, order=(1, 1, 1),\n",
      "      out_of_sample_size=0, scoring='mse', scoring_args={},\n",
      "      seasonal_order=(0, 1, 1, 12), solver='lbfgs', start_params=None,\n",
      "      suppress_warnings=True, transparams=True, trend='c')\n"
     ]
    }
   ],
   "source": [
    "# Arima Training\n",
    "now = datetime.now()\n",
    "print(\"Arima process started at : \",now)\n",
    "\n",
    "arima_stepwise_model = auto_arima(train, start_p=0, start_q=0,\n",
    "                           max_p=13, max_q=13, m=12,\n",
    "                           start_P=0, seasonal=True,\n",
    "                           d=1, D=1, trace=True,\n",
    "                           error_action='ignore',  \n",
    "                           suppress_warnings=True, \n",
    "                           stepwise=True,\n",
    "                           n_jobs=4)#n_jobs for parallel process\n",
    "end = datetime.now()\n",
    "print(\"Arima process finished at : \", end)\n",
    "print(\"Process took : \", end-now)\n",
    "\n",
    "print(arima_stepwise_model)"
   ]
  },
  {
   "cell_type": "code",
   "execution_count": 0,
   "metadata": {
    "colab": {},
    "colab_type": "code",
    "id": "Vm_Qmlh6ZufK"
   },
   "outputs": [],
   "source": [
    "# Fit arima model\n",
    "arima_predicts = arima_stepwise_model.fit(arima_train)"
   ]
  },
  {
   "cell_type": "code",
   "execution_count": 0,
   "metadata": {
    "colab": {},
    "colab_type": "code",
    "id": "K5tPrNVLCLoE"
   },
   "outputs": [],
   "source": [
    "# Predict results with auto-arima\n",
    "future_forecast = arima_predicts.predict(n_periods=9)"
   ]
  },
  {
   "cell_type": "code",
   "execution_count": 58,
   "metadata": {
    "colab": {
     "base_uri": "https://localhost:8080/",
     "height": 68
    },
    "colab_type": "code",
    "executionInfo": {
     "elapsed": 31106,
     "status": "ok",
     "timestamp": 1584303010237,
     "user": {
      "displayName": "Eser İnan Arslan",
      "photoUrl": "https://lh3.googleusercontent.com/a-/AOh14Ggz536p806W0W9-wxWFfPdVV303PuNNPAhu9S1UjA=s64",
      "userId": "01966049699378036829"
     },
     "user_tz": -180
    },
    "id": "iTx-oXsbIfzl",
    "outputId": "8d4f7af1-c07b-4b84-adea-26a7cdd98a0b"
   },
   "outputs": [
    {
     "data": {
      "text/plain": [
       "array([3580.72257032, 3091.80076194, 4095.4525918 , 4454.95797763,\n",
       "       4605.29974041, 4651.2457211 , 4440.99372435, 1587.02820175,\n",
       "       5696.16813252])"
      ]
     },
     "execution_count": 58,
     "metadata": {
      "tags": []
     },
     "output_type": "execute_result"
    }
   ],
   "source": [
    "future_forecast"
   ]
  },
  {
   "cell_type": "code",
   "execution_count": 0,
   "metadata": {
    "colab": {},
    "colab_type": "code",
    "id": "E7fCLKgkI5qU"
   },
   "outputs": [],
   "source": [
    "arima_rmse = sqrt(mean_squared_error(train['Sales'][-9:], future_forecast))"
   ]
  },
  {
   "cell_type": "code",
   "execution_count": 0,
   "metadata": {
    "colab": {},
    "colab_type": "code",
    "id": "n9pvqoS2JYSF"
   },
   "outputs": [],
   "source": [
    "arima_mape = mean_absolute_percentage_error(train['Sales'][-9:], future_forecast)"
   ]
  },
  {
   "cell_type": "code",
   "execution_count": 61,
   "metadata": {
    "colab": {
     "base_uri": "https://localhost:8080/",
     "height": 51
    },
    "colab_type": "code",
    "executionInfo": {
     "elapsed": 437,
     "status": "ok",
     "timestamp": 1584303018615,
     "user": {
      "displayName": "Eser İnan Arslan",
      "photoUrl": "https://lh3.googleusercontent.com/a-/AOh14Ggz536p806W0W9-wxWFfPdVV303PuNNPAhu9S1UjA=s64",
      "userId": "01966049699378036829"
     },
     "user_tz": -180
    },
    "id": "nmWtonTeIpka",
    "outputId": "4cf0e919-4ecc-4389-ab4e-919d8a9343c6"
   },
   "outputs": [
    {
     "name": "stdout",
     "output_type": "stream",
     "text": [
      "Test RMSE: 431.36506422601934\n",
      "Test MAPE: 8.867407129635856\n"
     ]
    }
   ],
   "source": [
    "print(\"Test RMSE:\", np.mean(arima_rmse))\n",
    "print(\"Test MAPE:\", np.mean(arima_mape))"
   ]
  },
  {
   "cell_type": "code",
   "execution_count": 62,
   "metadata": {
    "colab": {
     "base_uri": "https://localhost:8080/",
     "height": 328
    },
    "colab_type": "code",
    "executionInfo": {
     "elapsed": 438,
     "status": "ok",
     "timestamp": 1584303019240,
     "user": {
      "displayName": "Eser İnan Arslan",
      "photoUrl": "https://lh3.googleusercontent.com/a-/AOh14Ggz536p806W0W9-wxWFfPdVV303PuNNPAhu9S1UjA=s64",
      "userId": "01966049699378036829"
     },
     "user_tz": -180
    },
    "id": "7XReQ9AdJsEG",
    "outputId": "63263766-6167-4bd2-dca6-1970664be1db"
   },
   "outputs": [
    {
     "data": {
      "text/html": [
       "<div>\n",
       "<style scoped>\n",
       "    .dataframe tbody tr th:only-of-type {\n",
       "        vertical-align: middle;\n",
       "    }\n",
       "\n",
       "    .dataframe tbody tr th {\n",
       "        vertical-align: top;\n",
       "    }\n",
       "\n",
       "    .dataframe thead th {\n",
       "        text-align: right;\n",
       "    }\n",
       "</style>\n",
       "<table border=\"1\" class=\"dataframe\">\n",
       "  <thead>\n",
       "    <tr style=\"text-align: right;\">\n",
       "      <th></th>\n",
       "      <th>Month</th>\n",
       "      <th>Sales</th>\n",
       "      <th>XGB_Predictions</th>\n",
       "      <th>Arima_Predictions</th>\n",
       "    </tr>\n",
       "  </thead>\n",
       "  <tbody>\n",
       "    <tr>\n",
       "      <th>96</th>\n",
       "      <td>1992-01</td>\n",
       "      <td>4348</td>\n",
       "      <td>8691.643859</td>\n",
       "      <td>3580.722570</td>\n",
       "    </tr>\n",
       "    <tr>\n",
       "      <th>97</th>\n",
       "      <td>1992-02</td>\n",
       "      <td>3564</td>\n",
       "      <td>4552.308067</td>\n",
       "      <td>3091.800762</td>\n",
       "    </tr>\n",
       "    <tr>\n",
       "      <th>98</th>\n",
       "      <td>1992-03</td>\n",
       "      <td>4577</td>\n",
       "      <td>4804.287003</td>\n",
       "      <td>4095.452592</td>\n",
       "    </tr>\n",
       "    <tr>\n",
       "      <th>99</th>\n",
       "      <td>1992-04</td>\n",
       "      <td>4788</td>\n",
       "      <td>5413.343609</td>\n",
       "      <td>4454.957978</td>\n",
       "    </tr>\n",
       "    <tr>\n",
       "      <th>100</th>\n",
       "      <td>1992-05</td>\n",
       "      <td>4618</td>\n",
       "      <td>5330.312580</td>\n",
       "      <td>4605.299740</td>\n",
       "    </tr>\n",
       "    <tr>\n",
       "      <th>101</th>\n",
       "      <td>1992-06</td>\n",
       "      <td>5312</td>\n",
       "      <td>4996.354384</td>\n",
       "      <td>4651.245721</td>\n",
       "    </tr>\n",
       "    <tr>\n",
       "      <th>102</th>\n",
       "      <td>1992-07</td>\n",
       "      <td>4298</td>\n",
       "      <td>6042.409513</td>\n",
       "      <td>4440.993724</td>\n",
       "    </tr>\n",
       "    <tr>\n",
       "      <th>103</th>\n",
       "      <td>1992-08</td>\n",
       "      <td>1413</td>\n",
       "      <td>1366.224556</td>\n",
       "      <td>1587.028202</td>\n",
       "    </tr>\n",
       "    <tr>\n",
       "      <th>104</th>\n",
       "      <td>1992-09</td>\n",
       "      <td>5877</td>\n",
       "      <td>2709.482973</td>\n",
       "      <td>5696.168133</td>\n",
       "    </tr>\n",
       "  </tbody>\n",
       "</table>\n",
       "</div>"
      ],
      "text/plain": [
       "       Month  Sales  XGB_Predictions  Arima_Predictions\n",
       "96   1992-01   4348      8691.643859        3580.722570\n",
       "97   1992-02   3564      4552.308067        3091.800762\n",
       "98   1992-03   4577      4804.287003        4095.452592\n",
       "99   1992-04   4788      5413.343609        4454.957978\n",
       "100  1992-05   4618      5330.312580        4605.299740\n",
       "101  1992-06   5312      4996.354384        4651.245721\n",
       "102  1992-07   4298      6042.409513        4440.993724\n",
       "103  1992-08   1413      1366.224556        1587.028202\n",
       "104  1992-09   5877      2709.482973        5696.168133"
      ]
     },
     "execution_count": 62,
     "metadata": {
      "tags": []
     },
     "output_type": "execute_result"
    }
   ],
   "source": [
    "result_df['Arima_Predictions'] = future_forecast\n",
    "result_df.head(9)"
   ]
  },
  {
   "cell_type": "code",
   "execution_count": 63,
   "metadata": {
    "colab": {
     "base_uri": "https://localhost:8080/",
     "height": 285
    },
    "colab_type": "code",
    "executionInfo": {
     "elapsed": 797,
     "status": "ok",
     "timestamp": 1584303022906,
     "user": {
      "displayName": "Eser İnan Arslan",
      "photoUrl": "https://lh3.googleusercontent.com/a-/AOh14Ggz536p806W0W9-wxWFfPdVV303PuNNPAhu9S1UjA=s64",
      "userId": "01966049699378036829"
     },
     "user_tz": -180
    },
    "id": "QTWbAiM1Xerq",
    "outputId": "c04f62d1-62a6-4e6e-964d-96ef2aa82b37"
   },
   "outputs": [
    {
     "data": {
      "text/plain": [
       "<matplotlib.axes._subplots.AxesSubplot at 0x7f6881163a90>"
      ]
     },
     "execution_count": 63,
     "metadata": {
      "tags": []
     },
     "output_type": "execute_result"
    },
    {
     "data": {
      "image/png": "[encoded data removed]",
      "text/plain": [
       "<Figure size 720x288 with 1 Axes>"
      ]
     },
     "metadata": {
      "tags": []
     },
     "output_type": "display_data"
    }
   ],
   "source": [
    "result_df[:9].plot(figsize=(10,4))"
   ]
  },
  {
   "cell_type": "code",
   "execution_count": 0,
   "metadata": {
    "colab": {},
    "colab_type": "code",
    "id": "DogeOQFdXmrp"
   },
   "outputs": [],
   "source": []
  },
  {
   "cell_type": "markdown",
   "metadata": {
    "colab_type": "text",
    "id": "PLat9Ggv1G3J"
   },
   "source": [
    "# **Long Short - Term Memory (LSTM)**"
   ]
  },
  {
   "cell_type": "code",
   "execution_count": 0,
   "metadata": {
    "colab": {},
    "colab_type": "code",
    "id": "mb3BuoOe1XAw"
   },
   "outputs": [],
   "source": [
    "# define parameters\n",
    "verbose, epochs, batch_size = 1, 50, 10\n",
    "n_timesteps, n_features, n_outputs = train_X_lstm.shape[1], train_X_lstm.shape[2], train_Y_lstm.shape[1]"
   ]
  },
  {
   "cell_type": "code",
   "execution_count": 77,
   "metadata": {
    "colab": {
     "base_uri": "https://localhost:8080/",
     "height": 34
    },
    "colab_type": "code",
    "executionInfo": {
     "elapsed": 1035,
     "status": "ok",
     "timestamp": 1584303211963,
     "user": {
      "displayName": "Eser İnan Arslan",
      "photoUrl": "https://lh3.googleusercontent.com/a-/AOh14Ggz536p806W0W9-wxWFfPdVV303PuNNPAhu9S1UjA=s64",
      "userId": "01966049699378036829"
     },
     "user_tz": -180
    },
    "id": "sD3qL6Q-1vKX",
    "outputId": "5d9f9b1d-0eff-4454-c8b4-938f6513a931"
   },
   "outputs": [
    {
     "data": {
      "text/plain": [
       "(1, 12, 1)"
      ]
     },
     "execution_count": 77,
     "metadata": {
      "tags": []
     },
     "output_type": "execute_result"
    }
   ],
   "source": [
    "n_timesteps, n_features, n_outputs"
   ]
  },
  {
   "cell_type": "code",
   "execution_count": 0,
   "metadata": {
    "colab": {},
    "colab_type": "code",
    "id": "OPexm-oa2zki"
   },
   "outputs": [],
   "source": []
  },
  {
   "cell_type": "code",
   "execution_count": 0,
   "metadata": {
    "colab": {},
    "colab_type": "code",
    "id": "MW3nHrle1-AD"
   },
   "outputs": [],
   "source": [
    "# define model\n",
    "lstm_model = Sequential()\n",
    "lstm_model.add(Conv1D(filters=32, kernel_size=5,\n",
    "                  strides=1, padding=\"causal\",\n",
    "                  activation=\"relu\",\n",
    "                  input_shape=(n_timesteps, n_features)))"
   ]
  },
  {
   "cell_type": "code",
   "execution_count": 0,
   "metadata": {
    "colab": {},
    "colab_type": "code",
    "id": "xjiVqflu2Ndf"
   },
   "outputs": [],
   "source": [
    "lstm_model.add(LSTM(200, activation='relu', return_sequences=True))\n",
    "# lstm_model.add(RepeatVector(n_outputs))\n",
    "lstm_model.add(LSTM(200, activation='relu', return_sequences=True))\n",
    "lstm_model.add(TimeDistributed(Dense(1, activation='relu')))\n",
    "#lstm_model.add(TimeDistributed(Dense(1)))\n",
    "#lstm_model.compile(loss='mse', optimizer=Adam(lr=0.001))\n",
    "lstm_model.compile(loss='mse', optimizer=Adam(lr=0.001),\n",
    "              metrics=['acc'])"
   ]
  },
  {
   "cell_type": "code",
   "execution_count": 81,
   "metadata": {
    "colab": {
     "base_uri": "https://localhost:8080/",
     "height": 34
    },
    "colab_type": "code",
    "executionInfo": {
     "elapsed": 651,
     "status": "ok",
     "timestamp": 1584303237043,
     "user": {
      "displayName": "Eser İnan Arslan",
      "photoUrl": "https://lh3.googleusercontent.com/a-/AOh14Ggz536p806W0W9-wxWFfPdVV303PuNNPAhu9S1UjA=s64",
      "userId": "01966049699378036829"
     },
     "user_tz": -180
    },
    "id": "b-hOSDGb4QMy",
    "outputId": "db1d0cdb-f7c8-45e1-ecf6-96de07ca19d2"
   },
   "outputs": [
    {
     "data": {
      "text/plain": [
       "((83, 1, 12), (83, 1, 1))"
      ]
     },
     "execution_count": 81,
     "metadata": {
      "tags": []
     },
     "output_type": "execute_result"
    }
   ],
   "source": [
    "train_X_lstm.shape, train_Y_lstm.shape"
   ]
  },
  {
   "cell_type": "code",
   "execution_count": 82,
   "metadata": {
    "colab": {
     "base_uri": "https://localhost:8080/",
     "height": 1000
    },
    "colab_type": "code",
    "executionInfo": {
     "elapsed": 27664,
     "status": "ok",
     "timestamp": 1584303266203,
     "user": {
      "displayName": "Eser İnan Arslan",
      "photoUrl": "https://lh3.googleusercontent.com/a-/AOh14Ggz536p806W0W9-wxWFfPdVV303PuNNPAhu9S1UjA=s64",
      "userId": "01966049699378036829"
     },
     "user_tz": -180
    },
    "id": "4KlZIJkZ2btx",
    "outputId": "7e24c9e9-fca8-4475-fe72-ab72099dd03f"
   },
   "outputs": [
    {
     "name": "stdout",
     "output_type": "stream",
     "text": [
      "Train on 83 samples, validate on 9 samples\n",
      "Epoch 1/50\n",
      "83/83 [==============================] - 4s 52ms/step - loss: 0.5515 - acc: 0.0120 - val_loss: 0.4663 - val_acc: 0.0000e+00\n",
      "Epoch 2/50\n",
      "83/83 [==============================] - 0s 5ms/step - loss: 0.5084 - acc: 0.0120 - val_loss: 0.4175 - val_acc: 0.0000e+00\n",
      "Epoch 3/50\n",
      "83/83 [==============================] - 0s 5ms/step - loss: 0.4421 - acc: 0.0120 - val_loss: 0.3307 - val_acc: 0.0000e+00\n",
      "Epoch 4/50\n",
      "83/83 [==============================] - 0s 5ms/step - loss: 0.3005 - acc: 0.0120 - val_loss: 0.1196 - val_acc: 0.0000e+00\n",
      "Epoch 5/50\n",
      "83/83 [==============================] - 0s 5ms/step - loss: 0.0738 - acc: 0.0120 - val_loss: 0.0836 - val_acc: 0.0000e+00\n",
      "Epoch 6/50\n",
      "83/83 [==============================] - 0s 5ms/step - loss: 0.0392 - acc: 0.0120 - val_loss: 0.0468 - val_acc: 0.0000e+00\n",
      "Epoch 7/50\n",
      "83/83 [==============================] - 0s 5ms/step - loss: 0.0339 - acc: 0.0120 - val_loss: 0.0546 - val_acc: 0.0000e+00\n",
      "Epoch 8/50\n",
      "83/83 [==============================] - 0s 5ms/step - loss: 0.0342 - acc: 0.0120 - val_loss: 0.0440 - val_acc: 0.0000e+00\n",
      "Epoch 9/50\n",
      "83/83 [==============================] - 0s 5ms/step - loss: 0.0292 - acc: 0.0120 - val_loss: 0.0433 - val_acc: 0.0000e+00\n",
      "Epoch 10/50\n",
      "83/83 [==============================] - 0s 5ms/step - loss: 0.0290 - acc: 0.0120 - val_loss: 0.0463 - val_acc: 0.0000e+00\n",
      "Epoch 11/50\n",
      "83/83 [==============================] - 0s 5ms/step - loss: 0.0286 - acc: 0.0120 - val_loss: 0.0423 - val_acc: 0.0000e+00\n",
      "Epoch 12/50\n",
      "83/83 [==============================] - 0s 5ms/step - loss: 0.0278 - acc: 0.0120 - val_loss: 0.0435 - val_acc: 0.0000e+00\n",
      "Epoch 13/50\n",
      "83/83 [==============================] - 0s 5ms/step - loss: 0.0278 - acc: 0.0120 - val_loss: 0.0417 - val_acc: 0.0000e+00\n",
      "Epoch 14/50\n",
      "83/83 [==============================] - 0s 5ms/step - loss: 0.0271 - acc: 0.0120 - val_loss: 0.0413 - val_acc: 0.0000e+00\n",
      "Epoch 15/50\n",
      "83/83 [==============================] - 0s 5ms/step - loss: 0.0269 - acc: 0.0120 - val_loss: 0.0405 - val_acc: 0.0000e+00\n",
      "Epoch 16/50\n",
      "83/83 [==============================] - 0s 5ms/step - loss: 0.0263 - acc: 0.0120 - val_loss: 0.0396 - val_acc: 0.0000e+00\n",
      "Epoch 17/50\n",
      "83/83 [==============================] - 0s 5ms/step - loss: 0.0259 - acc: 0.0120 - val_loss: 0.0388 - val_acc: 0.0000e+00\n",
      "Epoch 18/50\n",
      "83/83 [==============================] - 0s 5ms/step - loss: 0.0255 - acc: 0.0120 - val_loss: 0.0378 - val_acc: 0.0000e+00\n",
      "Epoch 19/50\n",
      "83/83 [==============================] - 0s 5ms/step - loss: 0.0250 - acc: 0.0120 - val_loss: 0.0369 - val_acc: 0.0000e+00\n",
      "Epoch 20/50\n",
      "83/83 [==============================] - 0s 5ms/step - loss: 0.0244 - acc: 0.0120 - val_loss: 0.0358 - val_acc: 0.0000e+00\n",
      "Epoch 21/50\n",
      "83/83 [==============================] - 0s 5ms/step - loss: 0.0239 - acc: 0.0120 - val_loss: 0.0347 - val_acc: 0.0000e+00\n",
      "Epoch 22/50\n",
      "83/83 [==============================] - 0s 5ms/step - loss: 0.0233 - acc: 0.0120 - val_loss: 0.0336 - val_acc: 0.0000e+00\n",
      "Epoch 23/50\n",
      "83/83 [==============================] - 0s 5ms/step - loss: 0.0227 - acc: 0.0120 - val_loss: 0.0323 - val_acc: 0.0000e+00\n",
      "Epoch 24/50\n",
      "83/83 [==============================] - 0s 5ms/step - loss: 0.0220 - acc: 0.0120 - val_loss: 0.0310 - val_acc: 0.0000e+00\n",
      "Epoch 25/50\n",
      "83/83 [==============================] - 0s 5ms/step - loss: 0.0213 - acc: 0.0120 - val_loss: 0.0296 - val_acc: 0.0000e+00\n",
      "Epoch 26/50\n",
      "83/83 [==============================] - 0s 5ms/step - loss: 0.0206 - acc: 0.0120 - val_loss: 0.0282 - val_acc: 0.0000e+00\n",
      "Epoch 27/50\n",
      "83/83 [==============================] - 0s 5ms/step - loss: 0.0198 - acc: 0.0120 - val_loss: 0.0266 - val_acc: 0.0000e+00\n",
      "Epoch 28/50\n",
      "83/83 [==============================] - 0s 5ms/step - loss: 0.0190 - acc: 0.0120 - val_loss: 0.0251 - val_acc: 0.0000e+00\n",
      "Epoch 29/50\n",
      "83/83 [==============================] - 0s 5ms/step - loss: 0.0182 - acc: 0.0120 - val_loss: 0.0235 - val_acc: 0.0000e+00\n",
      "Epoch 30/50\n",
      "83/83 [==============================] - 0s 5ms/step - loss: 0.0173 - acc: 0.0120 - val_loss: 0.0219 - val_acc: 0.0000e+00\n",
      "Epoch 31/50\n",
      "83/83 [==============================] - 0s 5ms/step - loss: 0.0165 - acc: 0.0120 - val_loss: 0.0202 - val_acc: 0.0000e+00\n",
      "Epoch 32/50\n",
      "83/83 [==============================] - 0s 5ms/step - loss: 0.0156 - acc: 0.0120 - val_loss: 0.0187 - val_acc: 0.0000e+00\n",
      "Epoch 33/50\n",
      "83/83 [==============================] - 0s 5ms/step - loss: 0.0147 - acc: 0.0120 - val_loss: 0.0171 - val_acc: 0.0000e+00\n",
      "Epoch 34/50\n",
      "83/83 [==============================] - 0s 5ms/step - loss: 0.0138 - acc: 0.0120 - val_loss: 0.0155 - val_acc: 0.0000e+00\n",
      "Epoch 35/50\n",
      "83/83 [==============================] - 0s 5ms/step - loss: 0.0130 - acc: 0.0120 - val_loss: 0.0141 - val_acc: 0.0000e+00\n",
      "Epoch 36/50\n",
      "83/83 [==============================] - 0s 5ms/step - loss: 0.0122 - acc: 0.0120 - val_loss: 0.0128 - val_acc: 0.0000e+00\n",
      "Epoch 37/50\n",
      "83/83 [==============================] - 0s 5ms/step - loss: 0.0114 - acc: 0.0120 - val_loss: 0.0116 - val_acc: 0.0000e+00\n",
      "Epoch 38/50\n",
      "83/83 [==============================] - 0s 5ms/step - loss: 0.0108 - acc: 0.0120 - val_loss: 0.0105 - val_acc: 0.0000e+00\n",
      "Epoch 39/50\n",
      "83/83 [==============================] - 0s 5ms/step - loss: 0.0102 - acc: 0.0120 - val_loss: 0.0096 - val_acc: 0.0000e+00\n",
      "Epoch 40/50\n",
      "83/83 [==============================] - 0s 5ms/step - loss: 0.0097 - acc: 0.0120 - val_loss: 0.0088 - val_acc: 0.0000e+00\n",
      "Epoch 41/50\n",
      "83/83 [==============================] - 0s 5ms/step - loss: 0.0093 - acc: 0.0120 - val_loss: 0.0082 - val_acc: 0.0000e+00\n",
      "Epoch 42/50\n",
      "83/83 [==============================] - 0s 5ms/step - loss: 0.0090 - acc: 0.0241 - val_loss: 0.0077 - val_acc: 0.0000e+00\n",
      "Epoch 43/50\n",
      "83/83 [==============================] - 0s 5ms/step - loss: 0.0088 - acc: 0.0241 - val_loss: 0.0074 - val_acc: 0.0000e+00\n",
      "Epoch 44/50\n",
      "83/83 [==============================] - 0s 5ms/step - loss: 0.0086 - acc: 0.0241 - val_loss: 0.0071 - val_acc: 0.0000e+00\n",
      "Epoch 45/50\n",
      "83/83 [==============================] - 0s 5ms/step - loss: 0.0085 - acc: 0.0241 - val_loss: 0.0069 - val_acc: 0.0000e+00\n",
      "Epoch 46/50\n",
      "83/83 [==============================] - 0s 5ms/step - loss: 0.0085 - acc: 0.0241 - val_loss: 0.0067 - val_acc: 0.0000e+00\n",
      "Epoch 47/50\n",
      "83/83 [==============================] - 0s 5ms/step - loss: 0.0084 - acc: 0.0241 - val_loss: 0.0065 - val_acc: 0.0000e+00\n",
      "Epoch 48/50\n",
      "83/83 [==============================] - 0s 5ms/step - loss: 0.0084 - acc: 0.0241 - val_loss: 0.0064 - val_acc: 0.0000e+00\n",
      "Epoch 49/50\n",
      "83/83 [==============================] - 0s 5ms/step - loss: 0.0083 - acc: 0.0241 - val_loss: 0.0062 - val_acc: 0.0000e+00\n",
      "Epoch 50/50\n",
      "83/83 [==============================] - 0s 5ms/step - loss: 0.0083 - acc: 0.0241 - val_loss: 0.0060 - val_acc: 0.0000e+00\n",
      "Model: \"sequential_2\"\n",
      "_________________________________________________________________\n",
      "Layer (type)                 Output Shape              Param #   \n",
      "=================================================================\n",
      "conv1d_2 (Conv1D)            (None, 1, 32)             1952      \n",
      "_________________________________________________________________\n",
      "lstm_3 (LSTM)                (None, 1, 200)            186400    \n",
      "_________________________________________________________________\n",
      "lstm_4 (LSTM)                (None, 1, 200)            320800    \n",
      "_________________________________________________________________\n",
      "time_distributed_2 (TimeDist (None, 1, 1)              201       \n",
      "_________________________________________________________________\n",
      "lstm_5 (LSTM)                (None, 1, 200)            161600    \n",
      "_________________________________________________________________\n",
      "lstm_6 (LSTM)                (None, 1, 200)            320800    \n",
      "_________________________________________________________________\n",
      "time_distributed_3 (TimeDist (None, 1, 1)              201       \n",
      "=================================================================\n",
      "Total params: 991,954\n",
      "Trainable params: 991,954\n",
      "Non-trainable params: 0\n",
      "_________________________________________________________________\n",
      "LSTM process finished at :  2020-03-15 20:14:25.897986\n",
      "LSTM process took :  0:00:27.150521\n"
     ]
    }
   ],
   "source": [
    "now = datetime.now()\n",
    "\n",
    "history = lstm_model.fit(train_X_lstm, train_Y_lstm, epochs=epochs, batch_size=batch_size, validation_data=(test_X_lstm, test_Y_lstm), \n",
    "                    callbacks=[EarlyStopping(monitor='val_loss', patience=10)], verbose=verbose, shuffle=False)\n",
    "\n",
    "lstm_model.summary()\n",
    "\n",
    "end = datetime.now()\n",
    "print(\"LSTM process finished at : \", end)\n",
    "print(\"LSTM process took : \", end-now)"
   ]
  },
  {
   "cell_type": "code",
   "execution_count": 83,
   "metadata": {
    "colab": {
     "base_uri": "https://localhost:8080/",
     "height": 34
    },
    "colab_type": "code",
    "executionInfo": {
     "elapsed": 1313,
     "status": "ok",
     "timestamp": 1584303276549,
     "user": {
      "displayName": "Eser İnan Arslan",
      "photoUrl": "https://lh3.googleusercontent.com/a-/AOh14Ggz536p806W0W9-wxWFfPdVV303PuNNPAhu9S1UjA=s64",
      "userId": "01966049699378036829"
     },
     "user_tz": -180
    },
    "id": "bW0Atubn4Kri",
    "outputId": "8f5fd49e-f866-47af-f037-33a58476382f"
   },
   "outputs": [
    {
     "name": "stdout",
     "output_type": "stream",
     "text": [
      "\r",
      "9/9 [==============================] - 1s 73ms/step\n"
     ]
    }
   ],
   "source": [
    "# Predict results with LSTM Model\n",
    "lstm_predicts = lstm_model.predict(test_X_lstm, verbose=verbose)"
   ]
  },
  {
   "cell_type": "code",
   "execution_count": 84,
   "metadata": {
    "colab": {
     "base_uri": "https://localhost:8080/",
     "height": 306
    },
    "colab_type": "code",
    "executionInfo": {
     "elapsed": 993,
     "status": "ok",
     "timestamp": 1584303279030,
     "user": {
      "displayName": "Eser İnan Arslan",
      "photoUrl": "https://lh3.googleusercontent.com/a-/AOh14Ggz536p806W0W9-wxWFfPdVV303PuNNPAhu9S1UjA=s64",
      "userId": "01966049699378036829"
     },
     "user_tz": -180
    },
    "id": "kHPyI2AA7MeL",
    "outputId": "0a01254e-4feb-4cde-da4d-962e3388c910"
   },
   "outputs": [
    {
     "data": {
      "text/plain": [
       "array([[[0.37457186]],\n",
       "\n",
       "       [[0.6391264 ]],\n",
       "\n",
       "       [[0.76457036]],\n",
       "\n",
       "       [[0.73379314]],\n",
       "\n",
       "       [[0.7591766 ]],\n",
       "\n",
       "       [[0.65569663]],\n",
       "\n",
       "       [[0.6298213 ]],\n",
       "\n",
       "       [[0.49676606]],\n",
       "\n",
       "       [[0.98317885]]], dtype=float32)"
      ]
     },
     "execution_count": 84,
     "metadata": {
      "tags": []
     },
     "output_type": "execute_result"
    }
   ],
   "source": [
    "lstm_predicts"
   ]
  },
  {
   "cell_type": "code",
   "execution_count": 85,
   "metadata": {
    "colab": {
     "base_uri": "https://localhost:8080/",
     "height": 476
    },
    "colab_type": "code",
    "executionInfo": {
     "elapsed": 800,
     "status": "ok",
     "timestamp": 1584303282553,
     "user": {
      "displayName": "Eser İnan Arslan",
      "photoUrl": "https://lh3.googleusercontent.com/a-/AOh14Ggz536p806W0W9-wxWFfPdVV303PuNNPAhu9S1UjA=s64",
      "userId": "01966049699378036829"
     },
     "user_tz": -180
    },
    "id": "suidDyi0AS0I",
    "outputId": "059613c1-9950-48e6-ff93-d2d02a6958e9"
   },
   "outputs": [
    {
     "data": {
      "text/plain": [
       "array([[0.13713148, 0.6747383 , 0.79651874, 0.74937373, 0.7457769 ,\n",
       "        0.7155887 , 0.7088445 , 0.5333034 , 1.        , 0.7904811 ,\n",
       "        0.90866464, 0.9053889 , 0.18980025],\n",
       "       [0.6747383 , 0.79651874, 0.74937373, 0.7457769 , 0.7155887 ,\n",
       "        0.7088445 , 0.5333034 , 1.        , 0.7904811 , 0.90866464,\n",
       "        0.9053889 , 0.18980025, 0.6739675 ],\n",
       "       [0.79651874, 0.74937373, 0.7457769 , 0.7155887 , 0.7088445 ,\n",
       "        0.5333034 , 1.        , 0.7904811 , 0.90866464, 0.9053889 ,\n",
       "        0.18980025, 0.6739675 , 0.7893892 ],\n",
       "       [0.74937373, 0.7457769 , 0.7155887 , 0.7088445 , 0.5333034 ,\n",
       "        1.        , 0.7904811 , 0.90866464, 0.9053889 , 0.18980025,\n",
       "        0.6739675 , 0.7893892 , 0.73787653],\n",
       "       [0.7457769 , 0.7155887 , 0.7088445 , 0.5333034 , 1.        ,\n",
       "        0.7904811 , 0.90866464, 0.9053889 , 0.18980025, 0.6739675 ,\n",
       "        0.7893892 , 0.73787653, 0.71340483],\n",
       "       [0.7155887 , 0.7088445 , 0.5333034 , 1.        , 0.7904811 ,\n",
       "        0.90866464, 0.9053889 , 0.18980025, 0.6739675 , 0.7893892 ,\n",
       "        0.73787653, 0.71340483, 0.76889974],\n",
       "       [0.7088445 , 0.5333034 , 1.        , 0.7904811 , 0.90866464,\n",
       "        0.9053889 , 0.18980025, 0.6739675 , 0.7893892 , 0.73787653,\n",
       "        0.71340483, 0.76889974, 0.6591945 ],\n",
       "       [0.5333034 , 1.        , 0.7904811 , 0.90866464, 0.9053889 ,\n",
       "        0.18980025, 0.6739675 , 0.7893892 , 0.73787653, 0.71340483,\n",
       "        0.76889974, 0.6591945 , 0.5390198 ],\n",
       "       [1.        , 0.7904811 , 0.90866464, 0.9053889 , 0.18980025,\n",
       "        0.6739675 , 0.7893892 , 0.73787653, 0.71340483, 0.76889974,\n",
       "        0.6591945 , 0.5390198 , 1.0110476 ]], dtype=float32)"
      ]
     },
     "execution_count": 85,
     "metadata": {
      "tags": []
     },
     "output_type": "execute_result"
    }
   ],
   "source": [
    "test_scaled"
   ]
  },
  {
   "cell_type": "code",
   "execution_count": 0,
   "metadata": {
    "colab": {},
    "colab_type": "code",
    "id": "leqChZsQ-jz_"
   },
   "outputs": [],
   "source": [
    "# Invert scaled predictons to time series\n",
    "predictions = list()\n",
    "start = 9 # test period\n",
    "l = len(test_scaled) - start\n",
    "\n",
    "lstm_rmse = []\n",
    "lstm_mape = []\n",
    "\n",
    "for i in range(len(test_scaled)):\n",
    "    X1, y = test_scaled[l, 0:-1], test_scaled[l, -1]\n",
    "    X1 = X1[-12:] # ts_window\n",
    "\n",
    "    X1 = X1.reshape((1,-1))\n",
    "\n",
    "    yhat = invert_scale(scaler, X1[0], lstm_predicts[i][0])\n",
    "        \n",
    "    l=l+1\n",
    "\n",
    "    yhat = inverse_difference(train['Sales'], yhat, len(test_scaled) + 1 - i)\n",
    "\n",
    "    predictions.append(yhat)\n",
    "\n",
    "    lstm_rmse.append(sqrt(mean_squared_error([train['Sales'][-9:][i]], [yhat])))\n",
    "    lstm_mape.append(mean_absolute_percentage_error([train['Sales'][-9:][i]], [yhat]))"
   ]
  },
  {
   "cell_type": "code",
   "execution_count": 87,
   "metadata": {
    "colab": {
     "base_uri": "https://localhost:8080/",
     "height": 170
    },
    "colab_type": "code",
    "executionInfo": {
     "elapsed": 702,
     "status": "ok",
     "timestamp": 1584303287850,
     "user": {
      "displayName": "Eser İnan Arslan",
      "photoUrl": "https://lh3.googleusercontent.com/a-/AOh14Ggz536p806W0W9-wxWFfPdVV303PuNNPAhu9S1UjA=s64",
      "userId": "01966049699378036829"
     },
     "user_tz": -180
    },
    "id": "HKR9rWSg-j8W",
    "outputId": "414f68c4-4c70-4516-e1d9-ce37e4539af8"
   },
   "outputs": [
    {
     "data": {
      "text/plain": [
       "[7224.709285795688,\n",
       " 3021.5592333078375,\n",
       " 4190.5958634614935,\n",
       " 4724.425388216971,\n",
       " 5330.6206706762305,\n",
       " 3549.5408399105063,\n",
       " 3840.687827587127,\n",
       " 755.1507973372927,\n",
       " 5443.1115777492505]"
      ]
     },
     "execution_count": 87,
     "metadata": {
      "tags": []
     },
     "output_type": "execute_result"
    }
   ],
   "source": [
    "predictions"
   ]
  },
  {
   "cell_type": "code",
   "execution_count": 88,
   "metadata": {
    "colab": {
     "base_uri": "https://localhost:8080/",
     "height": 51
    },
    "colab_type": "code",
    "executionInfo": {
     "elapsed": 840,
     "status": "ok",
     "timestamp": 1584303293264,
     "user": {
      "displayName": "Eser İnan Arslan",
      "photoUrl": "https://lh3.googleusercontent.com/a-/AOh14Ggz536p806W0W9-wxWFfPdVV303PuNNPAhu9S1UjA=s64",
      "userId": "01966049699378036829"
     },
     "user_tz": -180
    },
    "id": "cqMrgFPI-kAU",
    "outputId": "acb66d5e-d7a7-4f35-8b52-90d4d5576b61"
   },
   "outputs": [
    {
     "name": "stdout",
     "output_type": "stream",
     "text": [
      "LSTM RMSE: 877.0287143223821\n",
      "LSTM MAPE: 22.704644954393036\n"
     ]
    }
   ],
   "source": [
    "print(\"LSTM RMSE:\", np.mean(lstm_rmse))\n",
    "print(\"LSTM MAPE:\", np.mean(lstm_mape))"
   ]
  },
  {
   "cell_type": "code",
   "execution_count": 0,
   "metadata": {
    "colab": {},
    "colab_type": "code",
    "id": "cqsN0n2JLEo1"
   },
   "outputs": [],
   "source": []
  },
  {
   "cell_type": "code",
   "execution_count": 89,
   "metadata": {
    "colab": {
     "base_uri": "https://localhost:8080/",
     "height": 328
    },
    "colab_type": "code",
    "executionInfo": {
     "elapsed": 813,
     "status": "ok",
     "timestamp": 1584303562876,
     "user": {
      "displayName": "Eser İnan Arslan",
      "photoUrl": "https://lh3.googleusercontent.com/a-/AOh14Ggz536p806W0W9-wxWFfPdVV303PuNNPAhu9S1UjA=s64",
      "userId": "01966049699378036829"
     },
     "user_tz": -180
    },
    "id": "SbNphIJFLEld",
    "outputId": "d5c990f8-4e4c-496d-bcb9-11c9528106e9"
   },
   "outputs": [
    {
     "data": {
      "text/html": [
       "<div>\n",
       "<style scoped>\n",
       "    .dataframe tbody tr th:only-of-type {\n",
       "        vertical-align: middle;\n",
       "    }\n",
       "\n",
       "    .dataframe tbody tr th {\n",
       "        vertical-align: top;\n",
       "    }\n",
       "\n",
       "    .dataframe thead th {\n",
       "        text-align: right;\n",
       "    }\n",
       "</style>\n",
       "<table border=\"1\" class=\"dataframe\">\n",
       "  <thead>\n",
       "    <tr style=\"text-align: right;\">\n",
       "      <th></th>\n",
       "      <th>Month</th>\n",
       "      <th>Sales</th>\n",
       "      <th>XGB_Predictions</th>\n",
       "      <th>Arima_Predictions</th>\n",
       "      <th>LSTM_Predictions</th>\n",
       "    </tr>\n",
       "  </thead>\n",
       "  <tbody>\n",
       "    <tr>\n",
       "      <th>96</th>\n",
       "      <td>1992-01</td>\n",
       "      <td>4348</td>\n",
       "      <td>8691.643859</td>\n",
       "      <td>3580.722570</td>\n",
       "      <td>7224.709286</td>\n",
       "    </tr>\n",
       "    <tr>\n",
       "      <th>97</th>\n",
       "      <td>1992-02</td>\n",
       "      <td>3564</td>\n",
       "      <td>4552.308067</td>\n",
       "      <td>3091.800762</td>\n",
       "      <td>3021.559233</td>\n",
       "    </tr>\n",
       "    <tr>\n",
       "      <th>98</th>\n",
       "      <td>1992-03</td>\n",
       "      <td>4577</td>\n",
       "      <td>4804.287003</td>\n",
       "      <td>4095.452592</td>\n",
       "      <td>4190.595863</td>\n",
       "    </tr>\n",
       "    <tr>\n",
       "      <th>99</th>\n",
       "      <td>1992-04</td>\n",
       "      <td>4788</td>\n",
       "      <td>5413.343609</td>\n",
       "      <td>4454.957978</td>\n",
       "      <td>4724.425388</td>\n",
       "    </tr>\n",
       "    <tr>\n",
       "      <th>100</th>\n",
       "      <td>1992-05</td>\n",
       "      <td>4618</td>\n",
       "      <td>5330.312580</td>\n",
       "      <td>4605.299740</td>\n",
       "      <td>5330.620671</td>\n",
       "    </tr>\n",
       "    <tr>\n",
       "      <th>101</th>\n",
       "      <td>1992-06</td>\n",
       "      <td>5312</td>\n",
       "      <td>4996.354384</td>\n",
       "      <td>4651.245721</td>\n",
       "      <td>3549.540840</td>\n",
       "    </tr>\n",
       "    <tr>\n",
       "      <th>102</th>\n",
       "      <td>1992-07</td>\n",
       "      <td>4298</td>\n",
       "      <td>6042.409513</td>\n",
       "      <td>4440.993724</td>\n",
       "      <td>3840.687828</td>\n",
       "    </tr>\n",
       "    <tr>\n",
       "      <th>103</th>\n",
       "      <td>1992-08</td>\n",
       "      <td>1413</td>\n",
       "      <td>1366.224556</td>\n",
       "      <td>1587.028202</td>\n",
       "      <td>755.150797</td>\n",
       "    </tr>\n",
       "    <tr>\n",
       "      <th>104</th>\n",
       "      <td>1992-09</td>\n",
       "      <td>5877</td>\n",
       "      <td>2709.482973</td>\n",
       "      <td>5696.168133</td>\n",
       "      <td>5443.111578</td>\n",
       "    </tr>\n",
       "  </tbody>\n",
       "</table>\n",
       "</div>"
      ],
      "text/plain": [
       "       Month  Sales  XGB_Predictions  Arima_Predictions  LSTM_Predictions\n",
       "96   1992-01   4348      8691.643859        3580.722570       7224.709286\n",
       "97   1992-02   3564      4552.308067        3091.800762       3021.559233\n",
       "98   1992-03   4577      4804.287003        4095.452592       4190.595863\n",
       "99   1992-04   4788      5413.343609        4454.957978       4724.425388\n",
       "100  1992-05   4618      5330.312580        4605.299740       5330.620671\n",
       "101  1992-06   5312      4996.354384        4651.245721       3549.540840\n",
       "102  1992-07   4298      6042.409513        4440.993724       3840.687828\n",
       "103  1992-08   1413      1366.224556        1587.028202        755.150797\n",
       "104  1992-09   5877      2709.482973        5696.168133       5443.111578"
      ]
     },
     "execution_count": 89,
     "metadata": {
      "tags": []
     },
     "output_type": "execute_result"
    }
   ],
   "source": [
    "result_df['LSTM_Predictions'] = predictions\n",
    "result_df.head(9)"
   ]
  },
  {
   "cell_type": "code",
   "execution_count": 90,
   "metadata": {
    "colab": {
     "base_uri": "https://localhost:8080/",
     "height": 284
    },
    "colab_type": "code",
    "executionInfo": {
     "elapsed": 897,
     "status": "ok",
     "timestamp": 1584303574802,
     "user": {
      "displayName": "Eser İnan Arslan",
      "photoUrl": "https://lh3.googleusercontent.com/a-/AOh14Ggz536p806W0W9-wxWFfPdVV303PuNNPAhu9S1UjA=s64",
      "userId": "01966049699378036829"
     },
     "user_tz": -180
    },
    "id": "97FgxfqzLOOO",
    "outputId": "b2fb4ee2-2dc3-41cd-855d-29a0a34fcc67"
   },
   "outputs": [
    {
     "data": {
      "text/plain": [
       "<matplotlib.axes._subplots.AxesSubplot at 0x7f6877abca90>"
      ]
     },
     "execution_count": 90,
     "metadata": {
      "tags": []
     },
     "output_type": "execute_result"
    },
    {
     "data": {
      "image/png": "[encoded data removed]",
      "text/plain": [
       "<Figure size 720x288 with 1 Axes>"
      ]
     },
     "metadata": {
      "tags": []
     },
     "output_type": "display_data"
    }
   ],
   "source": [
    "result_df[:9].plot(figsize=(10,4))"
   ]
  },
  {
   "cell_type": "code",
   "execution_count": 0,
   "metadata": {
    "colab": {},
    "colab_type": "code",
    "id": "a1WMNpK6VI0e"
   },
   "outputs": [],
   "source": [
    "#Export dataframe as a csv\n",
    "result_df.to_csv(\"results.csv\", index=0)"
   ]
  },
  {
   "cell_type": "code",
   "execution_count": 0,
   "metadata": {
    "colab": {},
    "colab_type": "code",
    "id": "6Mv1bG-iUrZv"
   },
   "outputs": [],
   "source": []
  }
 ],
 "metadata": {
  "colab": {
   "collapsed_sections": [],
   "name": "GE_SalesPrediction.ipynb",
   "provenance": [],
   "toc_visible": true
  },
  "kernelspec": {
   "display_name": "Python 3",
   "language": "python",
   "name": "python3"
  },
  "language_info": {
   "codemirror_mode": {
    "name": "ipython",
    "version": 3
   },
   "file_extension": ".py",
   "mimetype": "text/x-python",
   "name": "python",
   "nbconvert_exporter": "python",
   "pygments_lexer": "ipython3",
   "version": "3.7.9"
  }
 },
 "nbformat": 4,
 "nbformat_minor": 1
}
